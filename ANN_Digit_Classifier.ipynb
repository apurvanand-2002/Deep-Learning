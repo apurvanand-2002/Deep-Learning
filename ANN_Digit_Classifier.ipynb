{
  "nbformat": 4,
  "nbformat_minor": 0,
  "metadata": {
    "colab": {
      "provenance": []
    },
    "kernelspec": {
      "name": "python3",
      "display_name": "Python 3"
    },
    "language_info": {
      "name": "python"
    }
  },
  "cells": [
    {
      "cell_type": "code",
      "execution_count": 1,
      "metadata": {
        "id": "IIFHxkcAqqq6"
      },
      "outputs": [],
      "source": [
        "import numpy as np\n",
        "import pandas as pd\n",
        "%matplotlib inline\n",
        "import matplotlib as mlp\n",
        "import matplotlib.pyplot as plt"
      ]
    },
    {
      "cell_type": "code",
      "source": [
        "import tensorflow as tf\n",
        "from tensorflow import keras"
      ],
      "metadata": {
        "id": "eTfQ5ugWq9uB"
      },
      "execution_count": 2,
      "outputs": []
    },
    {
      "cell_type": "code",
      "source": [
        "digit_mnist = keras.datasets.mnist"
      ],
      "metadata": {
        "id": "CacY4AvZrJXX"
      },
      "execution_count": 4,
      "outputs": []
    },
    {
      "cell_type": "code",
      "source": [
        "(X_train_full,y_train_full),(X_test,y_test)=digit_mnist.load_data()"
      ],
      "metadata": {
        "colab": {
          "base_uri": "https://localhost:8080/"
        },
        "id": "t0WAk6YMreaz",
        "outputId": "67aa1f9e-acfb-415b-9c48-c376a153f395"
      },
      "execution_count": 5,
      "outputs": [
        {
          "output_type": "stream",
          "name": "stdout",
          "text": [
            "Downloading data from https://storage.googleapis.com/tensorflow/tf-keras-datasets/mnist.npz\n",
            "11490434/11490434 [==============================] - 1s 0us/step\n"
          ]
        }
      ]
    },
    {
      "cell_type": "code",
      "source": [
        "plt.imshow(X_train_full[0])"
      ],
      "metadata": {
        "colab": {
          "base_uri": "https://localhost:8080/",
          "height": 282
        },
        "id": "a07DJwOqr_23",
        "outputId": "5e28f14e-768b-4808-b978-ea015c5f3bf7"
      },
      "execution_count": 6,
      "outputs": [
        {
          "output_type": "execute_result",
          "data": {
            "text/plain": [
              "<matplotlib.image.AxesImage at 0x7f7e2b707790>"
            ]
          },
          "metadata": {},
          "execution_count": 6
        },
        {
          "output_type": "display_data",
          "data": {
            "text/plain": [
              "<Figure size 432x288 with 1 Axes>"
            ],
            "image/png": "[encoded data removed]"
          },
          "metadata": {
            "needs_background": "light"
          }
        }
      ]
    },
    {
      "cell_type": "code",
      "source": [
        "plt.imshow(X_train_full[1])"
      ],
      "metadata": {
        "colab": {
          "base_uri": "https://localhost:8080/",
          "height": 282
        },
        "id": "H06ck4v1sHCw",
        "outputId": "8cdeeaeb-53c1-4324-8607-14e3861df516"
      },
      "execution_count": 7,
      "outputs": [
        {
          "output_type": "execute_result",
          "data": {
            "text/plain": [
              "<matplotlib.image.AxesImage at 0x7f7e2b1d8d30>"
            ]
          },
          "metadata": {},
          "execution_count": 7
        },
        {
          "output_type": "display_data",
          "data": {
            "text/plain": [
              "<Figure size 432x288 with 1 Axes>"
            ],
            "image/png": "[encoded data removed]"
          },
          "metadata": {
            "needs_background": "light"
          }
        }
      ]
    },
    {
      "cell_type": "code",
      "source": [
        "plt.imshow(X_train_full[2])"
      ],
      "metadata": {
        "colab": {
          "base_uri": "https://localhost:8080/",
          "height": 282
        },
        "id": "YFR_AFNqsOji",
        "outputId": "e16cf674-5241-4444-f237-faf4b09ccdac"
      },
      "execution_count": 8,
      "outputs": [
        {
          "output_type": "execute_result",
          "data": {
            "text/plain": [
              "<matplotlib.image.AxesImage at 0x7f7e2b1bb4f0>"
            ]
          },
          "metadata": {},
          "execution_count": 8
        },
        {
          "output_type": "display_data",
          "data": {
            "text/plain": [
              "<Figure size 432x288 with 1 Axes>"
            ],
            "image/png": "[encoded data removed]"
          },
          "metadata": {
            "needs_background": "light"
          }
        }
      ]
    },
    {
      "cell_type": "code",
      "source": [
        "plt.imshow(X_train_full[3])"
      ],
      "metadata": {
        "colab": {
          "base_uri": "https://localhost:8080/",
          "height": 282
        },
        "id": "k4fJ3niZsWt2",
        "outputId": "6a50835a-8919-475f-e146-2a1b6fd4a62a"
      },
      "execution_count": 9,
      "outputs": [
        {
          "output_type": "execute_result",
          "data": {
            "text/plain": [
              "<matplotlib.image.AxesImage at 0x7f7e2b105460>"
            ]
          },
          "metadata": {},
          "execution_count": 9
        },
        {
          "output_type": "display_data",
          "data": {
            "text/plain": [
              "<Figure size 432x288 with 1 Axes>"
            ],
            "image/png": "[encoded data removed]"
          },
          "metadata": {
            "needs_background": "light"
          }
        }
      ]
    },
    {
      "cell_type": "code",
      "source": [
        "plt.imshow(X_train_full[4])"
      ],
      "metadata": {
        "colab": {
          "base_uri": "https://localhost:8080/",
          "height": 282
        },
        "id": "YTuzGXh9sY8T",
        "outputId": "183b2c24-fb88-4a18-d730-d5c3f269063d"
      },
      "execution_count": 10,
      "outputs": [
        {
          "output_type": "execute_result",
          "data": {
            "text/plain": [
              "<matplotlib.image.AxesImage at 0x7f7e2b0d4280>"
            ]
          },
          "metadata": {},
          "execution_count": 10
        },
        {
          "output_type": "display_data",
          "data": {
            "text/plain": [
              "<Figure size 432x288 with 1 Axes>"
            ],
            "image/png": "[encoded data removed]"
          },
          "metadata": {
            "needs_background": "light"
          }
        }
      ]
    },
    {
      "cell_type": "code",
      "source": [
        "plt.imshow(X_train_full[5])"
      ],
      "metadata": {
        "colab": {
          "base_uri": "https://localhost:8080/",
          "height": 282
        },
        "id": "_d-Nbkj6saws",
        "outputId": "99ae82b9-f661-470a-d308-0267ea67ef27"
      },
      "execution_count": 11,
      "outputs": [
        {
          "output_type": "execute_result",
          "data": {
            "text/plain": [
              "<matplotlib.image.AxesImage at 0x7f7e2b0a9250>"
            ]
          },
          "metadata": {},
          "execution_count": 11
        },
        {
          "output_type": "display_data",
          "data": {
            "text/plain": [
              "<Figure size 432x288 with 1 Axes>"
            ],
            "image/png": "[encoded data removed]"
          },
          "metadata": {
            "needs_background": "light"
          }
        }
      ]
    },
    {
      "cell_type": "code",
      "source": [
        "plt.imshow(X_train_full[6])"
      ],
      "metadata": {
        "colab": {
          "base_uri": "https://localhost:8080/",
          "height": 282
        },
        "id": "loxuil8Dsc15",
        "outputId": "5ee75001-7cd8-4b13-b6e5-e7ea582b078b"
      },
      "execution_count": 12,
      "outputs": [
        {
          "output_type": "execute_result",
          "data": {
            "text/plain": [
              "<matplotlib.image.AxesImage at 0x7f7e2b074e20>"
            ]
          },
          "metadata": {},
          "execution_count": 12
        },
        {
          "output_type": "display_data",
          "data": {
            "text/plain": [
              "<Figure size 432x288 with 1 Axes>"
            ],
            "image/png": "[encoded data removed]"
          },
          "metadata": {
            "needs_background": "light"
          }
        }
      ]
    },
    {
      "cell_type": "code",
      "source": [
        "plt.imshow(X_train_full[7])"
      ],
      "metadata": {
        "colab": {
          "base_uri": "https://localhost:8080/",
          "height": 282
        },
        "id": "vO9sFSs5sg43",
        "outputId": "b6044e76-9a52-4a8f-ff08-aec4dc48dc8b"
      },
      "execution_count": 13,
      "outputs": [
        {
          "output_type": "execute_result",
          "data": {
            "text/plain": [
              "<matplotlib.image.AxesImage at 0x7f7e2c221be0>"
            ]
          },
          "metadata": {},
          "execution_count": 13
        },
        {
          "output_type": "display_data",
          "data": {
            "text/plain": [
              "<Figure size 432x288 with 1 Axes>"
            ],
            "image/png": "[encoded data removed]"
          },
          "metadata": {
            "needs_background": "light"
          }
        }
      ]
    },
    {
      "cell_type": "code",
      "source": [
        "plt.imshow(X_train_full[8])"
      ],
      "metadata": {
        "colab": {
          "base_uri": "https://localhost:8080/",
          "height": 282
        },
        "id": "QcKN-rQ4slQ6",
        "outputId": "580ebf94-fb1d-450a-fd25-6f04384de2e8"
      },
      "execution_count": 14,
      "outputs": [
        {
          "output_type": "execute_result",
          "data": {
            "text/plain": [
              "<matplotlib.image.AxesImage at 0x7f7e2b105b50>"
            ]
          },
          "metadata": {},
          "execution_count": 14
        },
        {
          "output_type": "display_data",
          "data": {
            "text/plain": [
              "<Figure size 432x288 with 1 Axes>"
            ],
            "image/png": "[encoded data removed]"
          },
          "metadata": {
            "needs_background": "light"
          }
        }
      ]
    },
    {
      "cell_type": "code",
      "source": [
        "plt.imshow(X_train_full[9])"
      ],
      "metadata": {
        "colab": {
          "base_uri": "https://localhost:8080/",
          "height": 282
        },
        "id": "2esaaB9usncd",
        "outputId": "013c9b3d-685e-4e75-f576-3d6de974d923"
      },
      "execution_count": 15,
      "outputs": [
        {
          "output_type": "execute_result",
          "data": {
            "text/plain": [
              "<matplotlib.image.AxesImage at 0x7f7e2afbea90>"
            ]
          },
          "metadata": {},
          "execution_count": 15
        },
        {
          "output_type": "display_data",
          "data": {
            "text/plain": [
              "<Figure size 432x288 with 1 Axes>"
            ],
            "image/png": "[encoded data removed]"
          },
          "metadata": {
            "needs_background": "light"
          }
        }
      ]
    },
    {
      "cell_type": "code",
      "source": [
        "y_train_full[0]"
      ],
      "metadata": {
        "colab": {
          "base_uri": "https://localhost:8080/"
        },
        "id": "HHGF9Ydtsq-N",
        "outputId": "f69140cc-b113-4840-ff67-c3c200446d10"
      },
      "execution_count": 16,
      "outputs": [
        {
          "output_type": "execute_result",
          "data": {
            "text/plain": [
              "5"
            ]
          },
          "metadata": {},
          "execution_count": 16
        }
      ]
    },
    {
      "cell_type": "code",
      "source": [
        "y_train_full[3]"
      ],
      "metadata": {
        "colab": {
          "base_uri": "https://localhost:8080/"
        },
        "id": "AA3gdmYfszkD",
        "outputId": "b2844b0b-c893-4888-9ed5-0b97146d8594"
      },
      "execution_count": 17,
      "outputs": [
        {
          "output_type": "execute_result",
          "data": {
            "text/plain": [
              "1"
            ]
          },
          "metadata": {},
          "execution_count": 17
        }
      ]
    },
    {
      "cell_type": "code",
      "source": [
        "y_train_full[8]"
      ],
      "metadata": {
        "colab": {
          "base_uri": "https://localhost:8080/"
        },
        "id": "BxT_0xzbs57u",
        "outputId": "9c635549-ac3b-406d-ded5-93162efad07f"
      },
      "execution_count": 18,
      "outputs": [
        {
          "output_type": "execute_result",
          "data": {
            "text/plain": [
              "1"
            ]
          },
          "metadata": {},
          "execution_count": 18
        }
      ]
    },
    {
      "cell_type": "code",
      "source": [
        "y_train_full"
      ],
      "metadata": {
        "colab": {
          "base_uri": "https://localhost:8080/"
        },
        "id": "No5OtA7es9af",
        "outputId": "157ca81f-c6a2-4a42-e924-bc8bbba4b4c9"
      },
      "execution_count": 19,
      "outputs": [
        {
          "output_type": "execute_result",
          "data": {
            "text/plain": [
              "array([5, 0, 4, ..., 5, 6, 8], dtype=uint8)"
            ]
          },
          "metadata": {},
          "execution_count": 19
        }
      ]
    },
    {
      "cell_type": "code",
      "source": [
        "y_train_full[:10]"
      ],
      "metadata": {
        "colab": {
          "base_uri": "https://localhost:8080/"
        },
        "id": "7vSjhw5ntdrj",
        "outputId": "4cd21c6f-6597-4297-d7c0-c083647ad2be"
      },
      "execution_count": 20,
      "outputs": [
        {
          "output_type": "execute_result",
          "data": {
            "text/plain": [
              "array([5, 0, 4, 1, 9, 2, 1, 3, 1, 4], dtype=uint8)"
            ]
          },
          "metadata": {},
          "execution_count": 20
        }
      ]
    },
    {
      "cell_type": "code",
      "source": [
        "y_train_full[:20]"
      ],
      "metadata": {
        "colab": {
          "base_uri": "https://localhost:8080/"
        },
        "id": "7g4DxAKWtiUU",
        "outputId": "ce9b9ef0-7f33-4ead-a711-4a644a28f4c5"
      },
      "execution_count": 21,
      "outputs": [
        {
          "output_type": "execute_result",
          "data": {
            "text/plain": [
              "array([5, 0, 4, 1, 9, 2, 1, 3, 1, 4, 3, 5, 3, 6, 1, 7, 2, 8, 6, 9],\n",
              "      dtype=uint8)"
            ]
          },
          "metadata": {},
          "execution_count": 21
        }
      ]
    },
    {
      "cell_type": "code",
      "source": [
        "X_train_n = X_train_full /255.\n",
        "X_test_n = X_test/255."
      ],
      "metadata": {
        "id": "cEpCSZhqtmAA"
      },
      "execution_count": 22,
      "outputs": []
    },
    {
      "cell_type": "code",
      "source": [
        "X_valid, X_train= X_train_n[:6000],X_train_n[6000:]\n",
        "y_valid,y_train=y_train_full[:6000],y_train_full[6000:]\n",
        "X_test=X_test_n"
      ],
      "metadata": {
        "id": "nrDlL2ZrujFa"
      },
      "execution_count": 23,
      "outputs": []
    },
    {
      "cell_type": "code",
      "source": [
        "np.random.seed(42)\n",
        "tf.random.set_seed(42)"
      ],
      "metadata": {
        "id": "QGkiltqgvEV1"
      },
      "execution_count": 24,
      "outputs": []
    },
    {
      "cell_type": "code",
      "source": [
        "model= keras.models.Sequential()\n",
        "model.add(keras.layers.Flatten(input_shape=[28,28]))\n",
        "model.add(keras.layers.Dense(200,activation=\"relu\"))\n",
        "model.add(keras.layers.Dense(100,activation=\"relu\"))\n",
        "model.add(keras.layers.Dense(10,activation=\"softmax\"))"
      ],
      "metadata": {
        "id": "kNfcx4EsvOdR"
      },
      "execution_count": 25,
      "outputs": []
    },
    {
      "cell_type": "code",
      "source": [
        "model.summary()"
      ],
      "metadata": {
        "colab": {
          "base_uri": "https://localhost:8080/"
        },
        "id": "Fy4Dp1SFwBGF",
        "outputId": "6d5bdad8-eb43-4238-cc98-7e954562c1aa"
      },
      "execution_count": 26,
      "outputs": [
        {
          "output_type": "stream",
          "name": "stdout",
          "text": [
            "Model: \"sequential\"\n",
            "_________________________________________________________________\n",
            " Layer (type)                Output Shape              Param #   \n",
            "=================================================================\n",
            " flatten (Flatten)           (None, 784)               0         \n",
            "                                                                 \n",
            " dense (Dense)               (None, 200)               157000    \n",
            "                                                                 \n",
            " dense_1 (Dense)             (None, 100)               20100     \n",
            "                                                                 \n",
            " dense_2 (Dense)             (None, 10)                1010      \n",
            "                                                                 \n",
            "=================================================================\n",
            "Total params: 178,110\n",
            "Trainable params: 178,110\n",
            "Non-trainable params: 0\n",
            "_________________________________________________________________\n"
          ]
        }
      ]
    },
    {
      "cell_type": "code",
      "source": [
        "import pydot\n",
        "keras.utils.plot_model(model)"
      ],
      "metadata": {
        "colab": {
          "base_uri": "https://localhost:8080/",
          "height": 466
        },
        "id": "H2x0-wfxwDiN",
        "outputId": "d0ca0a8b-fd7b-4240-eee8-b2f7ea962056"
      },
      "execution_count": 27,
      "outputs": [
        {
          "output_type": "execute_result",
          "data": {
            "image/png": "[encoded data removed]",
            "text/plain": [
              "<IPython.core.display.Image object>"
            ]
          },
          "metadata": {},
          "execution_count": 27
        }
      ]
    },
    {
      "cell_type": "code",
      "source": [
        "weights, biases=model.layers[1].get_weights()"
      ],
      "metadata": {
        "id": "2w2QzzpZwMA7"
      },
      "execution_count": 28,
      "outputs": []
    },
    {
      "cell_type": "code",
      "source": [
        "weights"
      ],
      "metadata": {
        "colab": {
          "base_uri": "https://localhost:8080/"
        },
        "id": "q2MHOLXuwX3t",
        "outputId": "e7366b27-9856-4487-eb18-9d5c9ff38159"
      },
      "execution_count": 29,
      "outputs": [
        {
          "output_type": "execute_result",
          "data": {
            "text/plain": [
              "array([[ 0.02570029, -0.00921319, -0.02297589, ...,  0.03759523,\n",
              "         0.01990343, -0.00419658],\n",
              "       [ 0.0493257 ,  0.07532704,  0.04591972, ...,  0.01272719,\n",
              "         0.07017377,  0.06893378],\n",
              "       [-0.00902112,  0.0490617 ,  0.01508749, ...,  0.00632862,\n",
              "        -0.02900814, -0.04371899],\n",
              "       ...,\n",
              "       [ 0.06044598,  0.02830634,  0.04788385, ..., -0.02156743,\n",
              "        -0.06206664, -0.06688078],\n",
              "       [ 0.03822813,  0.07278952,  0.02177001, ..., -0.04696669,\n",
              "        -0.04292265,  0.0316055 ],\n",
              "       [-0.01534326, -0.03178874, -0.04308994, ...,  0.00643031,\n",
              "         0.02572545, -0.03443564]], dtype=float32)"
            ]
          },
          "metadata": {},
          "execution_count": 29
        }
      ]
    },
    {
      "cell_type": "code",
      "source": [
        "weights.shape"
      ],
      "metadata": {
        "colab": {
          "base_uri": "https://localhost:8080/"
        },
        "id": "O2WaTcLZwaPd",
        "outputId": "5e4f26e1-3724-4185-d0ad-0e485accf711"
      },
      "execution_count": 30,
      "outputs": [
        {
          "output_type": "execute_result",
          "data": {
            "text/plain": [
              "(784, 200)"
            ]
          },
          "metadata": {},
          "execution_count": 30
        }
      ]
    },
    {
      "cell_type": "code",
      "source": [
        "biases"
      ],
      "metadata": {
        "colab": {
          "base_uri": "https://localhost:8080/"
        },
        "id": "fnFbHst4wcmC",
        "outputId": "6235ab53-420c-49ca-8e30-961631097bfa"
      },
      "execution_count": 31,
      "outputs": [
        {
          "output_type": "execute_result",
          "data": {
            "text/plain": [
              "array([0., 0., 0., 0., 0., 0., 0., 0., 0., 0., 0., 0., 0., 0., 0., 0., 0.,\n",
              "       0., 0., 0., 0., 0., 0., 0., 0., 0., 0., 0., 0., 0., 0., 0., 0., 0.,\n",
              "       0., 0., 0., 0., 0., 0., 0., 0., 0., 0., 0., 0., 0., 0., 0., 0., 0.,\n",
              "       0., 0., 0., 0., 0., 0., 0., 0., 0., 0., 0., 0., 0., 0., 0., 0., 0.,\n",
              "       0., 0., 0., 0., 0., 0., 0., 0., 0., 0., 0., 0., 0., 0., 0., 0., 0.,\n",
              "       0., 0., 0., 0., 0., 0., 0., 0., 0., 0., 0., 0., 0., 0., 0., 0., 0.,\n",
              "       0., 0., 0., 0., 0., 0., 0., 0., 0., 0., 0., 0., 0., 0., 0., 0., 0.,\n",
              "       0., 0., 0., 0., 0., 0., 0., 0., 0., 0., 0., 0., 0., 0., 0., 0., 0.,\n",
              "       0., 0., 0., 0., 0., 0., 0., 0., 0., 0., 0., 0., 0., 0., 0., 0., 0.,\n",
              "       0., 0., 0., 0., 0., 0., 0., 0., 0., 0., 0., 0., 0., 0., 0., 0., 0.,\n",
              "       0., 0., 0., 0., 0., 0., 0., 0., 0., 0., 0., 0., 0., 0., 0., 0., 0.,\n",
              "       0., 0., 0., 0., 0., 0., 0., 0., 0., 0., 0., 0., 0.], dtype=float32)"
            ]
          },
          "metadata": {},
          "execution_count": 31
        }
      ]
    },
    {
      "cell_type": "code",
      "source": [
        "biases.shape"
      ],
      "metadata": {
        "colab": {
          "base_uri": "https://localhost:8080/"
        },
        "id": "y3JRbQMHwiu9",
        "outputId": "02cde99c-c914-44e4-d2a5-2ee9de1ef6af"
      },
      "execution_count": 32,
      "outputs": [
        {
          "output_type": "execute_result",
          "data": {
            "text/plain": [
              "(200,)"
            ]
          },
          "metadata": {},
          "execution_count": 32
        }
      ]
    },
    {
      "cell_type": "code",
      "source": [
        "model.compile(loss=\"sparse_categorical_crossentropy\",optimizer=\"sgd\",metrics=[\"accuracy\"])"
      ],
      "metadata": {
        "id": "M8iTTTsDwkpJ"
      },
      "execution_count": 33,
      "outputs": []
    },
    {
      "cell_type": "code",
      "source": [
        "model_history=model.fit(X_train,y_train,epochs=60,validation_data=(X_valid,y_valid))"
      ],
      "metadata": {
        "colab": {
          "base_uri": "https://localhost:8080/"
        },
        "id": "NjtTsDBPwyxr",
        "outputId": "e5f31d60-3b2e-4cb1-c7d7-cf352ab035ee"
      },
      "execution_count": 34,
      "outputs": [
        {
          "output_type": "stream",
          "name": "stdout",
          "text": [
            "Epoch 1/60\n",
            "1688/1688 [==============================] - 6s 3ms/step - loss: 0.6607 - accuracy: 0.8267 - val_loss: 0.3216 - val_accuracy: 0.9125\n",
            "Epoch 2/60\n",
            "1688/1688 [==============================] - 5s 3ms/step - loss: 0.3006 - accuracy: 0.9141 - val_loss: 0.2585 - val_accuracy: 0.9283\n",
            "Epoch 3/60\n",
            "1688/1688 [==============================] - 5s 3ms/step - loss: 0.2488 - accuracy: 0.9292 - val_loss: 0.2254 - val_accuracy: 0.9383\n",
            "Epoch 4/60\n",
            "1688/1688 [==============================] - 5s 3ms/step - loss: 0.2151 - accuracy: 0.9390 - val_loss: 0.1961 - val_accuracy: 0.9443\n",
            "Epoch 5/60\n",
            "1688/1688 [==============================] - 5s 3ms/step - loss: 0.1893 - accuracy: 0.9461 - val_loss: 0.1790 - val_accuracy: 0.9485\n",
            "Epoch 6/60\n",
            "1688/1688 [==============================] - 5s 3ms/step - loss: 0.1690 - accuracy: 0.9517 - val_loss: 0.1637 - val_accuracy: 0.9520\n",
            "Epoch 7/60\n",
            "1688/1688 [==============================] - 5s 3ms/step - loss: 0.1521 - accuracy: 0.9569 - val_loss: 0.1482 - val_accuracy: 0.9590\n",
            "Epoch 8/60\n",
            "1688/1688 [==============================] - 5s 3ms/step - loss: 0.1378 - accuracy: 0.9611 - val_loss: 0.1416 - val_accuracy: 0.9608\n",
            "Epoch 9/60\n",
            "1688/1688 [==============================] - 6s 3ms/step - loss: 0.1260 - accuracy: 0.9642 - val_loss: 0.1315 - val_accuracy: 0.9650\n",
            "Epoch 10/60\n",
            "1688/1688 [==============================] - 5s 3ms/step - loss: 0.1157 - accuracy: 0.9672 - val_loss: 0.1274 - val_accuracy: 0.9637\n",
            "Epoch 11/60\n",
            "1688/1688 [==============================] - 5s 3ms/step - loss: 0.1067 - accuracy: 0.9697 - val_loss: 0.1157 - val_accuracy: 0.9678\n",
            "Epoch 12/60\n",
            "1688/1688 [==============================] - 5s 3ms/step - loss: 0.0991 - accuracy: 0.9724 - val_loss: 0.1119 - val_accuracy: 0.9700\n",
            "Epoch 13/60\n",
            "1688/1688 [==============================] - 5s 3ms/step - loss: 0.0918 - accuracy: 0.9746 - val_loss: 0.1057 - val_accuracy: 0.9712\n",
            "Epoch 14/60\n",
            "1688/1688 [==============================] - 5s 3ms/step - loss: 0.0857 - accuracy: 0.9765 - val_loss: 0.1006 - val_accuracy: 0.9720\n",
            "Epoch 15/60\n",
            "1688/1688 [==============================] - 5s 3ms/step - loss: 0.0802 - accuracy: 0.9777 - val_loss: 0.0990 - val_accuracy: 0.9725\n",
            "Epoch 16/60\n",
            "1688/1688 [==============================] - 5s 3ms/step - loss: 0.0752 - accuracy: 0.9794 - val_loss: 0.0945 - val_accuracy: 0.9723\n",
            "Epoch 17/60\n",
            "1688/1688 [==============================] - 5s 3ms/step - loss: 0.0707 - accuracy: 0.9809 - val_loss: 0.0936 - val_accuracy: 0.9727\n",
            "Epoch 18/60\n",
            "1688/1688 [==============================] - 5s 3ms/step - loss: 0.0659 - accuracy: 0.9818 - val_loss: 0.0894 - val_accuracy: 0.9752\n",
            "Epoch 19/60\n",
            "1688/1688 [==============================] - 5s 3ms/step - loss: 0.0625 - accuracy: 0.9829 - val_loss: 0.0894 - val_accuracy: 0.9737\n",
            "Epoch 20/60\n",
            "1688/1688 [==============================] - 5s 3ms/step - loss: 0.0588 - accuracy: 0.9841 - val_loss: 0.0874 - val_accuracy: 0.9750\n",
            "Epoch 21/60\n",
            "1688/1688 [==============================] - 5s 3ms/step - loss: 0.0555 - accuracy: 0.9850 - val_loss: 0.0864 - val_accuracy: 0.9762\n",
            "Epoch 22/60\n",
            "1688/1688 [==============================] - 5s 3ms/step - loss: 0.0525 - accuracy: 0.9859 - val_loss: 0.0839 - val_accuracy: 0.9763\n",
            "Epoch 23/60\n",
            "1688/1688 [==============================] - 5s 3ms/step - loss: 0.0496 - accuracy: 0.9866 - val_loss: 0.0832 - val_accuracy: 0.9765\n",
            "Epoch 24/60\n",
            "1688/1688 [==============================] - 5s 3ms/step - loss: 0.0468 - accuracy: 0.9873 - val_loss: 0.0824 - val_accuracy: 0.9758\n",
            "Epoch 25/60\n",
            "1688/1688 [==============================] - 5s 3ms/step - loss: 0.0443 - accuracy: 0.9884 - val_loss: 0.0834 - val_accuracy: 0.9747\n",
            "Epoch 26/60\n",
            "1688/1688 [==============================] - 5s 3ms/step - loss: 0.0420 - accuracy: 0.9887 - val_loss: 0.0812 - val_accuracy: 0.9767\n",
            "Epoch 27/60\n",
            "1688/1688 [==============================] - 5s 3ms/step - loss: 0.0398 - accuracy: 0.9893 - val_loss: 0.0772 - val_accuracy: 0.9777\n",
            "Epoch 28/60\n",
            "1688/1688 [==============================] - 5s 3ms/step - loss: 0.0378 - accuracy: 0.9901 - val_loss: 0.0773 - val_accuracy: 0.9770\n",
            "Epoch 29/60\n",
            "1688/1688 [==============================] - 5s 3ms/step - loss: 0.0358 - accuracy: 0.9906 - val_loss: 0.0760 - val_accuracy: 0.9780\n",
            "Epoch 30/60\n",
            "1688/1688 [==============================] - 5s 3ms/step - loss: 0.0339 - accuracy: 0.9917 - val_loss: 0.0784 - val_accuracy: 0.9773\n",
            "Epoch 31/60\n",
            "1688/1688 [==============================] - 5s 3ms/step - loss: 0.0322 - accuracy: 0.9919 - val_loss: 0.0754 - val_accuracy: 0.9778\n",
            "Epoch 32/60\n",
            "1688/1688 [==============================] - 6s 3ms/step - loss: 0.0304 - accuracy: 0.9925 - val_loss: 0.0774 - val_accuracy: 0.9778\n",
            "Epoch 33/60\n",
            "1688/1688 [==============================] - 7s 4ms/step - loss: 0.0290 - accuracy: 0.9930 - val_loss: 0.0765 - val_accuracy: 0.9780\n",
            "Epoch 34/60\n",
            "1688/1688 [==============================] - 5s 3ms/step - loss: 0.0274 - accuracy: 0.9938 - val_loss: 0.0764 - val_accuracy: 0.9778\n",
            "Epoch 35/60\n",
            "1688/1688 [==============================] - 5s 3ms/step - loss: 0.0260 - accuracy: 0.9940 - val_loss: 0.0749 - val_accuracy: 0.9783\n",
            "Epoch 36/60\n",
            "1688/1688 [==============================] - 5s 3ms/step - loss: 0.0246 - accuracy: 0.9946 - val_loss: 0.0800 - val_accuracy: 0.9767\n",
            "Epoch 37/60\n",
            "1688/1688 [==============================] - 5s 3ms/step - loss: 0.0237 - accuracy: 0.9944 - val_loss: 0.0757 - val_accuracy: 0.9780\n",
            "Epoch 38/60\n",
            "1688/1688 [==============================] - 5s 3ms/step - loss: 0.0223 - accuracy: 0.9954 - val_loss: 0.0759 - val_accuracy: 0.9778\n",
            "Epoch 39/60\n",
            "1688/1688 [==============================] - 5s 3ms/step - loss: 0.0212 - accuracy: 0.9960 - val_loss: 0.0751 - val_accuracy: 0.9780\n",
            "Epoch 40/60\n",
            "1688/1688 [==============================] - 5s 3ms/step - loss: 0.0202 - accuracy: 0.9961 - val_loss: 0.0757 - val_accuracy: 0.9780\n",
            "Epoch 41/60\n",
            "1688/1688 [==============================] - 5s 3ms/step - loss: 0.0191 - accuracy: 0.9968 - val_loss: 0.0756 - val_accuracy: 0.9783\n",
            "Epoch 42/60\n",
            "1688/1688 [==============================] - 5s 3ms/step - loss: 0.0183 - accuracy: 0.9969 - val_loss: 0.0769 - val_accuracy: 0.9775\n",
            "Epoch 43/60\n",
            "1688/1688 [==============================] - 5s 3ms/step - loss: 0.0174 - accuracy: 0.9970 - val_loss: 0.0820 - val_accuracy: 0.9767\n",
            "Epoch 44/60\n",
            "1688/1688 [==============================] - 5s 3ms/step - loss: 0.0166 - accuracy: 0.9973 - val_loss: 0.0757 - val_accuracy: 0.9790\n",
            "Epoch 45/60\n",
            "1688/1688 [==============================] - 6s 3ms/step - loss: 0.0157 - accuracy: 0.9977 - val_loss: 0.0757 - val_accuracy: 0.9780\n",
            "Epoch 46/60\n",
            "1688/1688 [==============================] - 5s 3ms/step - loss: 0.0151 - accuracy: 0.9979 - val_loss: 0.0762 - val_accuracy: 0.9780\n",
            "Epoch 47/60\n",
            "1688/1688 [==============================] - 5s 3ms/step - loss: 0.0143 - accuracy: 0.9980 - val_loss: 0.0769 - val_accuracy: 0.9775\n",
            "Epoch 48/60\n",
            "1688/1688 [==============================] - 5s 3ms/step - loss: 0.0137 - accuracy: 0.9984 - val_loss: 0.0769 - val_accuracy: 0.9768\n",
            "Epoch 49/60\n",
            "1688/1688 [==============================] - 6s 3ms/step - loss: 0.0130 - accuracy: 0.9982 - val_loss: 0.0776 - val_accuracy: 0.9778\n",
            "Epoch 50/60\n",
            "1688/1688 [==============================] - 5s 3ms/step - loss: 0.0124 - accuracy: 0.9986 - val_loss: 0.0792 - val_accuracy: 0.9775\n",
            "Epoch 51/60\n",
            "1688/1688 [==============================] - 6s 3ms/step - loss: 0.0119 - accuracy: 0.9986 - val_loss: 0.0771 - val_accuracy: 0.9783\n",
            "Epoch 52/60\n",
            "1688/1688 [==============================] - 5s 3ms/step - loss: 0.0114 - accuracy: 0.9987 - val_loss: 0.0763 - val_accuracy: 0.9782\n",
            "Epoch 53/60\n",
            "1688/1688 [==============================] - 5s 3ms/step - loss: 0.0109 - accuracy: 0.9988 - val_loss: 0.0781 - val_accuracy: 0.9778\n",
            "Epoch 54/60\n",
            "1688/1688 [==============================] - 5s 3ms/step - loss: 0.0105 - accuracy: 0.9989 - val_loss: 0.0764 - val_accuracy: 0.9790\n",
            "Epoch 55/60\n",
            "1688/1688 [==============================] - 5s 3ms/step - loss: 0.0100 - accuracy: 0.9990 - val_loss: 0.0782 - val_accuracy: 0.9778\n",
            "Epoch 56/60\n",
            "1688/1688 [==============================] - 5s 3ms/step - loss: 0.0095 - accuracy: 0.9991 - val_loss: 0.0789 - val_accuracy: 0.9780\n",
            "Epoch 57/60\n",
            "1688/1688 [==============================] - 5s 3ms/step - loss: 0.0091 - accuracy: 0.9993 - val_loss: 0.0794 - val_accuracy: 0.9775\n",
            "Epoch 58/60\n",
            "1688/1688 [==============================] - 5s 3ms/step - loss: 0.0088 - accuracy: 0.9992 - val_loss: 0.0776 - val_accuracy: 0.9778\n",
            "Epoch 59/60\n",
            "1688/1688 [==============================] - 5s 3ms/step - loss: 0.0084 - accuracy: 0.9994 - val_loss: 0.0801 - val_accuracy: 0.9772\n",
            "Epoch 60/60\n",
            "1688/1688 [==============================] - 5s 3ms/step - loss: 0.0081 - accuracy: 0.9993 - val_loss: 0.0806 - val_accuracy: 0.9777\n"
          ]
        }
      ]
    },
    {
      "cell_type": "code",
      "source": [
        "model_history.params"
      ],
      "metadata": {
        "colab": {
          "base_uri": "https://localhost:8080/"
        },
        "id": "_nIcY-WnxIhK",
        "outputId": "1a4a3fa6-e94c-4723-aaab-6456131bdde5"
      },
      "execution_count": 35,
      "outputs": [
        {
          "output_type": "execute_result",
          "data": {
            "text/plain": [
              "{'verbose': 1, 'epochs': 60, 'steps': 1688}"
            ]
          },
          "metadata": {},
          "execution_count": 35
        }
      ]
    },
    {
      "cell_type": "code",
      "source": [
        "model_history.history"
      ],
      "metadata": {
        "colab": {
          "base_uri": "https://localhost:8080/"
        },
        "id": "fo3dpoQw2n8y",
        "outputId": "d4aa3e62-123e-494d-c0cf-d12061921c9b"
      },
      "execution_count": 36,
      "outputs": [
        {
          "output_type": "execute_result",
          "data": {
            "text/plain": [
              "{'loss': [0.6606810092926025,\n",
              "  0.30064913630485535,\n",
              "  0.24879756569862366,\n",
              "  0.21510721743106842,\n",
              "  0.18927665054798126,\n",
              "  0.16898876428604126,\n",
              "  0.15212205052375793,\n",
              "  0.13781794905662537,\n",
              "  0.12603484094142914,\n",
              "  0.11574254930019379,\n",
              "  0.10665066540241241,\n",
              "  0.09910834580659866,\n",
              "  0.0917723998427391,\n",
              "  0.0857086256146431,\n",
              "  0.08019549399614334,\n",
              "  0.07517477869987488,\n",
              "  0.07070139050483704,\n",
              "  0.06594450771808624,\n",
              "  0.0624673031270504,\n",
              "  0.05877825617790222,\n",
              "  0.05554293841123581,\n",
              "  0.052506979554891586,\n",
              "  0.04958159849047661,\n",
              "  0.04681731387972832,\n",
              "  0.04429670423269272,\n",
              "  0.04204839840531349,\n",
              "  0.03982879966497421,\n",
              "  0.03779636695981026,\n",
              "  0.03578488156199455,\n",
              "  0.033870596438646317,\n",
              "  0.03218820318579674,\n",
              "  0.030392780900001526,\n",
              "  0.0289610642939806,\n",
              "  0.02739945985376835,\n",
              "  0.02600710280239582,\n",
              "  0.024641359224915504,\n",
              "  0.023685619235038757,\n",
              "  0.02230927161872387,\n",
              "  0.02118414081633091,\n",
              "  0.020205099135637283,\n",
              "  0.01913050375878811,\n",
              "  0.01827135495841503,\n",
              "  0.017407504841685295,\n",
              "  0.016623713076114655,\n",
              "  0.015739809721708298,\n",
              "  0.015057324431836605,\n",
              "  0.014311515726149082,\n",
              "  0.013687600381672382,\n",
              "  0.013037978671491146,\n",
              "  0.012427576817572117,\n",
              "  0.011940381489694118,\n",
              "  0.011374087072908878,\n",
              "  0.010919580236077309,\n",
              "  0.010488207451999187,\n",
              "  0.010003251023590565,\n",
              "  0.009491791017353535,\n",
              "  0.00909471046179533,\n",
              "  0.00881476141512394,\n",
              "  0.008449668064713478,\n",
              "  0.008071580901741982],\n",
              " 'accuracy': [0.8267222046852112,\n",
              "  0.9140740633010864,\n",
              "  0.9292036890983582,\n",
              "  0.9389629364013672,\n",
              "  0.9460740685462952,\n",
              "  0.9517407417297363,\n",
              "  0.9568889141082764,\n",
              "  0.9610740542411804,\n",
              "  0.9642221927642822,\n",
              "  0.9672407507896423,\n",
              "  0.9697222113609314,\n",
              "  0.9723518490791321,\n",
              "  0.9746296405792236,\n",
              "  0.9764999747276306,\n",
              "  0.9777036905288696,\n",
              "  0.9794074296951294,\n",
              "  0.9808703660964966,\n",
              "  0.9818148016929626,\n",
              "  0.9828703999519348,\n",
              "  0.9840925931930542,\n",
              "  0.9850184917449951,\n",
              "  0.985870361328125,\n",
              "  0.9865740537643433,\n",
              "  0.9872962832450867,\n",
              "  0.988444447517395,\n",
              "  0.9887407422065735,\n",
              "  0.9892592430114746,\n",
              "  0.99014812707901,\n",
              "  0.9905555844306946,\n",
              "  0.9917407631874084,\n",
              "  0.9918703436851501,\n",
              "  0.9925370216369629,\n",
              "  0.992981493473053,\n",
              "  0.993759274482727,\n",
              "  0.9940370321273804,\n",
              "  0.9946110844612122,\n",
              "  0.9944259524345398,\n",
              "  0.9953703880310059,\n",
              "  0.9959999918937683,\n",
              "  0.9961296319961548,\n",
              "  0.9967963099479675,\n",
              "  0.9968518614768982,\n",
              "  0.9970370531082153,\n",
              "  0.9973148107528687,\n",
              "  0.9977037310600281,\n",
              "  0.9979259371757507,\n",
              "  0.9980185031890869,\n",
              "  0.998370349407196,\n",
              "  0.9981851577758789,\n",
              "  0.9985555410385132,\n",
              "  0.9985740780830383,\n",
              "  0.9987407326698303,\n",
              "  0.9988333582878113,\n",
              "  0.9989073872566223,\n",
              "  0.9990370273590088,\n",
              "  0.9991111159324646,\n",
              "  0.9992777705192566,\n",
              "  0.9992222189903259,\n",
              "  0.9993518590927124,\n",
              "  0.9993148446083069],\n",
              " 'val_loss': [0.3216478228569031,\n",
              "  0.2585418224334717,\n",
              "  0.22538070380687714,\n",
              "  0.19609405100345612,\n",
              "  0.1789785772562027,\n",
              "  0.16365069150924683,\n",
              "  0.14823083579540253,\n",
              "  0.141621395945549,\n",
              "  0.13153620064258575,\n",
              "  0.12741680443286896,\n",
              "  0.11571023613214493,\n",
              "  0.1118527501821518,\n",
              "  0.10565391182899475,\n",
              "  0.1005546897649765,\n",
              "  0.09895645827054977,\n",
              "  0.09447373449802399,\n",
              "  0.09360390901565552,\n",
              "  0.08936671912670135,\n",
              "  0.08939604461193085,\n",
              "  0.08740083128213882,\n",
              "  0.08644355088472366,\n",
              "  0.08387922495603561,\n",
              "  0.08319325000047684,\n",
              "  0.08238961547613144,\n",
              "  0.08343460410833359,\n",
              "  0.08115284144878387,\n",
              "  0.07717796415090561,\n",
              "  0.07725581526756287,\n",
              "  0.0760190561413765,\n",
              "  0.07844028621912003,\n",
              "  0.07537387311458588,\n",
              "  0.07737065106630325,\n",
              "  0.0765366181731224,\n",
              "  0.07643836736679077,\n",
              "  0.07487212866544724,\n",
              "  0.07998128235340118,\n",
              "  0.0756584033370018,\n",
              "  0.07589341700077057,\n",
              "  0.07510465383529663,\n",
              "  0.07568427175283432,\n",
              "  0.07557996362447739,\n",
              "  0.07691501080989838,\n",
              "  0.08200865983963013,\n",
              "  0.0756692886352539,\n",
              "  0.0756855383515358,\n",
              "  0.07615724951028824,\n",
              "  0.07691403478384018,\n",
              "  0.07694929838180542,\n",
              "  0.07757290452718735,\n",
              "  0.07921602576971054,\n",
              "  0.07705188542604446,\n",
              "  0.07634979486465454,\n",
              "  0.07810612767934799,\n",
              "  0.07642324268817902,\n",
              "  0.07824183255434036,\n",
              "  0.07891102880239487,\n",
              "  0.07942630350589752,\n",
              "  0.07759395241737366,\n",
              "  0.08005174249410629,\n",
              "  0.08064273744821548],\n",
              " 'val_accuracy': [0.9125000238418579,\n",
              "  0.9283333420753479,\n",
              "  0.9383333325386047,\n",
              "  0.9443333148956299,\n",
              "  0.9484999775886536,\n",
              "  0.9520000219345093,\n",
              "  0.9589999914169312,\n",
              "  0.9608333110809326,\n",
              "  0.9649999737739563,\n",
              "  0.9636666774749756,\n",
              "  0.9678333401679993,\n",
              "  0.9700000286102295,\n",
              "  0.9711666703224182,\n",
              "  0.972000002861023,\n",
              "  0.9725000262260437,\n",
              "  0.9723333120346069,\n",
              "  0.9726666808128357,\n",
              "  0.9751666784286499,\n",
              "  0.9736666679382324,\n",
              "  0.9750000238418579,\n",
              "  0.9761666655540466,\n",
              "  0.9763333201408386,\n",
              "  0.9764999747276306,\n",
              "  0.9758333563804626,\n",
              "  0.9746666550636292,\n",
              "  0.9766666889190674,\n",
              "  0.9776666760444641,\n",
              "  0.9769999980926514,\n",
              "  0.9779999852180481,\n",
              "  0.9773333072662354,\n",
              "  0.9778333306312561,\n",
              "  0.9778333306312561,\n",
              "  0.9779999852180481,\n",
              "  0.9778333306312561,\n",
              "  0.9783333539962769,\n",
              "  0.9766666889190674,\n",
              "  0.9779999852180481,\n",
              "  0.9778333306312561,\n",
              "  0.9779999852180481,\n",
              "  0.9779999852180481,\n",
              "  0.9783333539962769,\n",
              "  0.9775000214576721,\n",
              "  0.9766666889190674,\n",
              "  0.9789999723434448,\n",
              "  0.9779999852180481,\n",
              "  0.9779999852180481,\n",
              "  0.9775000214576721,\n",
              "  0.9768333435058594,\n",
              "  0.9778333306312561,\n",
              "  0.9775000214576721,\n",
              "  0.9783333539962769,\n",
              "  0.9781666398048401,\n",
              "  0.9778333306312561,\n",
              "  0.9789999723434448,\n",
              "  0.9778333306312561,\n",
              "  0.9779999852180481,\n",
              "  0.9775000214576721,\n",
              "  0.9778333306312561,\n",
              "  0.9771666526794434,\n",
              "  0.9776666760444641]}"
            ]
          },
          "metadata": {},
          "execution_count": 36
        }
      ]
    },
    {
      "cell_type": "code",
      "source": [
        "import pandas as pd\n",
        "pd.DataFrame(model_history.history).plot(figsize=(8,5))\n",
        "plt.grid= True\n",
        "plt.gca().set_ylim(0,1)\n",
        "plt.show()"
      ],
      "metadata": {
        "colab": {
          "base_uri": "https://localhost:8080/",
          "height": 324
        },
        "id": "3hyuTrqv2ryB",
        "outputId": "ae91ca18-8cbb-46cb-ce98-f9e697d27bb9"
      },
      "execution_count": 37,
      "outputs": [
        {
          "output_type": "display_data",
          "data": {
            "text/plain": [
              "<Figure size 576x360 with 1 Axes>"
            ],
            "image/png": "[encoded data removed]"
          },
          "metadata": {
            "needs_background": "light"
          }
        }
      ]
    },
    {
      "cell_type": "code",
      "source": [
        "model.evaluate(X_test,y_test)"
      ],
      "metadata": {
        "colab": {
          "base_uri": "https://localhost:8080/"
        },
        "id": "g-jfrbJO3GfO",
        "outputId": "2dbff6ad-5ff4-4d4f-f723-630093eee6ba"
      },
      "execution_count": 38,
      "outputs": [
        {
          "output_type": "stream",
          "name": "stdout",
          "text": [
            "313/313 [==============================] - 1s 2ms/step - loss: 0.0742 - accuracy: 0.9793\n"
          ]
        },
        {
          "output_type": "execute_result",
          "data": {
            "text/plain": [
              "[0.07420483231544495, 0.9793000221252441]"
            ]
          },
          "metadata": {},
          "execution_count": 38
        }
      ]
    },
    {
      "cell_type": "code",
      "source": [
        "X_new=X_test[:5]"
      ],
      "metadata": {
        "id": "FWoNEqJ53PVV"
      },
      "execution_count": 39,
      "outputs": []
    },
    {
      "cell_type": "code",
      "source": [
        "y_proba=model.predict(X_new)\n",
        "y_proba.round(2)"
      ],
      "metadata": {
        "colab": {
          "base_uri": "https://localhost:8080/"
        },
        "id": "NtK21UVM3f-9",
        "outputId": "02e37863-7415-4b69-9a6a-d01f0361c5f9"
      },
      "execution_count": 40,
      "outputs": [
        {
          "output_type": "stream",
          "name": "stdout",
          "text": [
            "1/1 [==============================] - 0s 75ms/step\n"
          ]
        },
        {
          "output_type": "execute_result",
          "data": {
            "text/plain": [
              "array([[0., 0., 0., 0., 0., 0., 0., 1., 0., 0.],\n",
              "       [0., 0., 1., 0., 0., 0., 0., 0., 0., 0.],\n",
              "       [0., 1., 0., 0., 0., 0., 0., 0., 0., 0.],\n",
              "       [1., 0., 0., 0., 0., 0., 0., 0., 0., 0.],\n",
              "       [0., 0., 0., 0., 1., 0., 0., 0., 0., 0.]], dtype=float32)"
            ]
          },
          "metadata": {},
          "execution_count": 40
        }
      ]
    },
    {
      "cell_type": "code",
      "source": [
        "print(plt.imshow(X_test[0]))"
      ],
      "metadata": {
        "colab": {
          "base_uri": "https://localhost:8080/",
          "height": 282
        },
        "id": "f2CwxGz73pB3",
        "outputId": "8852e85e-c3e6-4fb5-bdd3-477624be3a51"
      },
      "execution_count": 41,
      "outputs": [
        {
          "output_type": "stream",
          "name": "stdout",
          "text": [
            "AxesImage(54,36;334.8x217.44)\n"
          ]
        },
        {
          "output_type": "display_data",
          "data": {
            "text/plain": [
              "<Figure size 432x288 with 1 Axes>"
            ],
            "image/png": "[encoded data removed]"
          },
          "metadata": {
            "needs_background": "light"
          }
        }
      ]
    },
    {
      "cell_type": "code",
      "source": [
        "y_test[0]"
      ],
      "metadata": {
        "colab": {
          "base_uri": "https://localhost:8080/"
        },
        "id": "phnDKxgd3yvp",
        "outputId": "25333945-8049-4fb1-a0a8-85d5f82ab902"
      },
      "execution_count": 42,
      "outputs": [
        {
          "output_type": "execute_result",
          "data": {
            "text/plain": [
              "7"
            ]
          },
          "metadata": {},
          "execution_count": 42
        }
      ]
    },
    {
      "cell_type": "code",
      "source": [
        "print(plt.imshow(X_test[1]))"
      ],
      "metadata": {
        "colab": {
          "base_uri": "https://localhost:8080/",
          "height": 282
        },
        "id": "7lTUseJn35uH",
        "outputId": "6c348a93-1de5-4295-c95f-49e37a14f59c"
      },
      "execution_count": 43,
      "outputs": [
        {
          "output_type": "stream",
          "name": "stdout",
          "text": [
            "AxesImage(54,36;334.8x217.44)\n"
          ]
        },
        {
          "output_type": "display_data",
          "data": {
            "text/plain": [
              "<Figure size 432x288 with 1 Axes>"
            ],
            "image/png": "[encoded data removed]"
          },
          "metadata": {
            "needs_background": "light"
          }
        }
      ]
    },
    {
      "cell_type": "code",
      "source": [
        "y_test[1]"
      ],
      "metadata": {
        "colab": {
          "base_uri": "https://localhost:8080/"
        },
        "id": "APZtItoI4AOi",
        "outputId": "1a8fe685-d0aa-44d4-a0a9-e62af7d8d3d8"
      },
      "execution_count": 44,
      "outputs": [
        {
          "output_type": "execute_result",
          "data": {
            "text/plain": [
              "2"
            ]
          },
          "metadata": {},
          "execution_count": 44
        }
      ]
    },
    {
      "cell_type": "code",
      "source": [
        "print(plt.imshow(X_test[2]))"
      ],
      "metadata": {
        "colab": {
          "base_uri": "https://localhost:8080/",
          "height": 282
        },
        "id": "UO1Sry-94Ebw",
        "outputId": "febb96f5-762b-412a-e05f-85bd369df43a"
      },
      "execution_count": 45,
      "outputs": [
        {
          "output_type": "stream",
          "name": "stdout",
          "text": [
            "AxesImage(54,36;334.8x217.44)\n"
          ]
        },
        {
          "output_type": "display_data",
          "data": {
            "text/plain": [
              "<Figure size 432x288 with 1 Axes>"
            ],
            "image/png": "[encoded data removed]"
          },
          "metadata": {
            "needs_background": "light"
          }
        }
      ]
    },
    {
      "cell_type": "code",
      "source": [
        "y_test[2]"
      ],
      "metadata": {
        "colab": {
          "base_uri": "https://localhost:8080/"
        },
        "id": "-ltmtr_S4LgM",
        "outputId": "7f68c832-6af7-4226-fe2e-feb6a31c123d"
      },
      "execution_count": 46,
      "outputs": [
        {
          "output_type": "execute_result",
          "data": {
            "text/plain": [
              "1"
            ]
          },
          "metadata": {},
          "execution_count": 46
        }
      ]
    },
    {
      "cell_type": "code",
      "source": [
        "print(plt.imshow(X_test[3]))"
      ],
      "metadata": {
        "colab": {
          "base_uri": "https://localhost:8080/",
          "height": 282
        },
        "id": "RmrT6ufq4Nkf",
        "outputId": "7f5b719a-4107-4a23-deac-33706d5bda9d"
      },
      "execution_count": 47,
      "outputs": [
        {
          "output_type": "stream",
          "name": "stdout",
          "text": [
            "AxesImage(54,36;334.8x217.44)\n"
          ]
        },
        {
          "output_type": "display_data",
          "data": {
            "text/plain": [
              "<Figure size 432x288 with 1 Axes>"
            ],
            "image/png": "[encoded data removed]"
          },
          "metadata": {
            "needs_background": "light"
          }
        }
      ]
    },
    {
      "cell_type": "code",
      "source": [
        "y_test[3]"
      ],
      "metadata": {
        "colab": {
          "base_uri": "https://localhost:8080/"
        },
        "id": "wbbeRlSL4U85",
        "outputId": "cf4a8a5c-35eb-43db-d637-4ea6b32bf6d0"
      },
      "execution_count": 48,
      "outputs": [
        {
          "output_type": "execute_result",
          "data": {
            "text/plain": [
              "0"
            ]
          },
          "metadata": {},
          "execution_count": 48
        }
      ]
    },
    {
      "cell_type": "code",
      "source": [
        "print(plt.imshow(X_test[4]))"
      ],
      "metadata": {
        "colab": {
          "base_uri": "https://localhost:8080/",
          "height": 282
        },
        "id": "m2Sd5xy04XBI",
        "outputId": "9b81cdff-c97b-4be6-8d00-f282ca2cc2b7"
      },
      "execution_count": 49,
      "outputs": [
        {
          "output_type": "stream",
          "name": "stdout",
          "text": [
            "AxesImage(54,36;334.8x217.44)\n"
          ]
        },
        {
          "output_type": "display_data",
          "data": {
            "text/plain": [
              "<Figure size 432x288 with 1 Axes>"
            ],
            "image/png": "[encoded data removed]"
          },
          "metadata": {
            "needs_background": "light"
          }
        }
      ]
    },
    {
      "cell_type": "code",
      "source": [
        "y_test[4]"
      ],
      "metadata": {
        "colab": {
          "base_uri": "https://localhost:8080/"
        },
        "id": "yXxZetqS4Y4O",
        "outputId": "d76df212-66ee-478b-cf15-0e12acd1deda"
      },
      "execution_count": 50,
      "outputs": [
        {
          "output_type": "execute_result",
          "data": {
            "text/plain": [
              "4"
            ]
          },
          "metadata": {},
          "execution_count": 50
        }
      ]
    },
    {
      "cell_type": "code",
      "source": [
        "# It seems that at last we are just printing X_test and y_test but before that (at line -40) we have done prediction and rounded it to 2 decimal places . Ther an array is present\n",
        "# see  the value of 1 from the array and check it with the final X_test and y_test values. It is actual proof of correctness."
      ],
      "metadata": {
        "id": "YLGznKW-4b0j"
      },
      "execution_count": null,
      "outputs": []
    }
  ]
}