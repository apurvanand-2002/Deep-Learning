{
  "nbformat": 4,
  "nbformat_minor": 0,
  "metadata": {
    "colab": {
      "provenance": []
    },
    "kernelspec": {
      "name": "python3",
      "display_name": "Python 3"
    },
    "language_info": {
      "name": "python"
    }
  },
  "cells": [
    {
      "cell_type": "code",
      "execution_count": 1,
      "metadata": {
        "id": "y_DjHe28XV2g"
      },
      "outputs": [],
      "source": [
        "# Wide and Deep  Neural Networks "
      ]
    },
    {
      "cell_type": "code",
      "source": [
        "import numpy as np\n",
        "import pandas as pd\n",
        "%matplotlib inline\n",
        "import matplotlib as mlp\n",
        "import matplotlib.pyplot as plt"
      ],
      "metadata": {
        "id": "2Nuxr4NDX3CH"
      },
      "execution_count": 2,
      "outputs": []
    },
    {
      "cell_type": "code",
      "source": [
        "import tensorflow as tf\n",
        "from tensorflow import keras"
      ],
      "metadata": {
        "id": "HYnHTwIKYbvV"
      },
      "execution_count": 3,
      "outputs": []
    },
    {
      "cell_type": "code",
      "source": [
        "from sklearn.datasets import fetch_california_housing\n",
        "housing=fetch_california_housing()    #in between parenthesis, for Google Colab Notebook , use ctrl+shift+spacebar to see all pre-defined functions"
      ],
      "metadata": {
        "id": "0zC6ppIWYgF0"
      },
      "execution_count": 4,
      "outputs": []
    },
    {
      "cell_type": "code",
      "source": [
        "print(housing.feature_names)"
      ],
      "metadata": {
        "colab": {
          "base_uri": "https://localhost:8080/"
        },
        "id": "KBU1lOLNYlE_",
        "outputId": "9cbf4884-f720-4d2a-f3c3-67463c2804fc"
      },
      "execution_count": 5,
      "outputs": [
        {
          "output_type": "stream",
          "name": "stdout",
          "text": [
            "['MedInc', 'HouseAge', 'AveRooms', 'AveBedrms', 'Population', 'AveOccup', 'Latitude', 'Longitude']\n"
          ]
        }
      ]
    },
    {
      "cell_type": "code",
      "source": [
        "from  sklearn.model_selection import train_test_split\n",
        "X_train_full,X_test,y_train_full,y_test=train_test_split(housing.data,housing.target,random_state=42)\n",
        "X_train,X_valid,y_train,y_valid=train_test_split(X_train_full,y_train_full,random_state=42)"
      ],
      "metadata": {
        "id": "9cvXYPwWYo1L"
      },
      "execution_count": 6,
      "outputs": []
    },
    {
      "cell_type": "code",
      "source": [
        "from sklearn.preprocessing import StandardScaler\n",
        "scaler=StandardScaler()\n",
        "#scaler will be used for standardisation so, we will do (x-(mean))/ (standard deviation) .\n",
        "#scaler will use mean and standard deviation, will be trained/fit on the basis of training data.\n",
        "X_train=scaler.fit_transform(X_train)\n",
        "X_valid=scaler.transform(X_valid)\n",
        "X_test=scaler.transform(X_test)"
      ],
      "metadata": {
        "id": "IEOhvC_gYtY3"
      },
      "execution_count": 7,
      "outputs": []
    },
    {
      "cell_type": "code",
      "source": [
        "np.random.seed(42)\n",
        "tf.random.set_seed(42)"
      ],
      "metadata": {
        "id": "II6YVofKY7IT"
      },
      "execution_count": 8,
      "outputs": []
    },
    {
      "cell_type": "code",
      "source": [
        "X_train.shape"
      ],
      "metadata": {
        "colab": {
          "base_uri": "https://localhost:8080/"
        },
        "id": "dEHjLvdpY-HO",
        "outputId": "456e59ff-14c0-4182-d8e4-50e764eefebd"
      },
      "execution_count": 9,
      "outputs": [
        {
          "output_type": "execute_result",
          "data": {
            "text/plain": [
              "(11610, 8)"
            ]
          },
          "metadata": {},
          "execution_count": 9
        }
      ]
    },
    {
      "cell_type": "code",
      "source": [
        "input_=keras.layers.Input(shape=X_train.shape[1:])\n",
        "hidden1=keras.layers.Dense(30,activation=\"relu\")(input_)\n",
        "hidden2=keras.layers.Dense(30,activation=\"relu\")(hidden1)               # last parenthesis in each line shows the connections.\n",
        "concat=keras.layers.concatenate([input_,hidden2])                    \n",
        "output=keras.layers.Dense(1)(concat)\n",
        "model=keras.models.Model(inputs=[input_],outputs=output)                # Earlier, we have made the layers and formed the connections , this line declares the input and output.\n",
        "                                                                        # As name input and output will not help keras know about input and output layer."
      ],
      "metadata": {
        "id": "88b9SjhVZBmo"
      },
      "execution_count": 11,
      "outputs": []
    },
    {
      "cell_type": "code",
      "source": [
        "model.summary()"
      ],
      "metadata": {
        "colab": {
          "base_uri": "https://localhost:8080/"
        },
        "id": "kZ2SeOMad7Lr",
        "outputId": "c59298b1-7589-4f51-db74-71927a782a49"
      },
      "execution_count": 12,
      "outputs": [
        {
          "output_type": "stream",
          "name": "stdout",
          "text": [
            "Model: \"model_1\"\n",
            "__________________________________________________________________________________________________\n",
            " Layer (type)                   Output Shape         Param #     Connected to                     \n",
            "==================================================================================================\n",
            " input_2 (InputLayer)           [(None, 8)]          0           []                               \n",
            "                                                                                                  \n",
            " dense_3 (Dense)                (None, 30)           270         ['input_2[0][0]']                \n",
            "                                                                                                  \n",
            " dense_4 (Dense)                (None, 30)           930         ['dense_3[0][0]']                \n",
            "                                                                                                  \n",
            " concatenate_1 (Concatenate)    (None, 38)           0           ['input_2[0][0]',                \n",
            "                                                                  'dense_4[0][0]']                \n",
            "                                                                                                  \n",
            " dense_5 (Dense)                (None, 1)            39          ['concatenate_1[0][0]']          \n",
            "                                                                                                  \n",
            "==================================================================================================\n",
            "Total params: 1,239\n",
            "Trainable params: 1,239\n",
            "Non-trainable params: 0\n",
            "__________________________________________________________________________________________________\n"
          ]
        }
      ]
    },
    {
      "cell_type": "code",
      "source": [
        "import pydot\n",
        "keras.utils.plot_model(model)"
      ],
      "metadata": {
        "colab": {
          "base_uri": "https://localhost:8080/",
          "height": 466
        },
        "id": "XMpaTriOeY2b",
        "outputId": "139b1a8b-260c-478e-eb74-5b9d711d8289"
      },
      "execution_count": 13,
      "outputs": [
        {
          "output_type": "execute_result",
          "data": {
            "image/png": "[encoded data removed]",
            "text/plain": [
              "<IPython.core.display.Image object>"
            ]
          },
          "metadata": {},
          "execution_count": 13
        }
      ]
    },
    {
      "cell_type": "code",
      "source": [
        "model.compile(loss=\"mean_squared_error\",\n",
        "              optimizer=keras.optimizers.SGD(lr=1e-3),  # lr= learning rate\n",
        "              metrics=['mae'])                   # mae= mean absolute error"
      ],
      "metadata": {
        "colab": {
          "base_uri": "https://localhost:8080/"
        },
        "id": "xUPs59fVe64v",
        "outputId": "3c797c00-7837-48a8-d0d8-7dced424fc4f"
      },
      "execution_count": 14,
      "outputs": [
        {
          "output_type": "stream",
          "name": "stderr",
          "text": [
            "/usr/local/lib/python3.8/dist-packages/keras/optimizers/optimizer_v2/gradient_descent.py:108: UserWarning: The `lr` argument is deprecated, use `learning_rate` instead.\n",
            "  super(SGD, self).__init__(name, **kwargs)\n"
          ]
        }
      ]
    },
    {
      "cell_type": "code",
      "source": [
        "model_history= model.fit(X_train, y_train,epochs=20, validation_data=(X_valid,y_valid))"
      ],
      "metadata": {
        "colab": {
          "base_uri": "https://localhost:8080/"
        },
        "id": "ZMGkexAJfvL1",
        "outputId": "b1f3167d-f96e-4ccc-cb2c-780bc0cbecab"
      },
      "execution_count": 15,
      "outputs": [
        {
          "output_type": "stream",
          "name": "stdout",
          "text": [
            "Epoch 1/20\n",
            "363/363 [==============================] - 1s 2ms/step - loss: 1.6920 - mae: 0.8893 - val_loss: 0.8798 - val_mae: 0.6026\n",
            "Epoch 2/20\n",
            "363/363 [==============================] - 1s 2ms/step - loss: 0.6836 - mae: 0.5994 - val_loss: 0.6420 - val_mae: 0.5764\n",
            "Epoch 3/20\n",
            "363/363 [==============================] - 1s 2ms/step - loss: 0.6265 - mae: 0.5775 - val_loss: 0.5891 - val_mae: 0.5503\n",
            "Epoch 4/20\n",
            "363/363 [==============================] - 1s 2ms/step - loss: 0.5877 - mae: 0.5581 - val_loss: 0.5455 - val_mae: 0.5343\n",
            "Epoch 5/20\n",
            "363/363 [==============================] - 1s 2ms/step - loss: 0.5566 - mae: 0.5421 - val_loss: 0.5409 - val_mae: 0.5202\n",
            "Epoch 6/20\n",
            "363/363 [==============================] - 1s 2ms/step - loss: 0.5312 - mae: 0.5298 - val_loss: 0.4903 - val_mae: 0.5046\n",
            "Epoch 7/20\n",
            "363/363 [==============================] - 1s 2ms/step - loss: 0.5108 - mae: 0.5186 - val_loss: 0.4728 - val_mae: 0.4962\n",
            "Epoch 8/20\n",
            "363/363 [==============================] - 1s 2ms/step - loss: 0.4952 - mae: 0.5096 - val_loss: 0.5017 - val_mae: 0.4921\n",
            "Epoch 9/20\n",
            "363/363 [==============================] - 1s 2ms/step - loss: 0.4802 - mae: 0.5025 - val_loss: 0.4511 - val_mae: 0.4811\n",
            "Epoch 10/20\n",
            "363/363 [==============================] - 1s 2ms/step - loss: 0.4685 - mae: 0.4959 - val_loss: 0.4330 - val_mae: 0.4735\n",
            "Epoch 11/20\n",
            "363/363 [==============================] - 1s 2ms/step - loss: 0.4590 - mae: 0.4897 - val_loss: 0.4991 - val_mae: 0.4778\n",
            "Epoch 12/20\n",
            "363/363 [==============================] - 1s 2ms/step - loss: 0.4502 - mae: 0.4851 - val_loss: 0.4179 - val_mae: 0.4658\n",
            "Epoch 13/20\n",
            "363/363 [==============================] - 1s 2ms/step - loss: 0.4433 - mae: 0.4811 - val_loss: 0.4409 - val_mae: 0.4658\n",
            "Epoch 14/20\n",
            "363/363 [==============================] - 1s 2ms/step - loss: 0.4363 - mae: 0.4766 - val_loss: 0.4239 - val_mae: 0.4621\n",
            "Epoch 15/20\n",
            "363/363 [==============================] - 1s 2ms/step - loss: 0.4306 - mae: 0.4736 - val_loss: 0.4480 - val_mae: 0.4601\n",
            "Epoch 16/20\n",
            "363/363 [==============================] - 1s 2ms/step - loss: 0.4253 - mae: 0.4703 - val_loss: 0.4113 - val_mae: 0.4550\n",
            "Epoch 17/20\n",
            "363/363 [==============================] - 1s 2ms/step - loss: 0.4213 - mae: 0.4676 - val_loss: 0.4454 - val_mae: 0.4538\n",
            "Epoch 18/20\n",
            "363/363 [==============================] - 1s 2ms/step - loss: 0.4168 - mae: 0.4650 - val_loss: 0.4537 - val_mae: 0.4518\n",
            "Epoch 19/20\n",
            "363/363 [==============================] - 1s 2ms/step - loss: 0.4126 - mae: 0.4616 - val_loss: 0.4084 - val_mae: 0.4477\n",
            "Epoch 20/20\n",
            "363/363 [==============================] - 1s 2ms/step - loss: 0.4096 - mae: 0.4600 - val_loss: 0.4581 - val_mae: 0.4505\n"
          ]
        }
      ]
    },
    {
      "cell_type": "code",
      "source": [
        "mae_test=model.evaluate(X_test,y_test)"
      ],
      "metadata": {
        "colab": {
          "base_uri": "https://localhost:8080/"
        },
        "id": "Pg4sq6OsgDIG",
        "outputId": "c09ad152-5067-4723-9bb6-6c45a789867d"
      },
      "execution_count": 16,
      "outputs": [
        {
          "output_type": "stream",
          "name": "stdout",
          "text": [
            "162/162 [==============================] - 0s 2ms/step - loss: 0.4007 - mae: 0.4556\n"
          ]
        }
      ]
    },
    {
      "cell_type": "code",
      "source": [
        "model_history.history"
      ],
      "metadata": {
        "colab": {
          "base_uri": "https://localhost:8080/"
        },
        "id": "Ir8BW9qCgMbd",
        "outputId": "4d56e656-1e4f-4596-ab2f-4e5b58e39200"
      },
      "execution_count": 17,
      "outputs": [
        {
          "output_type": "execute_result",
          "data": {
            "text/plain": [
              "{'loss': [1.6920058727264404,\n",
              "  0.6836402416229248,\n",
              "  0.626488208770752,\n",
              "  0.5877465605735779,\n",
              "  0.5565561056137085,\n",
              "  0.5311980247497559,\n",
              "  0.5107864141464233,\n",
              "  0.4951668083667755,\n",
              "  0.4802228510379791,\n",
              "  0.4684668779373169,\n",
              "  0.45896390080451965,\n",
              "  0.45022013783454895,\n",
              "  0.4432655870914459,\n",
              "  0.4363251030445099,\n",
              "  0.4306240975856781,\n",
              "  0.42534440755844116,\n",
              "  0.4212935268878937,\n",
              "  0.41681814193725586,\n",
              "  0.4126456081867218,\n",
              "  0.4095860719680786],\n",
              " 'mae': [0.8892966508865356,\n",
              "  0.5993583798408508,\n",
              "  0.577479362487793,\n",
              "  0.558142364025116,\n",
              "  0.542133629322052,\n",
              "  0.529751718044281,\n",
              "  0.518592119216919,\n",
              "  0.5096290707588196,\n",
              "  0.5025359988212585,\n",
              "  0.4959278404712677,\n",
              "  0.4896956980228424,\n",
              "  0.48507025837898254,\n",
              "  0.48114851117134094,\n",
              "  0.47656989097595215,\n",
              "  0.47358405590057373,\n",
              "  0.4702601432800293,\n",
              "  0.4676000773906708,\n",
              "  0.4649645686149597,\n",
              "  0.46159082651138306,\n",
              "  0.46004408597946167],\n",
              " 'val_loss': [0.8797987103462219,\n",
              "  0.6420254111289978,\n",
              "  0.589079737663269,\n",
              "  0.54546719789505,\n",
              "  0.5408936142921448,\n",
              "  0.4903126060962677,\n",
              "  0.4728315770626068,\n",
              "  0.5017253160476685,\n",
              "  0.451064795255661,\n",
              "  0.4330177903175354,\n",
              "  0.4991108477115631,\n",
              "  0.4179278314113617,\n",
              "  0.44088876247406006,\n",
              "  0.4238821268081665,\n",
              "  0.4480248987674713,\n",
              "  0.41133445501327515,\n",
              "  0.4454249143600464,\n",
              "  0.45374637842178345,\n",
              "  0.40842658281326294,\n",
              "  0.45806536078453064],\n",
              " 'val_mae': [0.6026318669319153,\n",
              "  0.5763723850250244,\n",
              "  0.5502772331237793,\n",
              "  0.534281313419342,\n",
              "  0.5201656818389893,\n",
              "  0.5045694708824158,\n",
              "  0.49619969725608826,\n",
              "  0.49206578731536865,\n",
              "  0.48105910420417786,\n",
              "  0.47347646951675415,\n",
              "  0.4778074026107788,\n",
              "  0.46584856510162354,\n",
              "  0.46577662229537964,\n",
              "  0.4620625376701355,\n",
              "  0.46006855368614197,\n",
              "  0.4549531042575836,\n",
              "  0.4538361132144928,\n",
              "  0.45184800028800964,\n",
              "  0.4477086663246155,\n",
              "  0.45054298639297485]}"
            ]
          },
          "metadata": {},
          "execution_count": 17
        }
      ]
    },
    {
      "cell_type": "code",
      "source": [
        "pd.DataFrame(model_history.history).plot(figsize=(8,5))\n",
        "plt.grid(True)\n",
        "plt.gca().set_ylim(0,1)\n",
        "plt.show()"
      ],
      "metadata": {
        "colab": {
          "base_uri": "https://localhost:8080/",
          "height": 324
        },
        "id": "WgjUr_DcgVdj",
        "outputId": "de40fed0-48c8-458b-d2da-6a89f1df5749"
      },
      "execution_count": 18,
      "outputs": [
        {
          "output_type": "display_data",
          "data": {
            "text/plain": [
              "<Figure size 576x360 with 1 Axes>"
            ],
            "image/png": "[encoded data removed]"
          },
          "metadata": {
            "needs_background": "light"
          }
        }
      ]
    },
    {
      "cell_type": "code",
      "source": [
        "# Above code was used for plotting the graph."
      ],
      "metadata": {
        "id": "6J2IptHZgrCj"
      },
      "execution_count": 19,
      "outputs": []
    },
    {
      "cell_type": "code",
      "source": [
        "# As here we see graph is still moving down ,so, we must run for bigger epochs to reduce our errors."
      ],
      "metadata": {
        "id": "zhxrkTpYgyh0"
      },
      "execution_count": 20,
      "outputs": []
    },
    {
      "cell_type": "code",
      "source": [
        "X_new= X_test[:3]"
      ],
      "metadata": {
        "id": "16oZWJEoh0oy"
      },
      "execution_count": 21,
      "outputs": []
    },
    {
      "cell_type": "code",
      "source": [
        "y_pred= model.predict(X_new)\n",
        "print(y_pred)"
      ],
      "metadata": {
        "colab": {
          "base_uri": "https://localhost:8080/"
        },
        "id": "7AsjdUvziEg9",
        "outputId": "beea0246-b8ae-410c-93fb-e411547b25b6"
      },
      "execution_count": 22,
      "outputs": [
        {
          "output_type": "stream",
          "name": "stdout",
          "text": [
            "1/1 [==============================] - 0s 91ms/step\n",
            "[[0.69968295]\n",
            " [1.662205  ]\n",
            " [3.4106717 ]]\n"
          ]
        }
      ]
    },
    {
      "cell_type": "code",
      "source": [
        "print(y_test[:3])"
      ],
      "metadata": {
        "colab": {
          "base_uri": "https://localhost:8080/"
        },
        "id": "XHE4H4-0iHcK",
        "outputId": "18757e1d-eff2-4cc3-f6c6-5698a90a594f"
      },
      "execution_count": 23,
      "outputs": [
        {
          "output_type": "stream",
          "name": "stdout",
          "text": [
            "[0.477   0.458   5.00001]\n"
          ]
        }
      ]
    },
    {
      "cell_type": "code",
      "source": [],
      "metadata": {
        "id": "a2-Wc9XWiMli"
      },
      "execution_count": null,
      "outputs": []
    }
  ]
}