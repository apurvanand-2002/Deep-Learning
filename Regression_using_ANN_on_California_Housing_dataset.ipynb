{
  "nbformat": 4,
  "nbformat_minor": 0,
  "metadata": {
    "colab": {
      "provenance": []
    },
    "kernelspec": {
      "name": "python3",
      "display_name": "Python 3"
    },
    "language_info": {
      "name": "python"
    }
  },
  "cells": [
    {
      "cell_type": "code",
      "execution_count": 6,
      "metadata": {
        "id": "FWvPxxYt8677"
      },
      "outputs": [],
      "source": [
        "import numpy as np\n",
        "import pandas as pd\n",
        "%matplotlib inline\n",
        "import matplotlib as mlp\n",
        "import matplotlib.pyplot as plt"
      ]
    },
    {
      "cell_type": "code",
      "source": [
        "import tensorflow as tf\n",
        "from tensorflow import keras"
      ],
      "metadata": {
        "id": "375KmSTc9SpT"
      },
      "execution_count": 7,
      "outputs": []
    },
    {
      "cell_type": "code",
      "source": [
        "from sklearn.datasets import fetch_california_housing\n",
        "housing=fetch_california_housing()    #in between parenthesis, for Google Colab Notebook , use ctrl+shift+spacebar to see all pre-defined functions"
      ],
      "metadata": {
        "id": "WUdYJJNS9Y8s"
      },
      "execution_count": 8,
      "outputs": []
    },
    {
      "cell_type": "code",
      "source": [
        "print(housing.feature_names)"
      ],
      "metadata": {
        "colab": {
          "base_uri": "https://localhost:8080/"
        },
        "id": "HtFnfrcd9q9Q",
        "outputId": "d7ae766a-bd3a-44df-97d4-1dc601fff547"
      },
      "execution_count": 9,
      "outputs": [
        {
          "output_type": "stream",
          "name": "stdout",
          "text": [
            "['MedInc', 'HouseAge', 'AveRooms', 'AveBedrms', 'Population', 'AveOccup', 'Latitude', 'Longitude']\n"
          ]
        }
      ]
    },
    {
      "cell_type": "code",
      "source": [
        "from  sklearn.model_selection import train_test_split\n",
        "X_train_full,X_test,y_train_full,y_test=train_test_split(housing.data,housing.target,random_state=42)\n",
        "X_train,X_valid,y_train,y_valid=train_test_split(X_train_full,y_train_full,random_state=42)"
      ],
      "metadata": {
        "id": "PMBss2zrAHh2"
      },
      "execution_count": 10,
      "outputs": []
    },
    {
      "cell_type": "code",
      "source": [
        "# housing.data has independent data amd housing.target has dependent dataset\n",
        "# first, data is broken down into 'full training' and 'testing' data and then 'full training' data is broken down into 'training' data and 'validation' data(for hyperparameter tuning)."
      ],
      "metadata": {
        "id": "qcvZdtw3BmuV"
      },
      "execution_count": 12,
      "outputs": []
    },
    {
      "cell_type": "code",
      "source": [
        "from sklearn.preprocessing import StandardScaler\n",
        "scaler=StandardScaler()\n",
        "#scaler will be used for standardisation so, we will do (x-(mean))/ (standard deviation) .\n",
        "#scaler will use mean and standard deviation, will be trained/fit on the basis of training data.\n",
        "X_train=scaler.fit_transform(X_train)\n",
        "X_valid=scaler.transform(X_valid)\n",
        "X_test=scaler.transform(X_test)"
      ],
      "metadata": {
        "id": "skmKy0SHCs7B"
      },
      "execution_count": 13,
      "outputs": []
    },
    {
      "cell_type": "code",
      "source": [
        "np.random.seed(42)\n",
        "tf.random.set_seed(42)"
      ],
      "metadata": {
        "id": "NcBnxSceJTbH"
      },
      "execution_count": 14,
      "outputs": []
    },
    {
      "cell_type": "code",
      "source": [
        "X_train.shape"
      ],
      "metadata": {
        "colab": {
          "base_uri": "https://localhost:8080/"
        },
        "id": "TmDMS90GJqIw",
        "outputId": "4c2192c6-4c8d-4279-ab71-3467cc34827d"
      },
      "execution_count": 19,
      "outputs": [
        {
          "output_type": "execute_result",
          "data": {
            "text/plain": [
              "(11610, 8)"
            ]
          },
          "metadata": {},
          "execution_count": 19
        }
      ]
    },
    {
      "cell_type": "code",
      "source": [
        "model= keras.models.Sequential([\n",
        "    keras.layers.Dense(30,activation=\"relu\",input_shape=[8]),       #As data has '8'input independent variables, each neuron has input shape of 8 as it takes these input.\n",
        "    # above line can also be written as: \n",
        "    # keras.layers.Dense(30, activation=\"relu\",input_shape=X_train.shape[1:1])\n",
        "    keras.layers.Dense(30,activation=\"relu\") ,\n",
        "    keras.layers.Dense(1)                                    # in output layer, we have only 1 neuron ,so, as it is regression.\n",
        "])"
      ],
      "metadata": {
        "id": "d0LYDw88KDJ-"
      },
      "execution_count": 20,
      "outputs": []
    },
    {
      "cell_type": "code",
      "source": [
        "model.summary()"
      ],
      "metadata": {
        "colab": {
          "base_uri": "https://localhost:8080/"
        },
        "id": "Q4_9_8a1Jv2g",
        "outputId": "cc120f37-2391-4b2f-e192-ae95af09cf48"
      },
      "execution_count": 21,
      "outputs": [
        {
          "output_type": "stream",
          "name": "stdout",
          "text": [
            "Model: \"sequential\"\n",
            "_________________________________________________________________\n",
            " Layer (type)                Output Shape              Param #   \n",
            "=================================================================\n",
            " dense (Dense)               (None, 30)                270       \n",
            "                                                                 \n",
            " dense_1 (Dense)             (None, 30)                930       \n",
            "                                                                 \n",
            " dense_2 (Dense)             (None, 1)                 31        \n",
            "                                                                 \n",
            "=================================================================\n",
            "Total params: 1,231\n",
            "Trainable params: 1,231\n",
            "Non-trainable params: 0\n",
            "_________________________________________________________________\n"
          ]
        }
      ]
    },
    {
      "cell_type": "code",
      "source": [
        "model.compile(loss=\"mean_squared_error\",\n",
        "              optimizer=keras.optimizers.SGD(lr=1e-3),   #lr=learning rate ,by default, it is 0.01 , we have changed it.\n",
        "              metrics=['mae'])    #mae= mean absolute error"
      ],
      "metadata": {
        "colab": {
          "base_uri": "https://localhost:8080/"
        },
        "id": "xBGVWDQbNRb7",
        "outputId": "50014f38-b183-47b6-e143-2eca7c97dcdc"
      },
      "execution_count": 26,
      "outputs": [
        {
          "output_type": "stream",
          "name": "stderr",
          "text": [
            "/usr/local/lib/python3.8/dist-packages/keras/optimizers/optimizer_v2/gradient_descent.py:108: UserWarning: The `lr` argument is deprecated, use `learning_rate` instead.\n",
            "  super(SGD, self).__init__(name, **kwargs)\n"
          ]
        }
      ]
    },
    {
      "cell_type": "code",
      "source": [
        "model_history= model.fit(X_train,y_train,epochs=20,validation_data=(X_valid,y_valid)) "
      ],
      "metadata": {
        "colab": {
          "base_uri": "https://localhost:8080/"
        },
        "id": "DgO1ZH9XRgYi",
        "outputId": "edde3dd6-6f52-4bee-85ae-a4bc0624fffc"
      },
      "execution_count": 27,
      "outputs": [
        {
          "output_type": "stream",
          "name": "stdout",
          "text": [
            "Epoch 1/20\n",
            "363/363 [==============================] - 1s 2ms/step - loss: 1.8866 - mae: 0.9900 - val_loss: 0.7126 - val_mae: 0.6368\n",
            "Epoch 2/20\n",
            "363/363 [==============================] - 1s 2ms/step - loss: 0.6577 - mae: 0.6042 - val_loss: 0.6880 - val_mae: 0.5704\n",
            "Epoch 3/20\n",
            "363/363 [==============================] - 1s 2ms/step - loss: 0.5934 - mae: 0.5618 - val_loss: 0.5803 - val_mae: 0.5352\n",
            "Epoch 4/20\n",
            "363/363 [==============================] - 1s 2ms/step - loss: 0.5557 - mae: 0.5398 - val_loss: 0.5166 - val_mae: 0.5207\n",
            "Epoch 5/20\n",
            "363/363 [==============================] - 1s 2ms/step - loss: 0.5272 - mae: 0.5237 - val_loss: 0.4895 - val_mae: 0.5022\n",
            "Epoch 6/20\n",
            "363/363 [==============================] - 1s 2ms/step - loss: 0.5033 - mae: 0.5113 - val_loss: 0.4951 - val_mae: 0.4934\n",
            "Epoch 7/20\n",
            "363/363 [==============================] - 1s 2ms/step - loss: 0.4854 - mae: 0.5010 - val_loss: 0.4861 - val_mae: 0.4838\n",
            "Epoch 8/20\n",
            "363/363 [==============================] - 1s 2ms/step - loss: 0.4709 - mae: 0.4924 - val_loss: 0.4554 - val_mae: 0.4753\n",
            "Epoch 9/20\n",
            "363/363 [==============================] - 1s 2ms/step - loss: 0.4578 - mae: 0.4857 - val_loss: 0.4413 - val_mae: 0.4671\n",
            "Epoch 10/20\n",
            "363/363 [==============================] - 1s 2ms/step - loss: 0.4474 - mae: 0.4797 - val_loss: 0.4379 - val_mae: 0.4623\n",
            "Epoch 11/20\n",
            "363/363 [==============================] - 1s 2ms/step - loss: 0.4393 - mae: 0.4744 - val_loss: 0.4396 - val_mae: 0.4638\n",
            "Epoch 12/20\n",
            "363/363 [==============================] - 1s 2ms/step - loss: 0.4318 - mae: 0.4703 - val_loss: 0.4507 - val_mae: 0.4573\n",
            "Epoch 13/20\n",
            "363/363 [==============================] - 1s 2ms/step - loss: 0.4261 - mae: 0.4674 - val_loss: 0.3997 - val_mae: 0.4517\n",
            "Epoch 14/20\n",
            "363/363 [==============================] - 1s 2ms/step - loss: 0.4202 - mae: 0.4636 - val_loss: 0.3956 - val_mae: 0.4497\n",
            "Epoch 15/20\n",
            "363/363 [==============================] - 1s 2ms/step - loss: 0.4155 - mae: 0.4613 - val_loss: 0.3916 - val_mae: 0.4464\n",
            "Epoch 16/20\n",
            "363/363 [==============================] - 1s 2ms/step - loss: 0.4112 - mae: 0.4591 - val_loss: 0.3937 - val_mae: 0.4445\n",
            "Epoch 17/20\n",
            "363/363 [==============================] - 1s 2ms/step - loss: 0.4077 - mae: 0.4569 - val_loss: 0.3809 - val_mae: 0.4390\n",
            "Epoch 18/20\n",
            "363/363 [==============================] - 1s 2ms/step - loss: 0.4040 - mae: 0.4545 - val_loss: 0.3793 - val_mae: 0.4368\n",
            "Epoch 19/20\n",
            "363/363 [==============================] - 1s 2ms/step - loss: 0.4004 - mae: 0.4521 - val_loss: 0.3850 - val_mae: 0.4369\n",
            "Epoch 20/20\n",
            "363/363 [==============================] - 1s 2ms/step - loss: 0.3980 - mae: 0.4508 - val_loss: 0.3809 - val_mae: 0.4368\n"
          ]
        }
      ]
    },
    {
      "cell_type": "code",
      "source": [
        "mae_test=model.evaluate(X_test,y_test)"
      ],
      "metadata": {
        "colab": {
          "base_uri": "https://localhost:8080/"
        },
        "id": "YwwcPtjfSU90",
        "outputId": "64b2c7f6-3c56-4d01-9bed-173da54a9317"
      },
      "execution_count": 28,
      "outputs": [
        {
          "output_type": "stream",
          "name": "stdout",
          "text": [
            "162/162 [==============================] - 0s 2ms/step - loss: 0.3942 - mae: 0.4502\n"
          ]
        }
      ]
    },
    {
      "cell_type": "code",
      "source": [
        "#first value is loss and second is mean absolute error as we had fed our data  in that way in model.compile above"
      ],
      "metadata": {
        "id": "iIVS2zo2Te2Z"
      },
      "execution_count": 29,
      "outputs": []
    },
    {
      "cell_type": "code",
      "source": [
        "model_history.history"
      ],
      "metadata": {
        "colab": {
          "base_uri": "https://localhost:8080/"
        },
        "id": "-DYpgJHPTu8C",
        "outputId": "f6bca0d0-cffe-46b2-adbe-9a96c5763d3f"
      },
      "execution_count": 30,
      "outputs": [
        {
          "output_type": "execute_result",
          "data": {
            "text/plain": [
              "{'loss': [1.8866397142410278,\n",
              "  0.6577126979827881,\n",
              "  0.593418538570404,\n",
              "  0.5557191371917725,\n",
              "  0.5271905064582825,\n",
              "  0.5032975673675537,\n",
              "  0.48535558581352234,\n",
              "  0.47091811895370483,\n",
              "  0.45779937505722046,\n",
              "  0.4474469721317291,\n",
              "  0.4393136501312256,\n",
              "  0.43176087737083435,\n",
              "  0.42605164647102356,\n",
              "  0.42017653584480286,\n",
              "  0.41549986600875854,\n",
              "  0.41116511821746826,\n",
              "  0.4077068567276001,\n",
              "  0.40395283699035645,\n",
              "  0.4004494547843933,\n",
              "  0.39796027541160583],\n",
              " 'mae': [0.9900256991386414,\n",
              "  0.6041509509086609,\n",
              "  0.5618005990982056,\n",
              "  0.5398454070091248,\n",
              "  0.5237293243408203,\n",
              "  0.5112562775611877,\n",
              "  0.5010154247283936,\n",
              "  0.492448091506958,\n",
              "  0.4857262969017029,\n",
              "  0.4797375202178955,\n",
              "  0.4744163453578949,\n",
              "  0.4703480303287506,\n",
              "  0.46740883588790894,\n",
              "  0.4636021554470062,\n",
              "  0.461266428232193,\n",
              "  0.4591343402862549,\n",
              "  0.4568699896335602,\n",
              "  0.4545365273952484,\n",
              "  0.4521064758300781,\n",
              "  0.45083147287368774],\n",
              " 'val_loss': [0.7126054763793945,\n",
              "  0.6880088448524475,\n",
              "  0.5803285837173462,\n",
              "  0.5166085362434387,\n",
              "  0.48950764536857605,\n",
              "  0.49507930874824524,\n",
              "  0.4861254394054413,\n",
              "  0.4553801119327545,\n",
              "  0.4413370192050934,\n",
              "  0.43786391615867615,\n",
              "  0.43964439630508423,\n",
              "  0.45066899061203003,\n",
              "  0.39972344040870667,\n",
              "  0.39558932185173035,\n",
              "  0.3915725648403168,\n",
              "  0.3936830461025238,\n",
              "  0.38094857335090637,\n",
              "  0.379347562789917,\n",
              "  0.3850175738334656,\n",
              "  0.380946546792984],\n",
              " 'val_mae': [0.6368111968040466,\n",
              "  0.5703656673431396,\n",
              "  0.5351505279541016,\n",
              "  0.5206613540649414,\n",
              "  0.5022227168083191,\n",
              "  0.4933752417564392,\n",
              "  0.4838489592075348,\n",
              "  0.4752773940563202,\n",
              "  0.46705934405326843,\n",
              "  0.46234604716300964,\n",
              "  0.4637792706489563,\n",
              "  0.4572650194168091,\n",
              "  0.45166537165641785,\n",
              "  0.4496610760688782,\n",
              "  0.446370005607605,\n",
              "  0.4444962739944458,\n",
              "  0.43897414207458496,\n",
              "  0.43681108951568604,\n",
              "  0.4369049370288849,\n",
              "  0.43676161766052246]}"
            ]
          },
          "metadata": {},
          "execution_count": 30
        }
      ]
    },
    {
      "cell_type": "code",
      "source": [
        "# Above code gives all errors in form of a dictionary."
      ],
      "metadata": {
        "id": "285v0wxxT_ts"
      },
      "execution_count": 31,
      "outputs": []
    },
    {
      "cell_type": "code",
      "source": [
        "pd.DataFrame(model_history.history).plot(figsize=(8,5))\n",
        "plt.grid(True)\n",
        "plt.gca().set_ylim(0,1)\n",
        "\n",
        "plt.show()"
      ],
      "metadata": {
        "colab": {
          "base_uri": "https://localhost:8080/",
          "height": 324
        },
        "id": "LN4jDMKyUHQM",
        "outputId": "413d475b-d63e-423d-aaa0-2019c542b3f1"
      },
      "execution_count": 32,
      "outputs": [
        {
          "output_type": "display_data",
          "data": {
            "text/plain": [
              "<Figure size 576x360 with 1 Axes>"
            ],
            "image/png": "[encoded data removed]"
          },
          "metadata": {
            "needs_background": "light"
          }
        }
      ]
    },
    {
      "cell_type": "code",
      "source": [
        "# Important conclusion from the above graph: As the graph is still going down, if we increase epochs or carry out the same operation on more epochs, our errors will be reduced."
      ],
      "metadata": {
        "id": "Dc4JhmJnUjRZ"
      },
      "execution_count": 34,
      "outputs": []
    },
    {
      "cell_type": "code",
      "source": [
        "X_new= X_test[:3]"
      ],
      "metadata": {
        "id": "q_QNibDRU8Ib"
      },
      "execution_count": 35,
      "outputs": []
    },
    {
      "cell_type": "code",
      "source": [
        "y_pred= model.predict(X_new)\n",
        "print(y_pred)"
      ],
      "metadata": {
        "colab": {
          "base_uri": "https://localhost:8080/"
        },
        "id": "RyGmXt2uVw8t",
        "outputId": "99500c31-545e-4c72-836c-5c44fa7c2c95"
      },
      "execution_count": 37,
      "outputs": [
        {
          "output_type": "stream",
          "name": "stdout",
          "text": [
            "1/1 [==============================] - 0s 24ms/step\n",
            "[[0.53287673]\n",
            " [1.8915398 ]\n",
            " [3.4040868 ]]\n"
          ]
        }
      ]
    },
    {
      "cell_type": "code",
      "source": [
        "print(y_test[:3])"
      ],
      "metadata": {
        "colab": {
          "base_uri": "https://localhost:8080/"
        },
        "id": "QckiQDyUV6x5",
        "outputId": "79546b43-8a1d-43f2-a42b-843ea81e93c1"
      },
      "execution_count": 38,
      "outputs": [
        {
          "output_type": "stream",
          "name": "stdout",
          "text": [
            "[0.477   0.458   5.00001]\n"
          ]
        }
      ]
    }
  ]
}