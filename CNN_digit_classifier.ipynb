{
  "nbformat": 4,
  "nbformat_minor": 0,
  "metadata": {
    "colab": {
      "provenance": []
    },
    "kernelspec": {
      "name": "python3",
      "display_name": "Python 3"
    },
    "language_info": {
      "name": "python"
    }
  },
  "cells": [
    {
      "cell_type": "code",
      "execution_count": 1,
      "metadata": {
        "id": "MNipLkVmGDiQ"
      },
      "outputs": [],
      "source": [
        "import numpy as np\n",
        "import pandas as pd\n",
        "%matplotlib inline\n",
        "import matplotlib as mlp\n",
        "import matplotlib.pyplot as plt"
      ]
    },
    {
      "cell_type": "code",
      "source": [
        "import tensorflow as tf\n",
        "from tensorflow import keras"
      ],
      "metadata": {
        "id": "ACPG2q-sHvbU"
      },
      "execution_count": 2,
      "outputs": []
    },
    {
      "cell_type": "code",
      "source": [
        "digit_mnist=keras.datasets.mnist\n",
        "(X_train_full,y_train_full),(X_test,y_test)=digit_mnist.load_data()"
      ],
      "metadata": {
        "colab": {
          "base_uri": "https://localhost:8080/"
        },
        "id": "NBDBKL4WHyxD",
        "outputId": "e10f9960-4b23-475c-df67-be2b15f90eb8"
      },
      "execution_count": 3,
      "outputs": [
        {
          "output_type": "stream",
          "name": "stdout",
          "text": [
            "Downloading data from https://storage.googleapis.com/tensorflow/tf-keras-datasets/mnist.npz\n",
            "11490434/11490434 [==============================] - 0s 0us/step\n"
          ]
        }
      ]
    },
    {
      "cell_type": "code",
      "source": [
        "X_train_full=X_train_full.reshape((60000,28,28,1))  \n",
        "X_test=X_test.reshape((10000,28,28,1)) "
      ],
      "metadata": {
        "id": "t7V6xhWTH9a1"
      },
      "execution_count": 4,
      "outputs": []
    },
    {
      "cell_type": "code",
      "source": [
        "# Data Normalization\n",
        "X_train_n=X_train_full/10.\n",
        "X_test_n=X_test/10."
      ],
      "metadata": {
        "id": "jR5x7JygIJxu"
      },
      "execution_count": 6,
      "outputs": []
    },
    {
      "cell_type": "code",
      "source": [
        "X_valid,X_train=X_train_n[:6000],X_train_n[6000:]\n",
        "y_valid,y_train=y_train_full[:6000],y_train_full[6000:]\n",
        "X_test=X_test_n"
      ],
      "metadata": {
        "id": "rcxJ-GE5IeRx"
      },
      "execution_count": 7,
      "outputs": []
    },
    {
      "cell_type": "code",
      "source": [
        "np.random.seed(42)\n",
        "tf.random.set_seed(42)"
      ],
      "metadata": {
        "id": "fcw0RkAFI3TC"
      },
      "execution_count": 9,
      "outputs": []
    },
    {
      "cell_type": "code",
      "source": [
        "model= keras.models.Sequential()\n",
        "model.add(keras.layers.Conv2D(filters=32,kernel_size=(3,3),strides=1,padding='valid',activation='relu',input_shape=(28,28,1)))\n",
        "model.add(keras.layers.MaxPooling2D((2,2)))\n",
        "# ANN starts from here:\n",
        "model.add(keras.layers.Flatten())\n",
        "model.add(keras.layers.Dense(200,activation=\"relu\"))\n",
        "model.add(keras.layers.Dense(100,activation=\"relu\"))\n",
        "model.add(keras.layers.Dense(10,activation=\"softmax\"))"
      ],
      "metadata": {
        "id": "foZrJZXGI8gm"
      },
      "execution_count": 10,
      "outputs": []
    },
    {
      "cell_type": "code",
      "source": [
        "import pydot\n",
        "keras.utils.plot_model(model)"
      ],
      "metadata": {
        "colab": {
          "base_uri": "https://localhost:8080/",
          "height": 661
        },
        "id": "kqqV3aWjJMu7",
        "outputId": "d78fc715-afd5-4cd8-e368-4da997f0cb9d"
      },
      "execution_count": 11,
      "outputs": [
        {
          "output_type": "execute_result",
          "data": {
            "image/png": "[encoded data removed]",
            "text/plain": [
              "<IPython.core.display.Image object>"
            ]
          },
          "metadata": {},
          "execution_count": 11
        }
      ]
    },
    {
      "cell_type": "code",
      "source": [
        "model.summary()"
      ],
      "metadata": {
        "colab": {
          "base_uri": "https://localhost:8080/"
        },
        "id": "HHHAANB6JRH_",
        "outputId": "df9584f2-4bfc-4d2a-844a-739b09ee80d8"
      },
      "execution_count": 12,
      "outputs": [
        {
          "output_type": "stream",
          "name": "stdout",
          "text": [
            "Model: \"sequential\"\n",
            "_________________________________________________________________\n",
            " Layer (type)                Output Shape              Param #   \n",
            "=================================================================\n",
            " conv2d (Conv2D)             (None, 26, 26, 32)        320       \n",
            "                                                                 \n",
            " max_pooling2d (MaxPooling2D  (None, 13, 13, 32)       0         \n",
            " )                                                               \n",
            "                                                                 \n",
            " flatten (Flatten)           (None, 5408)              0         \n",
            "                                                                 \n",
            " dense (Dense)               (None, 200)               1081800   \n",
            "                                                                 \n",
            " dense_1 (Dense)             (None, 100)               20100     \n",
            "                                                                 \n",
            " dense_2 (Dense)             (None, 10)                1010      \n",
            "                                                                 \n",
            "=================================================================\n",
            "Total params: 1,103,230\n",
            "Trainable params: 1,103,230\n",
            "Non-trainable params: 0\n",
            "_________________________________________________________________\n"
          ]
        }
      ]
    },
    {
      "cell_type": "code",
      "source": [
        "model.compile(loss=\"sparse_categorical_crossentropy\",\n",
        "              optimizer=\"sgd\",\n",
        "              metrics=['accuracy'])"
      ],
      "metadata": {
        "id": "DdSivtTuJapA"
      },
      "execution_count": 13,
      "outputs": []
    },
    {
      "cell_type": "code",
      "source": [
        "model_history=model.fit(X_train,y_train,epochs=60,batch_size=64,validation_data=(X_valid,y_valid))"
      ],
      "metadata": {
        "colab": {
          "base_uri": "https://localhost:8080/"
        },
        "id": "qvPIjJ8kJeFn",
        "outputId": "5bb2dc73-2508-4c97-9d6d-f207e58cf618"
      },
      "execution_count": 14,
      "outputs": [
        {
          "output_type": "stream",
          "name": "stdout",
          "text": [
            "Epoch 1/60\n",
            "844/844 [==============================] - 32s 37ms/step - loss: 0.2303 - accuracy: 0.9308 - val_loss: 0.0982 - val_accuracy: 0.9722\n",
            "Epoch 2/60\n",
            "844/844 [==============================] - 31s 37ms/step - loss: 0.0838 - accuracy: 0.9746 - val_loss: 0.0896 - val_accuracy: 0.9725\n",
            "Epoch 3/60\n",
            "844/844 [==============================] - 32s 38ms/step - loss: 0.0564 - accuracy: 0.9831 - val_loss: 0.0663 - val_accuracy: 0.9802\n",
            "Epoch 4/60\n",
            "844/844 [==============================] - 31s 37ms/step - loss: 0.0410 - accuracy: 0.9878 - val_loss: 0.0615 - val_accuracy: 0.9822\n",
            "Epoch 5/60\n",
            "844/844 [==============================] - 31s 37ms/step - loss: 0.0296 - accuracy: 0.9909 - val_loss: 0.0665 - val_accuracy: 0.9812\n",
            "Epoch 6/60\n",
            "844/844 [==============================] - 32s 38ms/step - loss: 0.0217 - accuracy: 0.9938 - val_loss: 0.0635 - val_accuracy: 0.9823\n",
            "Epoch 7/60\n",
            "844/844 [==============================] - 31s 37ms/step - loss: 0.0172 - accuracy: 0.9955 - val_loss: 0.0532 - val_accuracy: 0.9853\n",
            "Epoch 8/60\n",
            "844/844 [==============================] - 31s 37ms/step - loss: 0.0116 - accuracy: 0.9968 - val_loss: 0.0533 - val_accuracy: 0.9845\n",
            "Epoch 9/60\n",
            "844/844 [==============================] - 32s 38ms/step - loss: 0.0090 - accuracy: 0.9980 - val_loss: 0.0577 - val_accuracy: 0.9843\n",
            "Epoch 10/60\n",
            "844/844 [==============================] - 31s 37ms/step - loss: 0.0067 - accuracy: 0.9987 - val_loss: 0.0514 - val_accuracy: 0.9865\n",
            "Epoch 11/60\n",
            "844/844 [==============================] - 31s 37ms/step - loss: 0.0043 - accuracy: 0.9994 - val_loss: 0.0515 - val_accuracy: 0.9863\n",
            "Epoch 12/60\n",
            "844/844 [==============================] - 32s 38ms/step - loss: 0.0034 - accuracy: 0.9995 - val_loss: 0.0538 - val_accuracy: 0.9857\n",
            "Epoch 13/60\n",
            "844/844 [==============================] - 31s 37ms/step - loss: 0.0026 - accuracy: 0.9997 - val_loss: 0.0527 - val_accuracy: 0.9862\n",
            "Epoch 14/60\n",
            "844/844 [==============================] - 31s 37ms/step - loss: 0.0021 - accuracy: 0.9998 - val_loss: 0.0508 - val_accuracy: 0.9870\n",
            "Epoch 15/60\n",
            "844/844 [==============================] - 32s 38ms/step - loss: 0.0017 - accuracy: 0.9999 - val_loss: 0.0521 - val_accuracy: 0.9875\n",
            "Epoch 16/60\n",
            "844/844 [==============================] - 31s 37ms/step - loss: 0.0013 - accuracy: 0.9999 - val_loss: 0.0526 - val_accuracy: 0.9862\n",
            "Epoch 17/60\n",
            "844/844 [==============================] - 31s 37ms/step - loss: 0.0011 - accuracy: 1.0000 - val_loss: 0.0536 - val_accuracy: 0.9868\n",
            "Epoch 18/60\n",
            "844/844 [==============================] - 32s 38ms/step - loss: 8.8562e-04 - accuracy: 1.0000 - val_loss: 0.0536 - val_accuracy: 0.9868\n",
            "Epoch 19/60\n",
            "844/844 [==============================] - 31s 37ms/step - loss: 8.0493e-04 - accuracy: 1.0000 - val_loss: 0.0527 - val_accuracy: 0.9872\n",
            "Epoch 20/60\n",
            "844/844 [==============================] - 31s 37ms/step - loss: 7.1447e-04 - accuracy: 1.0000 - val_loss: 0.0546 - val_accuracy: 0.9875\n",
            "Epoch 21/60\n",
            "844/844 [==============================] - 32s 38ms/step - loss: 6.6565e-04 - accuracy: 1.0000 - val_loss: 0.0547 - val_accuracy: 0.9873\n",
            "Epoch 22/60\n",
            "844/844 [==============================] - 31s 37ms/step - loss: 5.8521e-04 - accuracy: 1.0000 - val_loss: 0.0558 - val_accuracy: 0.9877\n",
            "Epoch 23/60\n",
            "844/844 [==============================] - 32s 38ms/step - loss: 5.4393e-04 - accuracy: 1.0000 - val_loss: 0.0559 - val_accuracy: 0.9867\n",
            "Epoch 24/60\n",
            "844/844 [==============================] - 31s 37ms/step - loss: 4.9901e-04 - accuracy: 1.0000 - val_loss: 0.0547 - val_accuracy: 0.9877\n",
            "Epoch 25/60\n",
            "844/844 [==============================] - 31s 37ms/step - loss: 4.6041e-04 - accuracy: 1.0000 - val_loss: 0.0564 - val_accuracy: 0.9875\n",
            "Epoch 26/60\n",
            "844/844 [==============================] - 32s 38ms/step - loss: 4.4236e-04 - accuracy: 1.0000 - val_loss: 0.0559 - val_accuracy: 0.9873\n",
            "Epoch 27/60\n",
            "844/844 [==============================] - 31s 36ms/step - loss: 4.1122e-04 - accuracy: 1.0000 - val_loss: 0.0557 - val_accuracy: 0.9872\n",
            "Epoch 28/60\n",
            "844/844 [==============================] - 31s 36ms/step - loss: 3.8915e-04 - accuracy: 1.0000 - val_loss: 0.0558 - val_accuracy: 0.9877\n",
            "Epoch 29/60\n",
            "844/844 [==============================] - 32s 38ms/step - loss: 3.6257e-04 - accuracy: 1.0000 - val_loss: 0.0562 - val_accuracy: 0.9880\n",
            "Epoch 30/60\n",
            "844/844 [==============================] - 31s 37ms/step - loss: 3.4333e-04 - accuracy: 1.0000 - val_loss: 0.0581 - val_accuracy: 0.9875\n",
            "Epoch 31/60\n",
            "844/844 [==============================] - 31s 36ms/step - loss: 3.2649e-04 - accuracy: 1.0000 - val_loss: 0.0572 - val_accuracy: 0.9875\n",
            "Epoch 32/60\n",
            "844/844 [==============================] - 32s 38ms/step - loss: 3.1485e-04 - accuracy: 1.0000 - val_loss: 0.0574 - val_accuracy: 0.9873\n",
            "Epoch 33/60\n",
            "844/844 [==============================] - 31s 37ms/step - loss: 2.9947e-04 - accuracy: 1.0000 - val_loss: 0.0577 - val_accuracy: 0.9873\n",
            "Epoch 34/60\n",
            "844/844 [==============================] - 31s 37ms/step - loss: 2.8591e-04 - accuracy: 1.0000 - val_loss: 0.0577 - val_accuracy: 0.9878\n",
            "Epoch 35/60\n",
            "844/844 [==============================] - 32s 38ms/step - loss: 2.7288e-04 - accuracy: 1.0000 - val_loss: 0.0577 - val_accuracy: 0.9875\n",
            "Epoch 36/60\n",
            "844/844 [==============================] - 31s 37ms/step - loss: 2.5935e-04 - accuracy: 1.0000 - val_loss: 0.0578 - val_accuracy: 0.9878\n",
            "Epoch 37/60\n",
            "844/844 [==============================] - 31s 37ms/step - loss: 2.5173e-04 - accuracy: 1.0000 - val_loss: 0.0582 - val_accuracy: 0.9873\n",
            "Epoch 38/60\n",
            "844/844 [==============================] - 32s 38ms/step - loss: 2.4004e-04 - accuracy: 1.0000 - val_loss: 0.0583 - val_accuracy: 0.9878\n",
            "Epoch 39/60\n",
            "844/844 [==============================] - 31s 37ms/step - loss: 2.3199e-04 - accuracy: 1.0000 - val_loss: 0.0590 - val_accuracy: 0.9877\n",
            "Epoch 40/60\n",
            "844/844 [==============================] - 31s 37ms/step - loss: 2.2291e-04 - accuracy: 1.0000 - val_loss: 0.0589 - val_accuracy: 0.9875\n",
            "Epoch 41/60\n",
            "844/844 [==============================] - 32s 38ms/step - loss: 2.1535e-04 - accuracy: 1.0000 - val_loss: 0.0589 - val_accuracy: 0.9880\n",
            "Epoch 42/60\n",
            "844/844 [==============================] - 31s 37ms/step - loss: 2.0913e-04 - accuracy: 1.0000 - val_loss: 0.0590 - val_accuracy: 0.9870\n",
            "Epoch 43/60\n",
            "844/844 [==============================] - 31s 36ms/step - loss: 2.0129e-04 - accuracy: 1.0000 - val_loss: 0.0592 - val_accuracy: 0.9875\n",
            "Epoch 44/60\n",
            "844/844 [==============================] - 32s 38ms/step - loss: 1.9455e-04 - accuracy: 1.0000 - val_loss: 0.0594 - val_accuracy: 0.9875\n",
            "Epoch 45/60\n",
            "844/844 [==============================] - 31s 37ms/step - loss: 1.9000e-04 - accuracy: 1.0000 - val_loss: 0.0595 - val_accuracy: 0.9878\n",
            "Epoch 46/60\n",
            "844/844 [==============================] - 31s 37ms/step - loss: 1.8445e-04 - accuracy: 1.0000 - val_loss: 0.0593 - val_accuracy: 0.9880\n",
            "Epoch 47/60\n",
            "844/844 [==============================] - 32s 38ms/step - loss: 1.7775e-04 - accuracy: 1.0000 - val_loss: 0.0595 - val_accuracy: 0.9880\n",
            "Epoch 48/60\n",
            "844/844 [==============================] - 31s 37ms/step - loss: 1.7218e-04 - accuracy: 1.0000 - val_loss: 0.0600 - val_accuracy: 0.9878\n",
            "Epoch 49/60\n",
            "844/844 [==============================] - 31s 37ms/step - loss: 1.6690e-04 - accuracy: 1.0000 - val_loss: 0.0598 - val_accuracy: 0.9877\n",
            "Epoch 50/60\n",
            "844/844 [==============================] - 32s 38ms/step - loss: 1.6327e-04 - accuracy: 1.0000 - val_loss: 0.0607 - val_accuracy: 0.9877\n",
            "Epoch 51/60\n",
            "844/844 [==============================] - 31s 37ms/step - loss: 1.5868e-04 - accuracy: 1.0000 - val_loss: 0.0596 - val_accuracy: 0.9880\n",
            "Epoch 52/60\n",
            "844/844 [==============================] - 31s 37ms/step - loss: 1.5458e-04 - accuracy: 1.0000 - val_loss: 0.0599 - val_accuracy: 0.9875\n",
            "Epoch 53/60\n",
            "844/844 [==============================] - 32s 38ms/step - loss: 1.4988e-04 - accuracy: 1.0000 - val_loss: 0.0605 - val_accuracy: 0.9875\n",
            "Epoch 54/60\n",
            "844/844 [==============================] - 31s 37ms/step - loss: 1.4699e-04 - accuracy: 1.0000 - val_loss: 0.0602 - val_accuracy: 0.9878\n",
            "Epoch 55/60\n",
            "844/844 [==============================] - 32s 37ms/step - loss: 1.4309e-04 - accuracy: 1.0000 - val_loss: 0.0603 - val_accuracy: 0.9877\n",
            "Epoch 56/60\n",
            "844/844 [==============================] - 32s 38ms/step - loss: 1.3962e-04 - accuracy: 1.0000 - val_loss: 0.0606 - val_accuracy: 0.9880\n",
            "Epoch 57/60\n",
            "844/844 [==============================] - 32s 37ms/step - loss: 1.3632e-04 - accuracy: 1.0000 - val_loss: 0.0610 - val_accuracy: 0.9875\n",
            "Epoch 58/60\n",
            "844/844 [==============================] - 32s 37ms/step - loss: 1.3349e-04 - accuracy: 1.0000 - val_loss: 0.0610 - val_accuracy: 0.9880\n",
            "Epoch 59/60\n",
            "844/844 [==============================] - 32s 38ms/step - loss: 1.3026e-04 - accuracy: 1.0000 - val_loss: 0.0612 - val_accuracy: 0.9880\n",
            "Epoch 60/60\n",
            "844/844 [==============================] - 31s 37ms/step - loss: 1.2668e-04 - accuracy: 1.0000 - val_loss: 0.0609 - val_accuracy: 0.9880\n"
          ]
        }
      ]
    },
    {
      "cell_type": "code",
      "source": [
        "import pandas as pd\n",
        "pd.DataFrame(model_history.history).plot(figsize=(8,5))\n",
        "plt.grid(True)\n",
        "plt.gca().set_ylim(0,1)\n",
        "plt.show()"
      ],
      "metadata": {
        "colab": {
          "base_uri": "https://localhost:8080/",
          "height": 324
        },
        "id": "d7UydPGsJkgg",
        "outputId": "eb0243cc-c429-4161-a2f9-b9d89d134621"
      },
      "execution_count": 15,
      "outputs": [
        {
          "output_type": "display_data",
          "data": {
            "text/plain": [
              "<Figure size 576x360 with 1 Axes>"
            ],
            "image/png": "[encoded data removed]"
          },
          "metadata": {
            "needs_background": "light"
          }
        }
      ]
    },
    {
      "cell_type": "code",
      "source": [
        "model.evaluate(X_test_n,y_test)"
      ],
      "metadata": {
        "colab": {
          "base_uri": "https://localhost:8080/"
        },
        "id": "YeMhezgeRd3E",
        "outputId": "01c8a8b9-d2ce-4e1b-cf36-159845bdb51d"
      },
      "execution_count": 16,
      "outputs": [
        {
          "output_type": "stream",
          "name": "stdout",
          "text": [
            "313/313 [==============================] - 4s 12ms/step - loss: 0.0624 - accuracy: 0.9865\n"
          ]
        },
        {
          "output_type": "execute_result",
          "data": {
            "text/plain": [
              "[0.062378887087106705, 0.9865000247955322]"
            ]
          },
          "metadata": {},
          "execution_count": 16
        }
      ]
    },
    {
      "cell_type": "code",
      "source": [
        "X_new=X_test[:3]"
      ],
      "metadata": {
        "id": "MGylfsXyRjF9"
      },
      "execution_count": 17,
      "outputs": []
    },
    {
      "cell_type": "code",
      "source": [
        "y_pred=model.predict(X_new)"
      ],
      "metadata": {
        "colab": {
          "base_uri": "https://localhost:8080/"
        },
        "id": "dW_vTV2LRoTe",
        "outputId": "8b66760b-2eca-49f8-c09c-7c6c0c7b6d52"
      },
      "execution_count": 18,
      "outputs": [
        {
          "output_type": "stream",
          "name": "stdout",
          "text": [
            "1/1 [==============================] - 0s 89ms/step\n"
          ]
        }
      ]
    },
    {
      "cell_type": "code",
      "source": [
        "y_pred.round(2)"
      ],
      "metadata": {
        "colab": {
          "base_uri": "https://localhost:8080/"
        },
        "id": "1VECYFtCRrX5",
        "outputId": "0e8f3b60-c197-443b-93a1-ff4818b7ca4d"
      },
      "execution_count": 19,
      "outputs": [
        {
          "output_type": "execute_result",
          "data": {
            "text/plain": [
              "array([[0., 0., 0., 0., 0., 0., 0., 1., 0., 0.],\n",
              "       [0., 0., 1., 0., 0., 0., 0., 0., 0., 0.],\n",
              "       [0., 1., 0., 0., 0., 0., 0., 0., 0., 0.]], dtype=float32)"
            ]
          },
          "metadata": {},
          "execution_count": 19
        }
      ]
    },
    {
      "cell_type": "code",
      "source": [
        "y_test[:3]"
      ],
      "metadata": {
        "colab": {
          "base_uri": "https://localhost:8080/"
        },
        "id": "v8DdHiNgRuh1",
        "outputId": "f4850fef-917e-4bec-ef29-c43f2638bce1"
      },
      "execution_count": 20,
      "outputs": [
        {
          "output_type": "execute_result",
          "data": {
            "text/plain": [
              "array([7, 2, 1], dtype=uint8)"
            ]
          },
          "metadata": {},
          "execution_count": 20
        }
      ]
    },
    {
      "cell_type": "code",
      "source": [
        "# so , predicted and actual outputs are same."
      ],
      "metadata": {
        "id": "M7WSJQVERxw8"
      },
      "execution_count": 21,
      "outputs": []
    }
  ]
}