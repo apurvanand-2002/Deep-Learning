{
  "nbformat": 4,
  "nbformat_minor": 0,
  "metadata": {
    "colab": {
      "provenance": []
    },
    "kernelspec": {
      "name": "python3",
      "display_name": "Python 3"
    },
    "language_info": {
      "name": "python"
    }
  },
  "cells": [
    {
      "cell_type": "code",
      "execution_count": 1,
      "metadata": {
        "id": "Gt8Ul2pPEoTC"
      },
      "outputs": [],
      "source": [
        "import numpy as np\n",
        "import pandas as pd\n",
        "%matplotlib inline\n",
        "import matplotlib as mlp\n",
        "import matplotlib.pyplot as plt"
      ]
    },
    {
      "cell_type": "code",
      "source": [
        "import tensorflow as tf\n",
        "from tensorflow import keras"
      ],
      "metadata": {
        "id": "Ki9SJHSVFC07"
      },
      "execution_count": 2,
      "outputs": []
    },
    {
      "cell_type": "code",
      "source": [
        "fashion_mnist=keras.datasets.fashion_mnist\n",
        "(X_train_full,y_train_full),(X_test,y_test)=fashion_mnist.load_data()"
      ],
      "metadata": {
        "colab": {
          "base_uri": "https://localhost:8080/"
        },
        "id": "c7U3Gn5xFPEu",
        "outputId": "ed013233-ed99-41c2-a923-be4975fa994e"
      },
      "execution_count": 3,
      "outputs": [
        {
          "output_type": "stream",
          "name": "stdout",
          "text": [
            "Downloading data from https://storage.googleapis.com/tensorflow/tf-keras-datasets/train-labels-idx1-ubyte.gz\n",
            "29515/29515 [==============================] - 0s 0us/step\n",
            "Downloading data from https://storage.googleapis.com/tensorflow/tf-keras-datasets/train-images-idx3-ubyte.gz\n",
            "26421880/26421880 [==============================] - 0s 0us/step\n",
            "Downloading data from https://storage.googleapis.com/tensorflow/tf-keras-datasets/t10k-labels-idx1-ubyte.gz\n",
            "5148/5148 [==============================] - 0s 0us/step\n",
            "Downloading data from https://storage.googleapis.com/tensorflow/tf-keras-datasets/t10k-images-idx3-ubyte.gz\n",
            "4422102/4422102 [==============================] - 0s 0us/step\n"
          ]
        }
      ]
    },
    {
      "cell_type": "code",
      "source": [
        "class_names=[\"T-shirts/top\",\"trousers\",\"Pullovers\",\"Dress\",\"Coat\",\"Sandal\",\"Shirt\",\"Sneaker\",\"Bag\",\"Ankle Boot\"]"
      ],
      "metadata": {
        "id": "unHDRy_IFvU0"
      },
      "execution_count": 4,
      "outputs": []
    },
    {
      "cell_type": "code",
      "source": [
        "# Data reshaping is to be done in CNN and was not done in ANN.\n",
        "# In ANN , we had first 'flatten' our dataset but here we will convert our 2D dataset into 3D dataset by adding 'channnel' or 'feature map' as a dimension."
      ],
      "metadata": {
        "id": "ijAfqx2JGFp7"
      },
      "execution_count": 5,
      "outputs": []
    },
    {
      "cell_type": "code",
      "source": [
        "X_train_full=X_train_full.reshape((60000,28,28,1))  # 60000 images are in training dataset\n",
        "X_test=X_test.reshape((10000,28,28,1))              # 10000 images are in testing dataset"
      ],
      "metadata": {
        "id": "RxSB5jq0MDQi"
      },
      "execution_count": 6,
      "outputs": []
    },
    {
      "cell_type": "code",
      "source": [
        "# Data Normalization\n",
        "X_train_n=X_train_full/255.\n",
        "X_test_n=X_test/255."
      ],
      "metadata": {
        "id": "DmyTg_bqMdqQ"
      },
      "execution_count": 7,
      "outputs": []
    },
    {
      "cell_type": "code",
      "source": [
        "#dividing data into train,test and validation\n",
        "X_valid,X_train=X_train_n[:5000],X_train_n[5000:]\n",
        "y_valid,y_train=y_train_full[:5000],y_train_full[5000:]\n",
        "X_test=X_test_n"
      ],
      "metadata": {
        "id": "pM4WaK0_M49v"
      },
      "execution_count": 8,
      "outputs": []
    },
    {
      "cell_type": "code",
      "source": [
        "#creating Model architecture"
      ],
      "metadata": {
        "id": "Wmk7_M7aRvQY"
      },
      "execution_count": 9,
      "outputs": []
    },
    {
      "cell_type": "code",
      "source": [
        "np.random.seed(42)\n",
        "tf.random.set_seed(42)"
      ],
      "metadata": {
        "id": "PK-bFzR8R1lv"
      },
      "execution_count": 10,
      "outputs": []
    },
    {
      "cell_type": "code",
      "source": [
        "# CNN uses ANN. ANN will be added after CNN layers."
      ],
      "metadata": {
        "id": "bQSxwIhfSr21"
      },
      "execution_count": 11,
      "outputs": []
    },
    {
      "cell_type": "code",
      "source": [
        "# number of 'filters' is equal to number of 'feature maps' or 'channels' as each 'filter' gives rise to one feature map. This will give height to a convolutionary layer."
      ],
      "metadata": {
        "id": "quUKKkxsUA40"
      },
      "execution_count": 12,
      "outputs": []
    },
    {
      "cell_type": "code",
      "source": [
        "model= keras.models.Sequential()\n",
        "model.add(keras.layers.Conv2D(filters=32,kernel_size=(3,3),strides=1,padding='valid',activation='relu',input_shape=(28,28,1)))\n",
        "# filter means feature maps or channels. So, these filters give height to a 'convolutionary layer'.\n",
        "# kernel_size means filter size.\n",
        "# Activation function will always be 'Rectified Linear Unit(ReLU)' in CNN.\n",
        "# In input_shape=(28,28,1) ; '1' is number of 'channel' / 'feature-map' / 'filter' .In a coloured picture, this number will be 3.\n",
        "# model.add(keras.layers.MaxPooling2D((2,2)))\n",
        "# Pooling layer is used so, as to reduce time , number of computations ,load on system (pc, laptop etc) etc .Pooling layers do not overlap.\n",
        "# So, receptive field is of 2 x 2. As pooling layer is a receptive field.\n",
        "\n",
        "# ANN starts from here:\n",
        "model.add(keras.layers.Flatten())\n",
        "model.add(keras.layers.Dense(300,activation=\"relu\"))\n",
        "model.add(keras.layers.Dense(100,activation=\"relu\"))\n",
        "model.add(keras.layers.Dense(10,activation=\"softmax\"))"
      ],
      "metadata": {
        "id": "OxliK9elVFCr"
      },
      "execution_count": 13,
      "outputs": []
    },
    {
      "cell_type": "code",
      "source": [
        "import pydot\n",
        "keras.utils.plot_model(model)"
      ],
      "metadata": {
        "colab": {
          "base_uri": "https://localhost:8080/",
          "height": 564
        },
        "id": "IqbtALS4atKH",
        "outputId": "5123f388-87ad-4fdd-cef6-04189fd6022b"
      },
      "execution_count": 14,
      "outputs": [
        {
          "output_type": "execute_result",
          "data": {
            "image/png": "[encoded data removed]",
            "text/plain": [
              "<IPython.core.display.Image object>"
            ]
          },
          "metadata": {},
          "execution_count": 14
        }
      ]
    },
    {
      "cell_type": "code",
      "source": [
        "model.summary()"
      ],
      "metadata": {
        "colab": {
          "base_uri": "https://localhost:8080/"
        },
        "id": "1HqGPaVmbi0K",
        "outputId": "761d20df-08c2-4a72-e1ee-dd9523d6e6fc"
      },
      "execution_count": 15,
      "outputs": [
        {
          "output_type": "stream",
          "name": "stdout",
          "text": [
            "Model: \"sequential\"\n",
            "_________________________________________________________________\n",
            " Layer (type)                Output Shape              Param #   \n",
            "=================================================================\n",
            " conv2d (Conv2D)             (None, 26, 26, 32)        320       \n",
            "                                                                 \n",
            " flatten (Flatten)           (None, 21632)             0         \n",
            "                                                                 \n",
            " dense (Dense)               (None, 300)               6489900   \n",
            "                                                                 \n",
            " dense_1 (Dense)             (None, 100)               30100     \n",
            "                                                                 \n",
            " dense_2 (Dense)             (None, 10)                1010      \n",
            "                                                                 \n",
            "=================================================================\n",
            "Total params: 6,521,330\n",
            "Trainable params: 6,521,330\n",
            "Non-trainable params: 0\n",
            "_________________________________________________________________\n"
          ]
        }
      ]
    },
    {
      "cell_type": "code",
      "source": [
        "# from summary , due to use of maxpooling our parameters are lesser otherwise, due to overlapp, number of parameters would have crossed 4 or 5 millions."
      ],
      "metadata": {
        "id": "BYEkFs1GbpYB"
      },
      "execution_count": 16,
      "outputs": []
    },
    {
      "cell_type": "code",
      "source": [
        "model.compile(loss=\"sparse_categorical_crossentropy\",\n",
        "              optimizer=\"sgd\",\n",
        "              metrics=['accuracy'])"
      ],
      "metadata": {
        "id": "cSulpx5qcM03"
      },
      "execution_count": 17,
      "outputs": []
    },
    {
      "cell_type": "code",
      "source": [
        "model_history=model.fit(X_train,y_train,epochs=10,batch_size=64,validation_data=(X_valid,y_valid))"
      ],
      "metadata": {
        "colab": {
          "base_uri": "https://localhost:8080/"
        },
        "id": "YDI9YE29c5OQ",
        "outputId": "5b34c0b1-7daa-4477-b9f2-72dacbdaa9bb"
      },
      "execution_count": 18,
      "outputs": [
        {
          "output_type": "stream",
          "name": "stdout",
          "text": [
            "Epoch 1/10\n",
            "860/860 [==============================] - 102s 117ms/step - loss: 0.7366 - accuracy: 0.7473 - val_loss: 0.6859 - val_accuracy: 0.7514\n",
            "Epoch 2/10\n",
            "860/860 [==============================] - 89s 104ms/step - loss: 0.4931 - accuracy: 0.8224 - val_loss: 0.4672 - val_accuracy: 0.8264\n",
            "Epoch 3/10\n",
            "860/860 [==============================] - 88s 103ms/step - loss: 0.4421 - accuracy: 0.8393 - val_loss: 0.9879 - val_accuracy: 0.6970\n",
            "Epoch 4/10\n",
            "860/860 [==============================] - 89s 104ms/step - loss: 0.4098 - accuracy: 0.8527 - val_loss: 0.3941 - val_accuracy: 0.8580\n",
            "Epoch 5/10\n",
            "860/860 [==============================] - 87s 102ms/step - loss: 0.3893 - accuracy: 0.8598 - val_loss: 0.4047 - val_accuracy: 0.8532\n",
            "Epoch 6/10\n",
            "860/860 [==============================] - 88s 103ms/step - loss: 0.3685 - accuracy: 0.8661 - val_loss: 0.3554 - val_accuracy: 0.8728\n",
            "Epoch 7/10\n",
            "860/860 [==============================] - 89s 103ms/step - loss: 0.3545 - accuracy: 0.8706 - val_loss: 0.3945 - val_accuracy: 0.8588\n",
            "Epoch 8/10\n",
            "860/860 [==============================] - 88s 103ms/step - loss: 0.3420 - accuracy: 0.8762 - val_loss: 0.4257 - val_accuracy: 0.8410\n",
            "Epoch 9/10\n",
            "860/860 [==============================] - 88s 103ms/step - loss: 0.3315 - accuracy: 0.8795 - val_loss: 0.3626 - val_accuracy: 0.8648\n",
            "Epoch 10/10\n",
            "860/860 [==============================] - 88s 103ms/step - loss: 0.3234 - accuracy: 0.8817 - val_loss: 0.3897 - val_accuracy: 0.8522\n"
          ]
        }
      ]
    },
    {
      "cell_type": "code",
      "source": [
        "import pandas as pd\n",
        "pd.DataFrame(model_history.history).plot(figsize=(8,5))\n",
        "plt.grid(True)\n",
        "plt.gca().set_ylim(0,1)\n",
        "plt.show()"
      ],
      "metadata": {
        "colab": {
          "base_uri": "https://localhost:8080/",
          "height": 324
        },
        "id": "NoULXxGIdTVY",
        "outputId": "ed7926b9-ee08-48d0-b38c-3501f713bb48"
      },
      "execution_count": 19,
      "outputs": [
        {
          "output_type": "display_data",
          "data": {
            "text/plain": [
              "<Figure size 576x360 with 1 Axes>"
            ],
            "image/png": "[encoded data removed]"
          },
          "metadata": {
            "needs_background": "light"
          }
        }
      ]
    },
    {
      "cell_type": "code",
      "source": [
        "model.evaluate(X_test_n,y_test)"
      ],
      "metadata": {
        "colab": {
          "base_uri": "https://localhost:8080/"
        },
        "id": "xYp-adXQfWMo",
        "outputId": "577ff180-6b4c-439f-9aa6-643e61d232c6"
      },
      "execution_count": 20,
      "outputs": [
        {
          "output_type": "stream",
          "name": "stdout",
          "text": [
            "313/313 [==============================] - 7s 21ms/step - loss: 0.4326 - accuracy: 0.8416\n"
          ]
        },
        {
          "output_type": "execute_result",
          "data": {
            "text/plain": [
              "[0.4325670301914215, 0.8416000008583069]"
            ]
          },
          "metadata": {},
          "execution_count": 20
        }
      ]
    },
    {
      "cell_type": "code",
      "source": [
        "# first value is 'loss' and second is 'accuracy'."
      ],
      "metadata": {
        "id": "xJpWMWImgnIU"
      },
      "execution_count": 21,
      "outputs": []
    },
    {
      "cell_type": "code",
      "source": [
        "X_new=X_test[:3]"
      ],
      "metadata": {
        "id": "C69u651Wh9lI"
      },
      "execution_count": 22,
      "outputs": []
    },
    {
      "cell_type": "code",
      "source": [
        "y_pred=model.predict(X_new)"
      ],
      "metadata": {
        "colab": {
          "base_uri": "https://localhost:8080/"
        },
        "id": "Q7KjwQ8-iIsr",
        "outputId": "9f2e8693-5438-4593-ee58-f076c04de765"
      },
      "execution_count": 23,
      "outputs": [
        {
          "output_type": "stream",
          "name": "stdout",
          "text": [
            "1/1 [==============================] - 0s 123ms/step\n"
          ]
        }
      ]
    },
    {
      "cell_type": "code",
      "source": [
        "y_pred"
      ],
      "metadata": {
        "colab": {
          "base_uri": "https://localhost:8080/"
        },
        "id": "ImsRqTL5iQxE",
        "outputId": "2c0ab6d3-9396-4b99-ae18-0eac50588221"
      },
      "execution_count": 24,
      "outputs": [
        {
          "output_type": "execute_result",
          "data": {
            "text/plain": [
              "array([[4.1504954e-06, 2.1247342e-07, 2.3979808e-07, 5.1715019e-06,\n",
              "        1.3414425e-06, 1.1391501e-02, 3.9201499e-05, 3.4165136e-03,\n",
              "        6.2866899e-04, 9.8451298e-01],\n",
              "       [4.2131433e-05, 1.1314465e-08, 9.8904562e-01, 1.7091763e-06,\n",
              "        5.1186152e-04, 1.6364234e-09, 1.0397879e-02, 8.8327262e-10,\n",
              "        7.2487683e-07, 6.5943966e-09],\n",
              "       [4.3253251e-05, 9.9991977e-01, 2.4871044e-06, 2.8062903e-05,\n",
              "        4.2540150e-06, 3.7817302e-10, 1.8938674e-06, 2.5042394e-07,\n",
              "        6.3409691e-09, 1.4058399e-08]], dtype=float32)"
            ]
          },
          "metadata": {},
          "execution_count": 24
        }
      ]
    },
    {
      "cell_type": "code",
      "source": [
        "y_pred.round(2)"
      ],
      "metadata": {
        "colab": {
          "base_uri": "https://localhost:8080/"
        },
        "id": "i1lvTA9tiX21",
        "outputId": "9136b187-ffc6-4959-deb0-f2a777b877d3"
      },
      "execution_count": 25,
      "outputs": [
        {
          "output_type": "execute_result",
          "data": {
            "text/plain": [
              "array([[0.  , 0.  , 0.  , 0.  , 0.  , 0.01, 0.  , 0.  , 0.  , 0.98],\n",
              "       [0.  , 0.  , 0.99, 0.  , 0.  , 0.  , 0.01, 0.  , 0.  , 0.  ],\n",
              "       [0.  , 1.  , 0.  , 0.  , 0.  , 0.  , 0.  , 0.  , 0.  , 0.  ]],\n",
              "      dtype=float32)"
            ]
          },
          "metadata": {},
          "execution_count": 25
        }
      ]
    },
    {
      "cell_type": "code",
      "source": [
        "y_test[:3]"
      ],
      "metadata": {
        "colab": {
          "base_uri": "https://localhost:8080/"
        },
        "id": "4k7gM29hifGb",
        "outputId": "8796f8f1-bbf5-41a5-a53f-527d77f1ea05"
      },
      "execution_count": 26,
      "outputs": [
        {
          "output_type": "execute_result",
          "data": {
            "text/plain": [
              "array([9, 2, 1], dtype=uint8)"
            ]
          },
          "metadata": {},
          "execution_count": 26
        }
      ]
    },
    {
      "cell_type": "code",
      "source": [
        "# Comparing the above two outcomes, the predicted and test data match."
      ],
      "metadata": {
        "id": "1PJ-5w1viobD"
      },
      "execution_count": 27,
      "outputs": []
    },
    {
      "cell_type": "code",
      "source": [
        "print(plt.imshow(X_test[9].reshape(28,28)))"
      ],
      "metadata": {
        "colab": {
          "base_uri": "https://localhost:8080/",
          "height": 282
        },
        "id": "IUGn6rBwi2L3",
        "outputId": "6a06dcd3-8615-4daa-8637-49b13fa80326"
      },
      "execution_count": 28,
      "outputs": [
        {
          "output_type": "stream",
          "name": "stdout",
          "text": [
            "AxesImage(54,36;334.8x217.44)\n"
          ]
        },
        {
          "output_type": "display_data",
          "data": {
            "text/plain": [
              "<Figure size 432x288 with 1 Axes>"
            ],
            "image/png": "[encoded data removed]"
          },
          "metadata": {
            "needs_background": "light"
          }
        }
      ]
    },
    {
      "cell_type": "code",
      "source": [
        "print(plt.imshow(X_test[2].reshape(28,28)))"
      ],
      "metadata": {
        "colab": {
          "base_uri": "https://localhost:8080/",
          "height": 282
        },
        "id": "iGaP2T6jjDiv",
        "outputId": "6addfd86-ed1a-44dc-bba6-e2c44443e95b"
      },
      "execution_count": 29,
      "outputs": [
        {
          "output_type": "stream",
          "name": "stdout",
          "text": [
            "AxesImage(54,36;334.8x217.44)\n"
          ]
        },
        {
          "output_type": "display_data",
          "data": {
            "text/plain": [
              "<Figure size 432x288 with 1 Axes>"
            ],
            "image/png": "[encoded data removed]"
          },
          "metadata": {
            "needs_background": "light"
          }
        }
      ]
    },
    {
      "cell_type": "code",
      "source": [
        "print(plt.imshow(X_test[1].reshape(28,28)))"
      ],
      "metadata": {
        "colab": {
          "base_uri": "https://localhost:8080/",
          "height": 282
        },
        "id": "vWe9McuVjQd9",
        "outputId": "757703fd-4dcb-4180-deb7-f885ce9fe4a3"
      },
      "execution_count": 30,
      "outputs": [
        {
          "output_type": "stream",
          "name": "stdout",
          "text": [
            "AxesImage(54,36;334.8x217.44)\n"
          ]
        },
        {
          "output_type": "display_data",
          "data": {
            "text/plain": [
              "<Figure size 432x288 with 1 Axes>"
            ],
            "image/png": "[encoded data removed]"
          },
          "metadata": {
            "needs_background": "light"
          }
        }
      ]
    },
    {
      "cell_type": "code",
      "source": [
        "# As compared to prediction of fashion MNIST data with pooling layer , prediction with no pooling layer takes more time but as there is overlapping, accuracy is more. "
      ],
      "metadata": {
        "id": "ySqwEB6MG3ny"
      },
      "execution_count": 31,
      "outputs": []
    }
  ]
}