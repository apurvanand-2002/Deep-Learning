{
  "nbformat": 4,
  "nbformat_minor": 0,
  "metadata": {
    "colab": {
      "provenance": []
    },
    "kernelspec": {
      "name": "python3",
      "display_name": "Python 3"
    },
    "language_info": {
      "name": "python"
    }
  },
  "cells": [
    {
      "cell_type": "code",
      "execution_count": 1,
      "metadata": {
        "id": "1hQL4nA1UUsv"
      },
      "outputs": [],
      "source": [
        "import numpy as np\n",
        "import pandas as pd\n",
        "%matplotlib inline\n",
        "import matplotlib as mlp\n",
        "import matplotlib.pyplot as plt"
      ]
    },
    {
      "cell_type": "code",
      "source": [
        "import tensorflow as tf\n",
        "from tensorflow import keras"
      ],
      "metadata": {
        "id": "x3rJDkWDUmuS"
      },
      "execution_count": 2,
      "outputs": []
    },
    {
      "cell_type": "code",
      "source": [
        "from google.colab import files\n",
        "uploaded = files.upload()"
      ],
      "metadata": {
        "colab": {
          "base_uri": "https://localhost:8080/",
          "height": 108
        },
        "id": "ZrqiopbsUtXO",
        "outputId": "9974cd3e-616f-4017-86fb-be181063a0b6"
      },
      "execution_count": 3,
      "outputs": [
        {
          "output_type": "display_data",
          "data": {
            "text/plain": [
              "<IPython.core.display.HTML object>"
            ],
            "text/html": [
              "\n",
              "     <input type=\"file\" id=\"files-902b42d0-bae6-4109-b136-29186a07531b\" name=\"files[]\" multiple disabled\n",
              "        style=\"border:none\" />\n",
              "     <output id=\"result-902b42d0-bae6-4109-b136-29186a07531b\">\n",
              "      Upload widget is only available when the cell has been executed in the\n",
              "      current browser session. Please rerun this cell to enable.\n",
              "      </output>\n",
              "      <script>// Copyright 2017 Google LLC\n",
              "//\n",
              "// Licensed under the Apache License, Version 2.0 (the \"License\");\n",
              "// you may not use this file except in compliance with the License.\n",
              "// You may obtain a copy of the License at\n",
              "//\n",
              "//      http://www.apache.org/licenses/LICENSE-2.0\n",
              "//\n",
              "// Unless required by applicable law or agreed to in writing, software\n",
              "// distributed under the License is distributed on an \"AS IS\" BASIS,\n",
              "// WITHOUT WARRANTIES OR CONDITIONS OF ANY KIND, either express or implied.\n",
              "// See the License for the specific language governing permissions and\n",
              "// limitations under the License.\n",
              "\n",
              "/**\n",
              " * @fileoverview Helpers for google.colab Python module.\n",
              " */\n",
              "(function(scope) {\n",
              "function span(text, styleAttributes = {}) {\n",
              "  const element = document.createElement('span');\n",
              "  element.textContent = text;\n",
              "  for (const key of Object.keys(styleAttributes)) {\n",
              "    element.style[key] = styleAttributes[key];\n",
              "  }\n",
              "  return element;\n",
              "}\n",
              "\n",
              "// Max number of bytes which will be uploaded at a time.\n",
              "const MAX_PAYLOAD_SIZE = 100 * 1024;\n",
              "\n",
              "function _uploadFiles(inputId, outputId) {\n",
              "  const steps = uploadFilesStep(inputId, outputId);\n",
              "  const outputElement = document.getElementById(outputId);\n",
              "  // Cache steps on the outputElement to make it available for the next call\n",
              "  // to uploadFilesContinue from Python.\n",
              "  outputElement.steps = steps;\n",
              "\n",
              "  return _uploadFilesContinue(outputId);\n",
              "}\n",
              "\n",
              "// This is roughly an async generator (not supported in the browser yet),\n",
              "// where there are multiple asynchronous steps and the Python side is going\n",
              "// to poll for completion of each step.\n",
              "// This uses a Promise to block the python side on completion of each step,\n",
              "// then passes the result of the previous step as the input to the next step.\n",
              "function _uploadFilesContinue(outputId) {\n",
              "  const outputElement = document.getElementById(outputId);\n",
              "  const steps = outputElement.steps;\n",
              "\n",
              "  const next = steps.next(outputElement.lastPromiseValue);\n",
              "  return Promise.resolve(next.value.promise).then((value) => {\n",
              "    // Cache the last promise value to make it available to the next\n",
              "    // step of the generator.\n",
              "    outputElement.lastPromiseValue = value;\n",
              "    return next.value.response;\n",
              "  });\n",
              "}\n",
              "\n",
              "/**\n",
              " * Generator function which is called between each async step of the upload\n",
              " * process.\n",
              " * @param {string} inputId Element ID of the input file picker element.\n",
              " * @param {string} outputId Element ID of the output display.\n",
              " * @return {!Iterable<!Object>} Iterable of next steps.\n",
              " */\n",
              "function* uploadFilesStep(inputId, outputId) {\n",
              "  const inputElement = document.getElementById(inputId);\n",
              "  inputElement.disabled = false;\n",
              "\n",
              "  const outputElement = document.getElementById(outputId);\n",
              "  outputElement.innerHTML = '';\n",
              "\n",
              "  const pickedPromise = new Promise((resolve) => {\n",
              "    inputElement.addEventListener('change', (e) => {\n",
              "      resolve(e.target.files);\n",
              "    });\n",
              "  });\n",
              "\n",
              "  const cancel = document.createElement('button');\n",
              "  inputElement.parentElement.appendChild(cancel);\n",
              "  cancel.textContent = 'Cancel upload';\n",
              "  const cancelPromise = new Promise((resolve) => {\n",
              "    cancel.onclick = () => {\n",
              "      resolve(null);\n",
              "    };\n",
              "  });\n",
              "\n",
              "  // Wait for the user to pick the files.\n",
              "  const files = yield {\n",
              "    promise: Promise.race([pickedPromise, cancelPromise]),\n",
              "    response: {\n",
              "      action: 'starting',\n",
              "    }\n",
              "  };\n",
              "\n",
              "  cancel.remove();\n",
              "\n",
              "  // Disable the input element since further picks are not allowed.\n",
              "  inputElement.disabled = true;\n",
              "\n",
              "  if (!files) {\n",
              "    return {\n",
              "      response: {\n",
              "        action: 'complete',\n",
              "      }\n",
              "    };\n",
              "  }\n",
              "\n",
              "  for (const file of files) {\n",
              "    const li = document.createElement('li');\n",
              "    li.append(span(file.name, {fontWeight: 'bold'}));\n",
              "    li.append(span(\n",
              "        `(${file.type || 'n/a'}) - ${file.size} bytes, ` +\n",
              "        `last modified: ${\n",
              "            file.lastModifiedDate ? file.lastModifiedDate.toLocaleDateString() :\n",
              "                                    'n/a'} - `));\n",
              "    const percent = span('0% done');\n",
              "    li.appendChild(percent);\n",
              "\n",
              "    outputElement.appendChild(li);\n",
              "\n",
              "    const fileDataPromise = new Promise((resolve) => {\n",
              "      const reader = new FileReader();\n",
              "      reader.onload = (e) => {\n",
              "        resolve(e.target.result);\n",
              "      };\n",
              "      reader.readAsArrayBuffer(file);\n",
              "    });\n",
              "    // Wait for the data to be ready.\n",
              "    let fileData = yield {\n",
              "      promise: fileDataPromise,\n",
              "      response: {\n",
              "        action: 'continue',\n",
              "      }\n",
              "    };\n",
              "\n",
              "    // Use a chunked sending to avoid message size limits. See b/62115660.\n",
              "    let position = 0;\n",
              "    do {\n",
              "      const length = Math.min(fileData.byteLength - position, MAX_PAYLOAD_SIZE);\n",
              "      const chunk = new Uint8Array(fileData, position, length);\n",
              "      position += length;\n",
              "\n",
              "      const base64 = btoa(String.fromCharCode.apply(null, chunk));\n",
              "      yield {\n",
              "        response: {\n",
              "          action: 'append',\n",
              "          file: file.name,\n",
              "          data: base64,\n",
              "        },\n",
              "      };\n",
              "\n",
              "      let percentDone = fileData.byteLength === 0 ?\n",
              "          100 :\n",
              "          Math.round((position / fileData.byteLength) * 100);\n",
              "      percent.textContent = `${percentDone}% done`;\n",
              "\n",
              "    } while (position < fileData.byteLength);\n",
              "  }\n",
              "\n",
              "  // All done.\n",
              "  yield {\n",
              "    response: {\n",
              "      action: 'complete',\n",
              "    }\n",
              "  };\n",
              "}\n",
              "\n",
              "scope.google = scope.google || {};\n",
              "scope.google.colab = scope.google.colab || {};\n",
              "scope.google.colab._files = {\n",
              "  _uploadFiles,\n",
              "  _uploadFilesContinue,\n",
              "};\n",
              "})(self);\n",
              "</script> "
            ]
          },
          "metadata": {}
        },
        {
          "output_type": "stream",
          "name": "stdout",
          "text": [
            "Saving Movie_collection_Independent.csv to Movie_collection_Independent.csv\n",
            "Saving Movie_collection_Target.csv to Movie_collection_Target.csv\n"
          ]
        }
      ]
    },
    {
      "cell_type": "code",
      "source": [
        "import io\n",
        "data_x = pd.read_csv(io.BytesIO(uploaded['Movie_collection_Independent.csv']))\n",
        "data_y = pd.read_csv(io.BytesIO(uploaded['Movie_collection_Target.csv']))"
      ],
      "metadata": {
        "id": "kFGzPfh5UzQy"
      },
      "execution_count": 4,
      "outputs": []
    },
    {
      "cell_type": "code",
      "source": [
        "data_x.head()"
      ],
      "metadata": {
        "colab": {
          "base_uri": "https://localhost:8080/",
          "height": 287
        },
        "id": "NgZ7rWANU8rF",
        "outputId": "40280078-ee26-4073-ecae-1788c63a3ef2"
      },
      "execution_count": 5,
      "outputs": [
        {
          "output_type": "execute_result",
          "data": {
            "text/plain": [
              "   Marketin_expense  Production_expense  Multiplex_coverage     Budget  \\\n",
              "0           20.1264               59.62               0.462  36524.125   \n",
              "1           20.5462               69.14               0.531  35668.655   \n",
              "2           20.5458               69.14               0.531  39912.675   \n",
              "3           20.6474               59.36               0.542  38873.890   \n",
              "4           21.3810               59.36               0.542  39701.585   \n",
              "\n",
              "   Movie_length  Lead_ Actor_Rating  Lead_Actress_rating  Director_rating  \\\n",
              "0         138.7               7.825                8.095            7.910   \n",
              "1         152.4               7.505                7.650            7.440   \n",
              "2         134.6               7.485                7.570            7.495   \n",
              "3         119.3               6.895                7.035            6.920   \n",
              "4         127.7               6.920                7.070            6.815   \n",
              "\n",
              "   Producer_rating  Critic_rating  Trailer_views  Time_taken  Twitter_hastags  \\\n",
              "0            7.995           7.94         527367      109.60          223.840   \n",
              "1            7.470           7.44         494055      146.64          243.456   \n",
              "2            7.515           7.44         547051      147.88         2022.400   \n",
              "3            7.020           8.26         516279      185.36          225.344   \n",
              "4            7.070           8.26         531448      176.48          225.792   \n",
              "\n",
              "   Avg_age_actors  Num_multiplex  3D_available  Genre_Thriller  Genre_Drama  \\\n",
              "0              23            494             1               1            0   \n",
              "1              42            462             0               0            1   \n",
              "2              38            458             0               0            0   \n",
              "3              45            472             1               0            1   \n",
              "4              55            395             0               0            1   \n",
              "\n",
              "   Genre_Comedy  \n",
              "0             0  \n",
              "1             0  \n",
              "2             1  \n",
              "3             0  \n",
              "4             0  "
            ],
            "text/html": [
              "\n",
              "  <div id=\"df-9ba108b1-1d7d-4a19-9d17-eff910601673\">\n",
              "    <div class=\"colab-df-container\">\n",
              "      <div>\n",
              "<style scoped>\n",
              "    .dataframe tbody tr th:only-of-type {\n",
              "        vertical-align: middle;\n",
              "    }\n",
              "\n",
              "    .dataframe tbody tr th {\n",
              "        vertical-align: top;\n",
              "    }\n",
              "\n",
              "    .dataframe thead th {\n",
              "        text-align: right;\n",
              "    }\n",
              "</style>\n",
              "<table border=\"1\" class=\"dataframe\">\n",
              "  <thead>\n",
              "    <tr style=\"text-align: right;\">\n",
              "      <th></th>\n",
              "      <th>Marketin_expense</th>\n",
              "      <th>Production_expense</th>\n",
              "      <th>Multiplex_coverage</th>\n",
              "      <th>Budget</th>\n",
              "      <th>Movie_length</th>\n",
              "      <th>Lead_ Actor_Rating</th>\n",
              "      <th>Lead_Actress_rating</th>\n",
              "      <th>Director_rating</th>\n",
              "      <th>Producer_rating</th>\n",
              "      <th>Critic_rating</th>\n",
              "      <th>Trailer_views</th>\n",
              "      <th>Time_taken</th>\n",
              "      <th>Twitter_hastags</th>\n",
              "      <th>Avg_age_actors</th>\n",
              "      <th>Num_multiplex</th>\n",
              "      <th>3D_available</th>\n",
              "      <th>Genre_Thriller</th>\n",
              "      <th>Genre_Drama</th>\n",
              "      <th>Genre_Comedy</th>\n",
              "    </tr>\n",
              "  </thead>\n",
              "  <tbody>\n",
              "    <tr>\n",
              "      <th>0</th>\n",
              "      <td>20.1264</td>\n",
              "      <td>59.62</td>\n",
              "      <td>0.462</td>\n",
              "      <td>36524.125</td>\n",
              "      <td>138.7</td>\n",
              "      <td>7.825</td>\n",
              "      <td>8.095</td>\n",
              "      <td>7.910</td>\n",
              "      <td>7.995</td>\n",
              "      <td>7.94</td>\n",
              "      <td>527367</td>\n",
              "      <td>109.60</td>\n",
              "      <td>223.840</td>\n",
              "      <td>23</td>\n",
              "      <td>494</td>\n",
              "      <td>1</td>\n",
              "      <td>1</td>\n",
              "      <td>0</td>\n",
              "      <td>0</td>\n",
              "    </tr>\n",
              "    <tr>\n",
              "      <th>1</th>\n",
              "      <td>20.5462</td>\n",
              "      <td>69.14</td>\n",
              "      <td>0.531</td>\n",
              "      <td>35668.655</td>\n",
              "      <td>152.4</td>\n",
              "      <td>7.505</td>\n",
              "      <td>7.650</td>\n",
              "      <td>7.440</td>\n",
              "      <td>7.470</td>\n",
              "      <td>7.44</td>\n",
              "      <td>494055</td>\n",
              "      <td>146.64</td>\n",
              "      <td>243.456</td>\n",
              "      <td>42</td>\n",
              "      <td>462</td>\n",
              "      <td>0</td>\n",
              "      <td>0</td>\n",
              "      <td>1</td>\n",
              "      <td>0</td>\n",
              "    </tr>\n",
              "    <tr>\n",
              "      <th>2</th>\n",
              "      <td>20.5458</td>\n",
              "      <td>69.14</td>\n",
              "      <td>0.531</td>\n",
              "      <td>39912.675</td>\n",
              "      <td>134.6</td>\n",
              "      <td>7.485</td>\n",
              "      <td>7.570</td>\n",
              "      <td>7.495</td>\n",
              "      <td>7.515</td>\n",
              "      <td>7.44</td>\n",
              "      <td>547051</td>\n",
              "      <td>147.88</td>\n",
              "      <td>2022.400</td>\n",
              "      <td>38</td>\n",
              "      <td>458</td>\n",
              "      <td>0</td>\n",
              "      <td>0</td>\n",
              "      <td>0</td>\n",
              "      <td>1</td>\n",
              "    </tr>\n",
              "    <tr>\n",
              "      <th>3</th>\n",
              "      <td>20.6474</td>\n",
              "      <td>59.36</td>\n",
              "      <td>0.542</td>\n",
              "      <td>38873.890</td>\n",
              "      <td>119.3</td>\n",
              "      <td>6.895</td>\n",
              "      <td>7.035</td>\n",
              "      <td>6.920</td>\n",
              "      <td>7.020</td>\n",
              "      <td>8.26</td>\n",
              "      <td>516279</td>\n",
              "      <td>185.36</td>\n",
              "      <td>225.344</td>\n",
              "      <td>45</td>\n",
              "      <td>472</td>\n",
              "      <td>1</td>\n",
              "      <td>0</td>\n",
              "      <td>1</td>\n",
              "      <td>0</td>\n",
              "    </tr>\n",
              "    <tr>\n",
              "      <th>4</th>\n",
              "      <td>21.3810</td>\n",
              "      <td>59.36</td>\n",
              "      <td>0.542</td>\n",
              "      <td>39701.585</td>\n",
              "      <td>127.7</td>\n",
              "      <td>6.920</td>\n",
              "      <td>7.070</td>\n",
              "      <td>6.815</td>\n",
              "      <td>7.070</td>\n",
              "      <td>8.26</td>\n",
              "      <td>531448</td>\n",
              "      <td>176.48</td>\n",
              "      <td>225.792</td>\n",
              "      <td>55</td>\n",
              "      <td>395</td>\n",
              "      <td>0</td>\n",
              "      <td>0</td>\n",
              "      <td>1</td>\n",
              "      <td>0</td>\n",
              "    </tr>\n",
              "  </tbody>\n",
              "</table>\n",
              "</div>\n",
              "      <button class=\"colab-df-convert\" onclick=\"convertToInteractive('df-9ba108b1-1d7d-4a19-9d17-eff910601673')\"\n",
              "              title=\"Convert this dataframe to an interactive table.\"\n",
              "              style=\"display:none;\">\n",
              "        \n",
              "  <svg xmlns=\"http://www.w3.org/2000/svg\" height=\"24px\"viewBox=\"0 0 24 24\"\n",
              "       width=\"24px\">\n",
              "    <path d=\"M0 0h24v24H0V0z\" fill=\"none\"/>\n",
              "    <path d=\"M18.56 5.44l.94 2.06.94-2.06 2.06-.94-2.06-.94-.94-2.06-.94 2.06-2.06.94zm-11 1L8.5 8.5l.94-2.06 2.06-.94-2.06-.94L8.5 2.5l-.94 2.06-2.06.94zm10 10l.94 2.06.94-2.06 2.06-.94-2.06-.94-.94-2.06-.94 2.06-2.06.94z\"/><path d=\"M17.41 7.96l-1.37-1.37c-.4-.4-.92-.59-1.43-.59-.52 0-1.04.2-1.43.59L10.3 9.45l-7.72 7.72c-.78.78-.78 2.05 0 2.83L4 21.41c.39.39.9.59 1.41.59.51 0 1.02-.2 1.41-.59l7.78-7.78 2.81-2.81c.8-.78.8-2.07 0-2.86zM5.41 20L4 18.59l7.72-7.72 1.47 1.35L5.41 20z\"/>\n",
              "  </svg>\n",
              "      </button>\n",
              "      \n",
              "  <style>\n",
              "    .colab-df-container {\n",
              "      display:flex;\n",
              "      flex-wrap:wrap;\n",
              "      gap: 12px;\n",
              "    }\n",
              "\n",
              "    .colab-df-convert {\n",
              "      background-color: #E8F0FE;\n",
              "      border: none;\n",
              "      border-radius: 50%;\n",
              "      cursor: pointer;\n",
              "      display: none;\n",
              "      fill: #1967D2;\n",
              "      height: 32px;\n",
              "      padding: 0 0 0 0;\n",
              "      width: 32px;\n",
              "    }\n",
              "\n",
              "    .colab-df-convert:hover {\n",
              "      background-color: #E2EBFA;\n",
              "      box-shadow: 0px 1px 2px rgba(60, 64, 67, 0.3), 0px 1px 3px 1px rgba(60, 64, 67, 0.15);\n",
              "      fill: #174EA6;\n",
              "    }\n",
              "\n",
              "    [theme=dark] .colab-df-convert {\n",
              "      background-color: #3B4455;\n",
              "      fill: #D2E3FC;\n",
              "    }\n",
              "\n",
              "    [theme=dark] .colab-df-convert:hover {\n",
              "      background-color: #434B5C;\n",
              "      box-shadow: 0px 1px 3px 1px rgba(0, 0, 0, 0.15);\n",
              "      filter: drop-shadow(0px 1px 2px rgba(0, 0, 0, 0.3));\n",
              "      fill: #FFFFFF;\n",
              "    }\n",
              "  </style>\n",
              "\n",
              "      <script>\n",
              "        const buttonEl =\n",
              "          document.querySelector('#df-9ba108b1-1d7d-4a19-9d17-eff910601673 button.colab-df-convert');\n",
              "        buttonEl.style.display =\n",
              "          google.colab.kernel.accessAllowed ? 'block' : 'none';\n",
              "\n",
              "        async function convertToInteractive(key) {\n",
              "          const element = document.querySelector('#df-9ba108b1-1d7d-4a19-9d17-eff910601673');\n",
              "          const dataTable =\n",
              "            await google.colab.kernel.invokeFunction('convertToInteractive',\n",
              "                                                     [key], {});\n",
              "          if (!dataTable) return;\n",
              "\n",
              "          const docLinkHtml = 'Like what you see? Visit the ' +\n",
              "            '<a target=\"_blank\" href=https://colab.research.google.com/notebooks/data_table.ipynb>data table notebook</a>'\n",
              "            + ' to learn more about interactive tables.';\n",
              "          element.innerHTML = '';\n",
              "          dataTable['output_type'] = 'display_data';\n",
              "          await google.colab.output.renderOutput(dataTable, element);\n",
              "          const docLink = document.createElement('div');\n",
              "          docLink.innerHTML = docLinkHtml;\n",
              "          element.appendChild(docLink);\n",
              "        }\n",
              "      </script>\n",
              "    </div>\n",
              "  </div>\n",
              "  "
            ]
          },
          "metadata": {},
          "execution_count": 5
        }
      ]
    },
    {
      "cell_type": "code",
      "source": [
        "data_y.head()"
      ],
      "metadata": {
        "colab": {
          "base_uri": "https://localhost:8080/",
          "height": 206
        },
        "id": "IdN5bUNbVIf5",
        "outputId": "66101778-99c6-48c2-892d-d7601d63b420"
      },
      "execution_count": 6,
      "outputs": [
        {
          "output_type": "execute_result",
          "data": {
            "text/plain": [
              "   Collection\n",
              "0    2.266667\n",
              "1    2.106667\n",
              "2    2.980000\n",
              "3    2.893333\n",
              "4    3.080000"
            ],
            "text/html": [
              "\n",
              "  <div id=\"df-9add698c-d6a8-4e9d-8041-125deb7ee678\">\n",
              "    <div class=\"colab-df-container\">\n",
              "      <div>\n",
              "<style scoped>\n",
              "    .dataframe tbody tr th:only-of-type {\n",
              "        vertical-align: middle;\n",
              "    }\n",
              "\n",
              "    .dataframe tbody tr th {\n",
              "        vertical-align: top;\n",
              "    }\n",
              "\n",
              "    .dataframe thead th {\n",
              "        text-align: right;\n",
              "    }\n",
              "</style>\n",
              "<table border=\"1\" class=\"dataframe\">\n",
              "  <thead>\n",
              "    <tr style=\"text-align: right;\">\n",
              "      <th></th>\n",
              "      <th>Collection</th>\n",
              "    </tr>\n",
              "  </thead>\n",
              "  <tbody>\n",
              "    <tr>\n",
              "      <th>0</th>\n",
              "      <td>2.266667</td>\n",
              "    </tr>\n",
              "    <tr>\n",
              "      <th>1</th>\n",
              "      <td>2.106667</td>\n",
              "    </tr>\n",
              "    <tr>\n",
              "      <th>2</th>\n",
              "      <td>2.980000</td>\n",
              "    </tr>\n",
              "    <tr>\n",
              "      <th>3</th>\n",
              "      <td>2.893333</td>\n",
              "    </tr>\n",
              "    <tr>\n",
              "      <th>4</th>\n",
              "      <td>3.080000</td>\n",
              "    </tr>\n",
              "  </tbody>\n",
              "</table>\n",
              "</div>\n",
              "      <button class=\"colab-df-convert\" onclick=\"convertToInteractive('df-9add698c-d6a8-4e9d-8041-125deb7ee678')\"\n",
              "              title=\"Convert this dataframe to an interactive table.\"\n",
              "              style=\"display:none;\">\n",
              "        \n",
              "  <svg xmlns=\"http://www.w3.org/2000/svg\" height=\"24px\"viewBox=\"0 0 24 24\"\n",
              "       width=\"24px\">\n",
              "    <path d=\"M0 0h24v24H0V0z\" fill=\"none\"/>\n",
              "    <path d=\"M18.56 5.44l.94 2.06.94-2.06 2.06-.94-2.06-.94-.94-2.06-.94 2.06-2.06.94zm-11 1L8.5 8.5l.94-2.06 2.06-.94-2.06-.94L8.5 2.5l-.94 2.06-2.06.94zm10 10l.94 2.06.94-2.06 2.06-.94-2.06-.94-.94-2.06-.94 2.06-2.06.94z\"/><path d=\"M17.41 7.96l-1.37-1.37c-.4-.4-.92-.59-1.43-.59-.52 0-1.04.2-1.43.59L10.3 9.45l-7.72 7.72c-.78.78-.78 2.05 0 2.83L4 21.41c.39.39.9.59 1.41.59.51 0 1.02-.2 1.41-.59l7.78-7.78 2.81-2.81c.8-.78.8-2.07 0-2.86zM5.41 20L4 18.59l7.72-7.72 1.47 1.35L5.41 20z\"/>\n",
              "  </svg>\n",
              "      </button>\n",
              "      \n",
              "  <style>\n",
              "    .colab-df-container {\n",
              "      display:flex;\n",
              "      flex-wrap:wrap;\n",
              "      gap: 12px;\n",
              "    }\n",
              "\n",
              "    .colab-df-convert {\n",
              "      background-color: #E8F0FE;\n",
              "      border: none;\n",
              "      border-radius: 50%;\n",
              "      cursor: pointer;\n",
              "      display: none;\n",
              "      fill: #1967D2;\n",
              "      height: 32px;\n",
              "      padding: 0 0 0 0;\n",
              "      width: 32px;\n",
              "    }\n",
              "\n",
              "    .colab-df-convert:hover {\n",
              "      background-color: #E2EBFA;\n",
              "      box-shadow: 0px 1px 2px rgba(60, 64, 67, 0.3), 0px 1px 3px 1px rgba(60, 64, 67, 0.15);\n",
              "      fill: #174EA6;\n",
              "    }\n",
              "\n",
              "    [theme=dark] .colab-df-convert {\n",
              "      background-color: #3B4455;\n",
              "      fill: #D2E3FC;\n",
              "    }\n",
              "\n",
              "    [theme=dark] .colab-df-convert:hover {\n",
              "      background-color: #434B5C;\n",
              "      box-shadow: 0px 1px 3px 1px rgba(0, 0, 0, 0.15);\n",
              "      filter: drop-shadow(0px 1px 2px rgba(0, 0, 0, 0.3));\n",
              "      fill: #FFFFFF;\n",
              "    }\n",
              "  </style>\n",
              "\n",
              "      <script>\n",
              "        const buttonEl =\n",
              "          document.querySelector('#df-9add698c-d6a8-4e9d-8041-125deb7ee678 button.colab-df-convert');\n",
              "        buttonEl.style.display =\n",
              "          google.colab.kernel.accessAllowed ? 'block' : 'none';\n",
              "\n",
              "        async function convertToInteractive(key) {\n",
              "          const element = document.querySelector('#df-9add698c-d6a8-4e9d-8041-125deb7ee678');\n",
              "          const dataTable =\n",
              "            await google.colab.kernel.invokeFunction('convertToInteractive',\n",
              "                                                     [key], {});\n",
              "          if (!dataTable) return;\n",
              "\n",
              "          const docLinkHtml = 'Like what you see? Visit the ' +\n",
              "            '<a target=\"_blank\" href=https://colab.research.google.com/notebooks/data_table.ipynb>data table notebook</a>'\n",
              "            + ' to learn more about interactive tables.';\n",
              "          element.innerHTML = '';\n",
              "          dataTable['output_type'] = 'display_data';\n",
              "          await google.colab.output.renderOutput(dataTable, element);\n",
              "          const docLink = document.createElement('div');\n",
              "          docLink.innerHTML = docLinkHtml;\n",
              "          element.appendChild(docLink);\n",
              "        }\n",
              "      </script>\n",
              "    </div>\n",
              "  </div>\n",
              "  "
            ]
          },
          "metadata": {},
          "execution_count": 6
        }
      ]
    },
    {
      "cell_type": "code",
      "source": [
        "data_x.shape"
      ],
      "metadata": {
        "colab": {
          "base_uri": "https://localhost:8080/"
        },
        "id": "Uc5f-BQQVLa6",
        "outputId": "34101a7f-428f-4b67-96f6-7f3b3ac798ce"
      },
      "execution_count": 7,
      "outputs": [
        {
          "output_type": "execute_result",
          "data": {
            "text/plain": [
              "(506, 19)"
            ]
          },
          "metadata": {},
          "execution_count": 7
        }
      ]
    },
    {
      "cell_type": "code",
      "source": [
        "data_y.shape"
      ],
      "metadata": {
        "colab": {
          "base_uri": "https://localhost:8080/"
        },
        "id": "qCr7QVEZVNT2",
        "outputId": "bb3090ea-e36f-4c27-aad3-f89dc3f4583e"
      },
      "execution_count": 8,
      "outputs": [
        {
          "output_type": "execute_result",
          "data": {
            "text/plain": [
              "(506, 1)"
            ]
          },
          "metadata": {},
          "execution_count": 8
        }
      ]
    },
    {
      "cell_type": "code",
      "source": [
        "from  sklearn.model_selection import train_test_split\n",
        "X_train_full,X_test,y_train_full,y_test=train_test_split(data_x,data_y,random_state=42)\n",
        "X_train,X_valid,y_train,y_valid=train_test_split(X_train_full,y_train_full,random_state=42)"
      ],
      "metadata": {
        "id": "AXelHabZVPL_"
      },
      "execution_count": 9,
      "outputs": []
    },
    {
      "cell_type": "code",
      "source": [
        "X_train.shape"
      ],
      "metadata": {
        "colab": {
          "base_uri": "https://localhost:8080/"
        },
        "id": "QLjnoMlzWjd1",
        "outputId": "494be5ca-0c23-4b11-e07c-fa05a0a6ca89"
      },
      "execution_count": 10,
      "outputs": [
        {
          "output_type": "execute_result",
          "data": {
            "text/plain": [
              "(284, 19)"
            ]
          },
          "metadata": {},
          "execution_count": 10
        }
      ]
    },
    {
      "cell_type": "code",
      "source": [
        "X_test.shape"
      ],
      "metadata": {
        "colab": {
          "base_uri": "https://localhost:8080/"
        },
        "id": "qE-5p4vVWnke",
        "outputId": "ee0685d1-0e46-43ab-ee60-1bd62f97728c"
      },
      "execution_count": 11,
      "outputs": [
        {
          "output_type": "execute_result",
          "data": {
            "text/plain": [
              "(127, 19)"
            ]
          },
          "metadata": {},
          "execution_count": 11
        }
      ]
    },
    {
      "cell_type": "code",
      "source": [
        "X_valid.shape"
      ],
      "metadata": {
        "colab": {
          "base_uri": "https://localhost:8080/"
        },
        "id": "3rhB6gjtWp4B",
        "outputId": "6f28be75-1fb3-45d9-c6ee-9258d8db498a"
      },
      "execution_count": 12,
      "outputs": [
        {
          "output_type": "execute_result",
          "data": {
            "text/plain": [
              "(95, 19)"
            ]
          },
          "metadata": {},
          "execution_count": 12
        }
      ]
    },
    {
      "cell_type": "code",
      "source": [
        "X_train_full.shape"
      ],
      "metadata": {
        "colab": {
          "base_uri": "https://localhost:8080/"
        },
        "id": "MJG4FWlLWyla",
        "outputId": "c04cf0ec-11fe-4c73-83da-5954024c4ace"
      },
      "execution_count": 13,
      "outputs": [
        {
          "output_type": "execute_result",
          "data": {
            "text/plain": [
              "(379, 19)"
            ]
          },
          "metadata": {},
          "execution_count": 13
        }
      ]
    },
    {
      "cell_type": "code",
      "source": [
        "y_train_full.shape"
      ],
      "metadata": {
        "colab": {
          "base_uri": "https://localhost:8080/"
        },
        "id": "ndQZ7l0vW4pL",
        "outputId": "778626e2-d027-43c8-8012-f0675580236b"
      },
      "execution_count": 14,
      "outputs": [
        {
          "output_type": "execute_result",
          "data": {
            "text/plain": [
              "(379, 1)"
            ]
          },
          "metadata": {},
          "execution_count": 14
        }
      ]
    },
    {
      "cell_type": "code",
      "source": [
        "y_train.shape"
      ],
      "metadata": {
        "colab": {
          "base_uri": "https://localhost:8080/"
        },
        "id": "JmHmTAZrXAEd",
        "outputId": "ce4b4bd9-09ae-4939-fc44-e3b6c201e135"
      },
      "execution_count": 15,
      "outputs": [
        {
          "output_type": "execute_result",
          "data": {
            "text/plain": [
              "(284, 1)"
            ]
          },
          "metadata": {},
          "execution_count": 15
        }
      ]
    },
    {
      "cell_type": "code",
      "source": [
        "y_valid.shape"
      ],
      "metadata": {
        "colab": {
          "base_uri": "https://localhost:8080/"
        },
        "id": "5nQM6QnpXCSj",
        "outputId": "27b99b86-af9e-41a7-e7b6-8a5c1125767c"
      },
      "execution_count": 16,
      "outputs": [
        {
          "output_type": "execute_result",
          "data": {
            "text/plain": [
              "(95, 1)"
            ]
          },
          "metadata": {},
          "execution_count": 16
        }
      ]
    },
    {
      "cell_type": "code",
      "source": [
        "y_test.shape"
      ],
      "metadata": {
        "colab": {
          "base_uri": "https://localhost:8080/"
        },
        "id": "Nck1bQ7OXFkc",
        "outputId": "e286b73e-9966-437b-a972-8f0a409b9e2e"
      },
      "execution_count": 17,
      "outputs": [
        {
          "output_type": "execute_result",
          "data": {
            "text/plain": [
              "(127, 1)"
            ]
          },
          "metadata": {},
          "execution_count": 17
        }
      ]
    },
    {
      "cell_type": "code",
      "source": [
        "from sklearn.preprocessing import StandardScaler\n",
        "scaler=StandardScaler()\n",
        "X_train=scaler.fit_transform(X_train)\n",
        "X_valid=scaler.transform(X_valid)\n",
        "X_test=scaler.transform(X_test)"
      ],
      "metadata": {
        "id": "_A1wLK0ZXIME"
      },
      "execution_count": 18,
      "outputs": []
    },
    {
      "cell_type": "code",
      "source": [
        "np.random.seed(42)\n",
        "tf.random.set_seed(42)"
      ],
      "metadata": {
        "id": "QOiXbzlzXlOS"
      },
      "execution_count": 19,
      "outputs": []
    },
    {
      "cell_type": "code",
      "source": [
        "model= keras.models.Sequential([\n",
        "    keras.layers.Dense(30,activation=\"relu\",input_shape=[19]),\n",
        "    keras.layers.Dense(30,activation=\"relu\") ,\n",
        "    keras.layers.Dense(1)     \n",
        "])"
      ],
      "metadata": {
        "id": "bO-PI0GZXoWr"
      },
      "execution_count": 20,
      "outputs": []
    },
    {
      "cell_type": "code",
      "source": [
        "model.summary()"
      ],
      "metadata": {
        "colab": {
          "base_uri": "https://localhost:8080/"
        },
        "id": "iq8-cKD1X1F6",
        "outputId": "fbb2c93e-8a78-4573-d538-60bf25e3ee80"
      },
      "execution_count": 21,
      "outputs": [
        {
          "output_type": "stream",
          "name": "stdout",
          "text": [
            "Model: \"sequential\"\n",
            "_________________________________________________________________\n",
            " Layer (type)                Output Shape              Param #   \n",
            "=================================================================\n",
            " dense (Dense)               (None, 30)                600       \n",
            "                                                                 \n",
            " dense_1 (Dense)             (None, 30)                930       \n",
            "                                                                 \n",
            " dense_2 (Dense)             (None, 1)                 31        \n",
            "                                                                 \n",
            "=================================================================\n",
            "Total params: 1,561\n",
            "Trainable params: 1,561\n",
            "Non-trainable params: 0\n",
            "_________________________________________________________________\n"
          ]
        }
      ]
    },
    {
      "cell_type": "code",
      "source": [
        "model.compile(loss=\"mean_squared_error\",\n",
        "              optimizer=keras.optimizers.SGD(lr=1e-2),\n",
        "              metrics=['mae'])"
      ],
      "metadata": {
        "colab": {
          "base_uri": "https://localhost:8080/"
        },
        "id": "HRLanE39X4SE",
        "outputId": "145d5cad-a341-4e0a-d919-4b85da63328e"
      },
      "execution_count": 22,
      "outputs": [
        {
          "output_type": "stream",
          "name": "stderr",
          "text": [
            "/usr/local/lib/python3.8/dist-packages/keras/optimizers/optimizer_v2/gradient_descent.py:108: UserWarning: The `lr` argument is deprecated, use `learning_rate` instead.\n",
            "  super(SGD, self).__init__(name, **kwargs)\n"
          ]
        }
      ]
    },
    {
      "cell_type": "code",
      "source": [
        "model_history= model.fit(X_train,y_train,epochs=100,validation_data=(X_valid,y_valid))"
      ],
      "metadata": {
        "colab": {
          "base_uri": "https://localhost:8080/"
        },
        "id": "LhI4lxAgYE5k",
        "outputId": "d99d801b-09ca-43d6-caf7-a9dc2c7d52e5"
      },
      "execution_count": 23,
      "outputs": [
        {
          "output_type": "stream",
          "name": "stdout",
          "text": [
            "Epoch 1/100\n",
            "9/9 [==============================] - 1s 26ms/step - loss: 3.7051 - mae: 1.6837 - val_loss: 1.5134 - val_mae: 1.0270\n",
            "Epoch 2/100\n",
            "9/9 [==============================] - 0s 4ms/step - loss: 0.8049 - mae: 0.7017 - val_loss: 0.7741 - val_mae: 0.6938\n",
            "Epoch 3/100\n",
            "9/9 [==============================] - 0s 4ms/step - loss: 0.5344 - mae: 0.5752 - val_loss: 0.5643 - val_mae: 0.5909\n",
            "Epoch 4/100\n",
            "9/9 [==============================] - 0s 4ms/step - loss: 0.4031 - mae: 0.4938 - val_loss: 0.4334 - val_mae: 0.5210\n",
            "Epoch 5/100\n",
            "9/9 [==============================] - 0s 4ms/step - loss: 0.3196 - mae: 0.4360 - val_loss: 0.3577 - val_mae: 0.4742\n",
            "Epoch 6/100\n",
            "9/9 [==============================] - 0s 5ms/step - loss: 0.2654 - mae: 0.3940 - val_loss: 0.3054 - val_mae: 0.4403\n",
            "Epoch 7/100\n",
            "9/9 [==============================] - 0s 4ms/step - loss: 0.2292 - mae: 0.3646 - val_loss: 0.2627 - val_mae: 0.4063\n",
            "Epoch 8/100\n",
            "9/9 [==============================] - 0s 4ms/step - loss: 0.2028 - mae: 0.3400 - val_loss: 0.2522 - val_mae: 0.4027\n",
            "Epoch 9/100\n",
            "9/9 [==============================] - 0s 4ms/step - loss: 0.1860 - mae: 0.3257 - val_loss: 0.2188 - val_mae: 0.3690\n",
            "Epoch 10/100\n",
            "9/9 [==============================] - 0s 4ms/step - loss: 0.1712 - mae: 0.3123 - val_loss: 0.1978 - val_mae: 0.3478\n",
            "Epoch 11/100\n",
            "9/9 [==============================] - 0s 4ms/step - loss: 0.1583 - mae: 0.2996 - val_loss: 0.1905 - val_mae: 0.3427\n",
            "Epoch 12/100\n",
            "9/9 [==============================] - 0s 4ms/step - loss: 0.1507 - mae: 0.2895 - val_loss: 0.1783 - val_mae: 0.3286\n",
            "Epoch 13/100\n",
            "9/9 [==============================] - 0s 4ms/step - loss: 0.1432 - mae: 0.2822 - val_loss: 0.1735 - val_mae: 0.3248\n",
            "Epoch 14/100\n",
            "9/9 [==============================] - 0s 4ms/step - loss: 0.1374 - mae: 0.2766 - val_loss: 0.1619 - val_mae: 0.3103\n",
            "Epoch 15/100\n",
            "9/9 [==============================] - 0s 4ms/step - loss: 0.1308 - mae: 0.2701 - val_loss: 0.1552 - val_mae: 0.3030\n",
            "Epoch 16/100\n",
            "9/9 [==============================] - 0s 4ms/step - loss: 0.1269 - mae: 0.2673 - val_loss: 0.1564 - val_mae: 0.3050\n",
            "Epoch 17/100\n",
            "9/9 [==============================] - 0s 4ms/step - loss: 0.1234 - mae: 0.2608 - val_loss: 0.1477 - val_mae: 0.2948\n",
            "Epoch 18/100\n",
            "9/9 [==============================] - 0s 4ms/step - loss: 0.1197 - mae: 0.2576 - val_loss: 0.1459 - val_mae: 0.2931\n",
            "Epoch 19/100\n",
            "9/9 [==============================] - 0s 4ms/step - loss: 0.1168 - mae: 0.2541 - val_loss: 0.1400 - val_mae: 0.2857\n",
            "Epoch 20/100\n",
            "9/9 [==============================] - 0s 6ms/step - loss: 0.1131 - mae: 0.2508 - val_loss: 0.1340 - val_mae: 0.2781\n",
            "Epoch 21/100\n",
            "9/9 [==============================] - 0s 4ms/step - loss: 0.1110 - mae: 0.2477 - val_loss: 0.1295 - val_mae: 0.2720\n",
            "Epoch 22/100\n",
            "9/9 [==============================] - 0s 4ms/step - loss: 0.1084 - mae: 0.2455 - val_loss: 0.1321 - val_mae: 0.2757\n",
            "Epoch 23/100\n",
            "9/9 [==============================] - 0s 6ms/step - loss: 0.1061 - mae: 0.2434 - val_loss: 0.1279 - val_mae: 0.2700\n",
            "Epoch 24/100\n",
            "9/9 [==============================] - 0s 4ms/step - loss: 0.1041 - mae: 0.2407 - val_loss: 0.1268 - val_mae: 0.2684\n",
            "Epoch 25/100\n",
            "9/9 [==============================] - 0s 4ms/step - loss: 0.1020 - mae: 0.2377 - val_loss: 0.1239 - val_mae: 0.2644\n",
            "Epoch 26/100\n",
            "9/9 [==============================] - 0s 4ms/step - loss: 0.1003 - mae: 0.2361 - val_loss: 0.1221 - val_mae: 0.2618\n",
            "Epoch 27/100\n",
            "9/9 [==============================] - 0s 4ms/step - loss: 0.0987 - mae: 0.2347 - val_loss: 0.1205 - val_mae: 0.2594\n",
            "Epoch 28/100\n",
            "9/9 [==============================] - 0s 5ms/step - loss: 0.0977 - mae: 0.2331 - val_loss: 0.1166 - val_mae: 0.2535\n",
            "Epoch 29/100\n",
            "9/9 [==============================] - 0s 4ms/step - loss: 0.0951 - mae: 0.2303 - val_loss: 0.1178 - val_mae: 0.2552\n",
            "Epoch 30/100\n",
            "9/9 [==============================] - 0s 4ms/step - loss: 0.0941 - mae: 0.2290 - val_loss: 0.1167 - val_mae: 0.2534\n",
            "Epoch 31/100\n",
            "9/9 [==============================] - 0s 4ms/step - loss: 0.0917 - mae: 0.2243 - val_loss: 0.1105 - val_mae: 0.2435\n",
            "Epoch 32/100\n",
            "9/9 [==============================] - 0s 4ms/step - loss: 0.0913 - mae: 0.2252 - val_loss: 0.1101 - val_mae: 0.2429\n",
            "Epoch 33/100\n",
            "9/9 [==============================] - 0s 5ms/step - loss: 0.0896 - mae: 0.2226 - val_loss: 0.1098 - val_mae: 0.2424\n",
            "Epoch 34/100\n",
            "9/9 [==============================] - 0s 4ms/step - loss: 0.0889 - mae: 0.2228 - val_loss: 0.1123 - val_mae: 0.2460\n",
            "Epoch 35/100\n",
            "9/9 [==============================] - 0s 5ms/step - loss: 0.0872 - mae: 0.2195 - val_loss: 0.1084 - val_mae: 0.2399\n",
            "Epoch 36/100\n",
            "9/9 [==============================] - 0s 7ms/step - loss: 0.0859 - mae: 0.2174 - val_loss: 0.1074 - val_mae: 0.2381\n",
            "Epoch 37/100\n",
            "9/9 [==============================] - 0s 4ms/step - loss: 0.0850 - mae: 0.2153 - val_loss: 0.1053 - val_mae: 0.2345\n",
            "Epoch 38/100\n",
            "9/9 [==============================] - 0s 5ms/step - loss: 0.0836 - mae: 0.2150 - val_loss: 0.1069 - val_mae: 0.2369\n",
            "Epoch 39/100\n",
            "9/9 [==============================] - 0s 5ms/step - loss: 0.0826 - mae: 0.2130 - val_loss: 0.1053 - val_mae: 0.2342\n",
            "Epoch 40/100\n",
            "9/9 [==============================] - 0s 6ms/step - loss: 0.0819 - mae: 0.2117 - val_loss: 0.1039 - val_mae: 0.2322\n",
            "Epoch 41/100\n",
            "9/9 [==============================] - 0s 4ms/step - loss: 0.0814 - mae: 0.2118 - val_loss: 0.1060 - val_mae: 0.2347\n",
            "Epoch 42/100\n",
            "9/9 [==============================] - 0s 4ms/step - loss: 0.0801 - mae: 0.2078 - val_loss: 0.1023 - val_mae: 0.2293\n",
            "Epoch 43/100\n",
            "9/9 [==============================] - 0s 5ms/step - loss: 0.0793 - mae: 0.2090 - val_loss: 0.1037 - val_mae: 0.2309\n",
            "Epoch 44/100\n",
            "9/9 [==============================] - 0s 4ms/step - loss: 0.0789 - mae: 0.2084 - val_loss: 0.1048 - val_mae: 0.2319\n",
            "Epoch 45/100\n",
            "9/9 [==============================] - 0s 6ms/step - loss: 0.0774 - mae: 0.2049 - val_loss: 0.1014 - val_mae: 0.2271\n",
            "Epoch 46/100\n",
            "9/9 [==============================] - 0s 4ms/step - loss: 0.0767 - mae: 0.2048 - val_loss: 0.1019 - val_mae: 0.2273\n",
            "Epoch 47/100\n",
            "9/9 [==============================] - 0s 4ms/step - loss: 0.0766 - mae: 0.2046 - val_loss: 0.1027 - val_mae: 0.2280\n",
            "Epoch 48/100\n",
            "9/9 [==============================] - 0s 4ms/step - loss: 0.0754 - mae: 0.2014 - val_loss: 0.1000 - val_mae: 0.2244\n",
            "Epoch 49/100\n",
            "9/9 [==============================] - 0s 4ms/step - loss: 0.0746 - mae: 0.2016 - val_loss: 0.0992 - val_mae: 0.2232\n",
            "Epoch 50/100\n",
            "9/9 [==============================] - 0s 4ms/step - loss: 0.0738 - mae: 0.2002 - val_loss: 0.1000 - val_mae: 0.2237\n",
            "Epoch 51/100\n",
            "9/9 [==============================] - 0s 5ms/step - loss: 0.0735 - mae: 0.1997 - val_loss: 0.0972 - val_mae: 0.2199\n",
            "Epoch 52/100\n",
            "9/9 [==============================] - 0s 4ms/step - loss: 0.0728 - mae: 0.1994 - val_loss: 0.0992 - val_mae: 0.2220\n",
            "Epoch 53/100\n",
            "9/9 [==============================] - 0s 4ms/step - loss: 0.0721 - mae: 0.1983 - val_loss: 0.0990 - val_mae: 0.2214\n",
            "Epoch 54/100\n",
            "9/9 [==============================] - 0s 4ms/step - loss: 0.0712 - mae: 0.1956 - val_loss: 0.0963 - val_mae: 0.2180\n",
            "Epoch 55/100\n",
            "9/9 [==============================] - 0s 4ms/step - loss: 0.0710 - mae: 0.1967 - val_loss: 0.0967 - val_mae: 0.2182\n",
            "Epoch 56/100\n",
            "9/9 [==============================] - 0s 4ms/step - loss: 0.0704 - mae: 0.1949 - val_loss: 0.0983 - val_mae: 0.2198\n",
            "Epoch 57/100\n",
            "9/9 [==============================] - 0s 6ms/step - loss: 0.0696 - mae: 0.1939 - val_loss: 0.0975 - val_mae: 0.2184\n",
            "Epoch 58/100\n",
            "9/9 [==============================] - 0s 4ms/step - loss: 0.0686 - mae: 0.1925 - val_loss: 0.0972 - val_mae: 0.2182\n",
            "Epoch 59/100\n",
            "9/9 [==============================] - 0s 5ms/step - loss: 0.0682 - mae: 0.1924 - val_loss: 0.0969 - val_mae: 0.2174\n",
            "Epoch 60/100\n",
            "9/9 [==============================] - 0s 4ms/step - loss: 0.0676 - mae: 0.1913 - val_loss: 0.0982 - val_mae: 0.2187\n",
            "Epoch 61/100\n",
            "9/9 [==============================] - 0s 4ms/step - loss: 0.0669 - mae: 0.1901 - val_loss: 0.0973 - val_mae: 0.2173\n",
            "Epoch 62/100\n",
            "9/9 [==============================] - 0s 4ms/step - loss: 0.0668 - mae: 0.1890 - val_loss: 0.0948 - val_mae: 0.2141\n",
            "Epoch 63/100\n",
            "9/9 [==============================] - 0s 7ms/step - loss: 0.0663 - mae: 0.1893 - val_loss: 0.0953 - val_mae: 0.2147\n",
            "Epoch 64/100\n",
            "9/9 [==============================] - 0s 4ms/step - loss: 0.0652 - mae: 0.1872 - val_loss: 0.0958 - val_mae: 0.2152\n",
            "Epoch 65/100\n",
            "9/9 [==============================] - 0s 4ms/step - loss: 0.0652 - mae: 0.1866 - val_loss: 0.0940 - val_mae: 0.2125\n",
            "Epoch 66/100\n",
            "9/9 [==============================] - 0s 4ms/step - loss: 0.0646 - mae: 0.1870 - val_loss: 0.0934 - val_mae: 0.2114\n",
            "Epoch 67/100\n",
            "9/9 [==============================] - 0s 4ms/step - loss: 0.0641 - mae: 0.1878 - val_loss: 0.0954 - val_mae: 0.2138\n",
            "Epoch 68/100\n",
            "9/9 [==============================] - 0s 5ms/step - loss: 0.0636 - mae: 0.1855 - val_loss: 0.0956 - val_mae: 0.2138\n",
            "Epoch 69/100\n",
            "9/9 [==============================] - 0s 4ms/step - loss: 0.0637 - mae: 0.1853 - val_loss: 0.0943 - val_mae: 0.2121\n",
            "Epoch 70/100\n",
            "9/9 [==============================] - 0s 4ms/step - loss: 0.0625 - mae: 0.1833 - val_loss: 0.0946 - val_mae: 0.2123\n",
            "Epoch 71/100\n",
            "9/9 [==============================] - 0s 4ms/step - loss: 0.0629 - mae: 0.1839 - val_loss: 0.0931 - val_mae: 0.2101\n",
            "Epoch 72/100\n",
            "9/9 [==============================] - 0s 5ms/step - loss: 0.0618 - mae: 0.1831 - val_loss: 0.0945 - val_mae: 0.2119\n",
            "Epoch 73/100\n",
            "9/9 [==============================] - 0s 4ms/step - loss: 0.0613 - mae: 0.1821 - val_loss: 0.0935 - val_mae: 0.2105\n",
            "Epoch 74/100\n",
            "9/9 [==============================] - 0s 4ms/step - loss: 0.0608 - mae: 0.1810 - val_loss: 0.0931 - val_mae: 0.2098\n",
            "Epoch 75/100\n",
            "9/9 [==============================] - 0s 4ms/step - loss: 0.0604 - mae: 0.1808 - val_loss: 0.0939 - val_mae: 0.2106\n",
            "Epoch 76/100\n",
            "9/9 [==============================] - 0s 4ms/step - loss: 0.0601 - mae: 0.1795 - val_loss: 0.0917 - val_mae: 0.2076\n",
            "Epoch 77/100\n",
            "9/9 [==============================] - 0s 4ms/step - loss: 0.0599 - mae: 0.1807 - val_loss: 0.0923 - val_mae: 0.2082\n",
            "Epoch 78/100\n",
            "9/9 [==============================] - 0s 4ms/step - loss: 0.0595 - mae: 0.1795 - val_loss: 0.0950 - val_mae: 0.2122\n",
            "Epoch 79/100\n",
            "9/9 [==============================] - 0s 4ms/step - loss: 0.0590 - mae: 0.1792 - val_loss: 0.0955 - val_mae: 0.2128\n",
            "Epoch 80/100\n",
            "9/9 [==============================] - 0s 4ms/step - loss: 0.0587 - mae: 0.1780 - val_loss: 0.0935 - val_mae: 0.2096\n",
            "Epoch 81/100\n",
            "9/9 [==============================] - 0s 4ms/step - loss: 0.0583 - mae: 0.1775 - val_loss: 0.0925 - val_mae: 0.2080\n",
            "Epoch 82/100\n",
            "9/9 [==============================] - 0s 4ms/step - loss: 0.0581 - mae: 0.1785 - val_loss: 0.0932 - val_mae: 0.2090\n",
            "Epoch 83/100\n",
            "9/9 [==============================] - 0s 4ms/step - loss: 0.0575 - mae: 0.1764 - val_loss: 0.0937 - val_mae: 0.2098\n",
            "Epoch 84/100\n",
            "9/9 [==============================] - 0s 4ms/step - loss: 0.0573 - mae: 0.1752 - val_loss: 0.0923 - val_mae: 0.2076\n",
            "Epoch 85/100\n",
            "9/9 [==============================] - 0s 4ms/step - loss: 0.0572 - mae: 0.1766 - val_loss: 0.0935 - val_mae: 0.2093\n",
            "Epoch 86/100\n",
            "9/9 [==============================] - 0s 5ms/step - loss: 0.0566 - mae: 0.1752 - val_loss: 0.0928 - val_mae: 0.2082\n",
            "Epoch 87/100\n",
            "9/9 [==============================] - 0s 4ms/step - loss: 0.0560 - mae: 0.1742 - val_loss: 0.0921 - val_mae: 0.2072\n",
            "Epoch 88/100\n",
            "9/9 [==============================] - 0s 4ms/step - loss: 0.0562 - mae: 0.1741 - val_loss: 0.0917 - val_mae: 0.2064\n",
            "Epoch 89/100\n",
            "9/9 [==============================] - 0s 4ms/step - loss: 0.0555 - mae: 0.1730 - val_loss: 0.0927 - val_mae: 0.2077\n",
            "Epoch 90/100\n",
            "9/9 [==============================] - 0s 4ms/step - loss: 0.0553 - mae: 0.1730 - val_loss: 0.0942 - val_mae: 0.2102\n",
            "Epoch 91/100\n",
            "9/9 [==============================] - 0s 5ms/step - loss: 0.0551 - mae: 0.1726 - val_loss: 0.0917 - val_mae: 0.2061\n",
            "Epoch 92/100\n",
            "9/9 [==============================] - 0s 4ms/step - loss: 0.0546 - mae: 0.1721 - val_loss: 0.0901 - val_mae: 0.2044\n",
            "Epoch 93/100\n",
            "9/9 [==============================] - 0s 4ms/step - loss: 0.0543 - mae: 0.1720 - val_loss: 0.0908 - val_mae: 0.2051\n",
            "Epoch 94/100\n",
            "9/9 [==============================] - 0s 4ms/step - loss: 0.0538 - mae: 0.1717 - val_loss: 0.0948 - val_mae: 0.2116\n",
            "Epoch 95/100\n",
            "9/9 [==============================] - 0s 5ms/step - loss: 0.0541 - mae: 0.1709 - val_loss: 0.0926 - val_mae: 0.2071\n",
            "Epoch 96/100\n",
            "9/9 [==============================] - 0s 4ms/step - loss: 0.0532 - mae: 0.1690 - val_loss: 0.0916 - val_mae: 0.2059\n",
            "Epoch 97/100\n",
            "9/9 [==============================] - 0s 4ms/step - loss: 0.0530 - mae: 0.1693 - val_loss: 0.0914 - val_mae: 0.2053\n",
            "Epoch 98/100\n",
            "9/9 [==============================] - 0s 4ms/step - loss: 0.0533 - mae: 0.1700 - val_loss: 0.0915 - val_mae: 0.2056\n",
            "Epoch 99/100\n",
            "9/9 [==============================] - 0s 4ms/step - loss: 0.0525 - mae: 0.1683 - val_loss: 0.0916 - val_mae: 0.2055\n",
            "Epoch 100/100\n",
            "9/9 [==============================] - 0s 5ms/step - loss: 0.0523 - mae: 0.1683 - val_loss: 0.0915 - val_mae: 0.2056\n"
          ]
        }
      ]
    },
    {
      "cell_type": "code",
      "source": [
        "mae_test=model.evaluate(X_test,y_test)"
      ],
      "metadata": {
        "colab": {
          "base_uri": "https://localhost:8080/"
        },
        "id": "anxvqXwmYL4d",
        "outputId": "e710ef31-95ce-4c31-b0f4-7bdb37693a5b"
      },
      "execution_count": 24,
      "outputs": [
        {
          "output_type": "stream",
          "name": "stdout",
          "text": [
            "4/4 [==============================] - 0s 2ms/step - loss: 0.2852 - mae: 0.2786\n"
          ]
        }
      ]
    },
    {
      "cell_type": "code",
      "source": [
        "model_history.history"
      ],
      "metadata": {
        "colab": {
          "base_uri": "https://localhost:8080/"
        },
        "id": "aJcdAx0BY5sH",
        "outputId": "154dbc15-cac9-4c79-ff36-64de44dab4da"
      },
      "execution_count": 25,
      "outputs": [
        {
          "output_type": "execute_result",
          "data": {
            "text/plain": [
              "{'loss': [3.7051382064819336,\n",
              "  0.8049362301826477,\n",
              "  0.5343937277793884,\n",
              "  0.4030892848968506,\n",
              "  0.3196466863155365,\n",
              "  0.2654058039188385,\n",
              "  0.22918854653835297,\n",
              "  0.20278684794902802,\n",
              "  0.18602553009986877,\n",
              "  0.1711827516555786,\n",
              "  0.15834027528762817,\n",
              "  0.1506919264793396,\n",
              "  0.14323687553405762,\n",
              "  0.13740918040275574,\n",
              "  0.1308312565088272,\n",
              "  0.12692905962467194,\n",
              "  0.12337271124124527,\n",
              "  0.1197231188416481,\n",
              "  0.11679045110940933,\n",
              "  0.11306770890951157,\n",
              "  0.11098860949277878,\n",
              "  0.10840649902820587,\n",
              "  0.10606019198894501,\n",
              "  0.10412035882472992,\n",
              "  0.10202547162771225,\n",
              "  0.10033942013978958,\n",
              "  0.09871717542409897,\n",
              "  0.09766828268766403,\n",
              "  0.09514550119638443,\n",
              "  0.09414675831794739,\n",
              "  0.09169479459524155,\n",
              "  0.09133156388998032,\n",
              "  0.08956059068441391,\n",
              "  0.08890088647603989,\n",
              "  0.0872143805027008,\n",
              "  0.08587538450956345,\n",
              "  0.0849984809756279,\n",
              "  0.08360110223293304,\n",
              "  0.08260929584503174,\n",
              "  0.08193270117044449,\n",
              "  0.08138073235750198,\n",
              "  0.08013880252838135,\n",
              "  0.0792536810040474,\n",
              "  0.07891231775283813,\n",
              "  0.07743605971336365,\n",
              "  0.07673180103302002,\n",
              "  0.07662425935268402,\n",
              "  0.07537805289030075,\n",
              "  0.07462728023529053,\n",
              "  0.07377774268388748,\n",
              "  0.07354874908924103,\n",
              "  0.07276881486177444,\n",
              "  0.07213384658098221,\n",
              "  0.07115931063890457,\n",
              "  0.0709986686706543,\n",
              "  0.07036157697439194,\n",
              "  0.06963209062814713,\n",
              "  0.0686396136879921,\n",
              "  0.06816750019788742,\n",
              "  0.06756195425987244,\n",
              "  0.06686265766620636,\n",
              "  0.06676600873470306,\n",
              "  0.06632716208696365,\n",
              "  0.06521551311016083,\n",
              "  0.0652008131146431,\n",
              "  0.06457929313182831,\n",
              "  0.0641017034649849,\n",
              "  0.06363911926746368,\n",
              "  0.06372969597578049,\n",
              "  0.06247390806674957,\n",
              "  0.06287972629070282,\n",
              "  0.061823535710573196,\n",
              "  0.06132841855287552,\n",
              "  0.06080912798643112,\n",
              "  0.060360345989465714,\n",
              "  0.06008410081267357,\n",
              "  0.059871070086956024,\n",
              "  0.059512265026569366,\n",
              "  0.0590207539498806,\n",
              "  0.058687638491392136,\n",
              "  0.058344028890132904,\n",
              "  0.05810457468032837,\n",
              "  0.057463377714157104,\n",
              "  0.05728677287697792,\n",
              "  0.05717753618955612,\n",
              "  0.05663040280342102,\n",
              "  0.055990301072597504,\n",
              "  0.056206852197647095,\n",
              "  0.055465374141931534,\n",
              "  0.05527661368250847,\n",
              "  0.05511629208922386,\n",
              "  0.054646916687488556,\n",
              "  0.05431630089879036,\n",
              "  0.05380541831254959,\n",
              "  0.0541047528386116,\n",
              "  0.05324331298470497,\n",
              "  0.0529903769493103,\n",
              "  0.05328964814543724,\n",
              "  0.05245288088917732,\n",
              "  0.05227356776595116],\n",
              " 'mae': [1.6836966276168823,\n",
              "  0.7017249464988708,\n",
              "  0.5752459764480591,\n",
              "  0.4938092827796936,\n",
              "  0.43599921464920044,\n",
              "  0.39402514696121216,\n",
              "  0.36459434032440186,\n",
              "  0.3399581015110016,\n",
              "  0.3256673812866211,\n",
              "  0.31226032972335815,\n",
              "  0.2996474802494049,\n",
              "  0.2895280420780182,\n",
              "  0.28219056129455566,\n",
              "  0.2765856087207794,\n",
              "  0.27008044719696045,\n",
              "  0.2672607898712158,\n",
              "  0.26079463958740234,\n",
              "  0.2575516104698181,\n",
              "  0.254096657037735,\n",
              "  0.25079062581062317,\n",
              "  0.24772337079048157,\n",
              "  0.24551154673099518,\n",
              "  0.24341312050819397,\n",
              "  0.24072577059268951,\n",
              "  0.2377438098192215,\n",
              "  0.23612481355667114,\n",
              "  0.23474040627479553,\n",
              "  0.23312076926231384,\n",
              "  0.23032717406749725,\n",
              "  0.22899797558784485,\n",
              "  0.2242906093597412,\n",
              "  0.2252093106508255,\n",
              "  0.2226320207118988,\n",
              "  0.22277042269706726,\n",
              "  0.21947184205055237,\n",
              "  0.2173781394958496,\n",
              "  0.21533043682575226,\n",
              "  0.21498098969459534,\n",
              "  0.21295838057994843,\n",
              "  0.2117132842540741,\n",
              "  0.21176736056804657,\n",
              "  0.20777831971645355,\n",
              "  0.20896875858306885,\n",
              "  0.2083667814731598,\n",
              "  0.20485755801200867,\n",
              "  0.20484599471092224,\n",
              "  0.20457562804222107,\n",
              "  0.2013816386461258,\n",
              "  0.20164291560649872,\n",
              "  0.20024439692497253,\n",
              "  0.19968745112419128,\n",
              "  0.19939686357975006,\n",
              "  0.1982606202363968,\n",
              "  0.1956034153699875,\n",
              "  0.19665047526359558,\n",
              "  0.19494721293449402,\n",
              "  0.19394704699516296,\n",
              "  0.19251245260238647,\n",
              "  0.1923510879278183,\n",
              "  0.19126923382282257,\n",
              "  0.19007429480552673,\n",
              "  0.18904484808444977,\n",
              "  0.18932251632213593,\n",
              "  0.18721552193164825,\n",
              "  0.18661130964756012,\n",
              "  0.18702276051044464,\n",
              "  0.18775548040866852,\n",
              "  0.18553440272808075,\n",
              "  0.18525953590869904,\n",
              "  0.1833256185054779,\n",
              "  0.18389905989170074,\n",
              "  0.18312926590442657,\n",
              "  0.1821461319923401,\n",
              "  0.18100577592849731,\n",
              "  0.18081386387348175,\n",
              "  0.1794734001159668,\n",
              "  0.18068662285804749,\n",
              "  0.179478257894516,\n",
              "  0.17917893826961517,\n",
              "  0.1780453324317932,\n",
              "  0.17747966945171356,\n",
              "  0.1784556359052658,\n",
              "  0.17644330859184265,\n",
              "  0.17523305118083954,\n",
              "  0.17655931413173676,\n",
              "  0.17523397505283356,\n",
              "  0.17421230673789978,\n",
              "  0.17407386004924774,\n",
              "  0.1730293333530426,\n",
              "  0.1729617714881897,\n",
              "  0.17258848249912262,\n",
              "  0.1721220761537552,\n",
              "  0.1719990074634552,\n",
              "  0.17167216539382935,\n",
              "  0.1709270179271698,\n",
              "  0.1689949333667755,\n",
              "  0.16931965947151184,\n",
              "  0.16999483108520508,\n",
              "  0.16832783818244934,\n",
              "  0.16831615567207336],\n",
              " 'val_loss': [1.5133638381958008,\n",
              "  0.7741311192512512,\n",
              "  0.5642631649971008,\n",
              "  0.43338268995285034,\n",
              "  0.3577382564544678,\n",
              "  0.3054460287094116,\n",
              "  0.26267650723457336,\n",
              "  0.2522294819355011,\n",
              "  0.2187608778476715,\n",
              "  0.19775348901748657,\n",
              "  0.19046558439731598,\n",
              "  0.17828206717967987,\n",
              "  0.17348970472812653,\n",
              "  0.1619051843881607,\n",
              "  0.15521930158138275,\n",
              "  0.15642257034778595,\n",
              "  0.14769746363162994,\n",
              "  0.14594785869121552,\n",
              "  0.13998661935329437,\n",
              "  0.13404794037342072,\n",
              "  0.1295124590396881,\n",
              "  0.13211990892887115,\n",
              "  0.1278572529554367,\n",
              "  0.1268416792154312,\n",
              "  0.12386476248502731,\n",
              "  0.12210245430469513,\n",
              "  0.1205374151468277,\n",
              "  0.11659086495637894,\n",
              "  0.11783446371555328,\n",
              "  0.11673860251903534,\n",
              "  0.11045248806476593,\n",
              "  0.11010609567165375,\n",
              "  0.10983262211084366,\n",
              "  0.1123180165886879,\n",
              "  0.10843606293201447,\n",
              "  0.10737330466508865,\n",
              "  0.105252206325531,\n",
              "  0.10687749832868576,\n",
              "  0.10525701195001602,\n",
              "  0.10388299822807312,\n",
              "  0.1059630736708641,\n",
              "  0.10230737179517746,\n",
              "  0.10373809933662415,\n",
              "  0.10475603491067886,\n",
              "  0.10139168053865433,\n",
              "  0.10185729712247849,\n",
              "  0.10267775505781174,\n",
              "  0.09995279461145401,\n",
              "  0.09915020316839218,\n",
              "  0.10001449286937714,\n",
              "  0.09716325998306274,\n",
              "  0.0991758480668068,\n",
              "  0.09901721030473709,\n",
              "  0.0962945744395256,\n",
              "  0.09671885520219803,\n",
              "  0.09831491112709045,\n",
              "  0.09745808690786362,\n",
              "  0.09724865853786469,\n",
              "  0.09686886519193649,\n",
              "  0.09822580218315125,\n",
              "  0.09728319942951202,\n",
              "  0.09481534361839294,\n",
              "  0.09527572989463806,\n",
              "  0.09583964198827744,\n",
              "  0.09404998272657394,\n",
              "  0.09338615834712982,\n",
              "  0.09540674090385437,\n",
              "  0.0955636277794838,\n",
              "  0.09428064525127411,\n",
              "  0.09455172717571259,\n",
              "  0.09309668093919754,\n",
              "  0.09451692551374435,\n",
              "  0.09350667893886566,\n",
              "  0.09310109168291092,\n",
              "  0.09385895729064941,\n",
              "  0.09170248359441757,\n",
              "  0.09233442693948746,\n",
              "  0.09504352509975433,\n",
              "  0.09551779180765152,\n",
              "  0.09352505207061768,\n",
              "  0.09252568334341049,\n",
              "  0.09316486865282059,\n",
              "  0.09373927861452103,\n",
              "  0.09229318797588348,\n",
              "  0.09348621219396591,\n",
              "  0.09282276779413223,\n",
              "  0.09206593036651611,\n",
              "  0.09170343726873398,\n",
              "  0.0927116721868515,\n",
              "  0.09423372149467468,\n",
              "  0.09165635704994202,\n",
              "  0.09010482579469681,\n",
              "  0.0908176451921463,\n",
              "  0.09482825547456741,\n",
              "  0.09255661070346832,\n",
              "  0.09163673967123032,\n",
              "  0.0913667380809784,\n",
              "  0.09152241796255112,\n",
              "  0.09162767976522446,\n",
              "  0.09149736166000366],\n",
              " 'val_mae': [1.0269722938537598,\n",
              "  0.6937777996063232,\n",
              "  0.5909202098846436,\n",
              "  0.5209590196609497,\n",
              "  0.474153608083725,\n",
              "  0.4403264820575714,\n",
              "  0.4062633812427521,\n",
              "  0.40266698598861694,\n",
              "  0.36896583437919617,\n",
              "  0.34782111644744873,\n",
              "  0.34272006154060364,\n",
              "  0.3285563886165619,\n",
              "  0.3247518241405487,\n",
              "  0.3103363513946533,\n",
              "  0.3029641807079315,\n",
              "  0.3050406873226166,\n",
              "  0.2948307693004608,\n",
              "  0.29306286573410034,\n",
              "  0.28566184639930725,\n",
              "  0.2781432271003723,\n",
              "  0.2719939351081848,\n",
              "  0.27570080757141113,\n",
              "  0.269998162984848,\n",
              "  0.26840639114379883,\n",
              "  0.2644014060497284,\n",
              "  0.2618047893047333,\n",
              "  0.2594219148159027,\n",
              "  0.25349414348602295,\n",
              "  0.25522199273109436,\n",
              "  0.2534109950065613,\n",
              "  0.2435075044631958,\n",
              "  0.24291928112506866,\n",
              "  0.24241332709789276,\n",
              "  0.2460053265094757,\n",
              "  0.23990710079669952,\n",
              "  0.23813000321388245,\n",
              "  0.23449164628982544,\n",
              "  0.23688194155693054,\n",
              "  0.2342454046010971,\n",
              "  0.23219072818756104,\n",
              "  0.2346910536289215,\n",
              "  0.22932247817516327,\n",
              "  0.23094715178012848,\n",
              "  0.23189902305603027,\n",
              "  0.22713503241539001,\n",
              "  0.22731463611125946,\n",
              "  0.2279977947473526,\n",
              "  0.2243843525648117,\n",
              "  0.22316789627075195,\n",
              "  0.2237195521593094,\n",
              "  0.219880148768425,\n",
              "  0.222026988863945,\n",
              "  0.2214006781578064,\n",
              "  0.2180461436510086,\n",
              "  0.2181854248046875,\n",
              "  0.21979911625385284,\n",
              "  0.21841898560523987,\n",
              "  0.2181921750307083,\n",
              "  0.217411607503891,\n",
              "  0.21869896352291107,\n",
              "  0.2173227220773697,\n",
              "  0.21405960619449615,\n",
              "  0.2147105187177658,\n",
              "  0.2151598036289215,\n",
              "  0.2125479280948639,\n",
              "  0.21142899990081787,\n",
              "  0.21380825340747833,\n",
              "  0.21376754343509674,\n",
              "  0.2121172398328781,\n",
              "  0.2122655212879181,\n",
              "  0.21009308099746704,\n",
              "  0.21187862753868103,\n",
              "  0.21054194867610931,\n",
              "  0.20977911353111267,\n",
              "  0.21061240136623383,\n",
              "  0.20763026177883148,\n",
              "  0.20816168189048767,\n",
              "  0.21220777928829193,\n",
              "  0.21280518174171448,\n",
              "  0.20960864424705505,\n",
              "  0.20801781117916107,\n",
              "  0.20904894173145294,\n",
              "  0.20981164276599884,\n",
              "  0.20760463178157806,\n",
              "  0.20929445326328278,\n",
              "  0.20823362469673157,\n",
              "  0.20720422267913818,\n",
              "  0.2064274698495865,\n",
              "  0.20771585404872894,\n",
              "  0.21022748947143555,\n",
              "  0.20608745515346527,\n",
              "  0.204404816031456,\n",
              "  0.2050982415676117,\n",
              "  0.21156540513038635,\n",
              "  0.20709282159805298,\n",
              "  0.2058529555797577,\n",
              "  0.20534178614616394,\n",
              "  0.20555119216442108,\n",
              "  0.2055327147245407,\n",
              "  0.20558014512062073]}"
            ]
          },
          "metadata": {},
          "execution_count": 25
        }
      ]
    },
    {
      "cell_type": "code",
      "source": [
        "pd.DataFrame(model_history.history).plot(figsize=(8,5))\n",
        "plt.grid(True)\n",
        "plt.gca().set_ylim(0,1)\n",
        "\n",
        "plt.show()"
      ],
      "metadata": {
        "colab": {
          "base_uri": "https://localhost:8080/",
          "height": 324
        },
        "id": "RbkkGFkFY8id",
        "outputId": "21d0c047-9ab2-4bd7-f6f7-18bcac725e97"
      },
      "execution_count": 26,
      "outputs": [
        {
          "output_type": "display_data",
          "data": {
            "text/plain": [
              "<Figure size 576x360 with 1 Axes>"
            ],
            "image/png": "[encoded data removed]"
          },
          "metadata": {
            "needs_background": "light"
          }
        }
      ]
    },
    {
      "cell_type": "code",
      "source": [
        "X_new= X_test[:6]"
      ],
      "metadata": {
        "id": "h3yxJDAzZBkw"
      },
      "execution_count": 27,
      "outputs": []
    },
    {
      "cell_type": "code",
      "source": [
        "y_pred= model.predict(X_new)\n",
        "print(y_pred)"
      ],
      "metadata": {
        "id": "s1icMubEZK3u",
        "colab": {
          "base_uri": "https://localhost:8080/"
        },
        "outputId": "2cf77e79-b4dc-490e-d6dc-10fae882339a"
      },
      "execution_count": 28,
      "outputs": [
        {
          "output_type": "stream",
          "name": "stdout",
          "text": [
            "1/1 [==============================] - 0s 76ms/step\n",
            "[[2.514576 ]\n",
            " [2.663156 ]\n",
            " [1.8457003]\n",
            " [2.47076  ]\n",
            " [1.7309105]\n",
            " [2.4071996]]\n"
          ]
        }
      ]
    },
    {
      "cell_type": "code",
      "source": [
        "y_test[:6]"
      ],
      "metadata": {
        "id": "M9EngGMdZPKp",
        "colab": {
          "base_uri": "https://localhost:8080/",
          "height": 237
        },
        "outputId": "0ed7402a-0324-4ba2-e116-d89aba72476c"
      },
      "execution_count": 29,
      "outputs": [
        {
          "output_type": "execute_result",
          "data": {
            "text/plain": [
              "     Collection\n",
              "173    2.240000\n",
              "274    2.826667\n",
              "491    1.573333\n",
              "72     2.186667\n",
              "452    1.740000\n",
              "76     2.000000"
            ],
            "text/html": [
              "\n",
              "  <div id=\"df-97986645-5e5a-44a9-815f-e12ae400fece\">\n",
              "    <div class=\"colab-df-container\">\n",
              "      <div>\n",
              "<style scoped>\n",
              "    .dataframe tbody tr th:only-of-type {\n",
              "        vertical-align: middle;\n",
              "    }\n",
              "\n",
              "    .dataframe tbody tr th {\n",
              "        vertical-align: top;\n",
              "    }\n",
              "\n",
              "    .dataframe thead th {\n",
              "        text-align: right;\n",
              "    }\n",
              "</style>\n",
              "<table border=\"1\" class=\"dataframe\">\n",
              "  <thead>\n",
              "    <tr style=\"text-align: right;\">\n",
              "      <th></th>\n",
              "      <th>Collection</th>\n",
              "    </tr>\n",
              "  </thead>\n",
              "  <tbody>\n",
              "    <tr>\n",
              "      <th>173</th>\n",
              "      <td>2.240000</td>\n",
              "    </tr>\n",
              "    <tr>\n",
              "      <th>274</th>\n",
              "      <td>2.826667</td>\n",
              "    </tr>\n",
              "    <tr>\n",
              "      <th>491</th>\n",
              "      <td>1.573333</td>\n",
              "    </tr>\n",
              "    <tr>\n",
              "      <th>72</th>\n",
              "      <td>2.186667</td>\n",
              "    </tr>\n",
              "    <tr>\n",
              "      <th>452</th>\n",
              "      <td>1.740000</td>\n",
              "    </tr>\n",
              "    <tr>\n",
              "      <th>76</th>\n",
              "      <td>2.000000</td>\n",
              "    </tr>\n",
              "  </tbody>\n",
              "</table>\n",
              "</div>\n",
              "      <button class=\"colab-df-convert\" onclick=\"convertToInteractive('df-97986645-5e5a-44a9-815f-e12ae400fece')\"\n",
              "              title=\"Convert this dataframe to an interactive table.\"\n",
              "              style=\"display:none;\">\n",
              "        \n",
              "  <svg xmlns=\"http://www.w3.org/2000/svg\" height=\"24px\"viewBox=\"0 0 24 24\"\n",
              "       width=\"24px\">\n",
              "    <path d=\"M0 0h24v24H0V0z\" fill=\"none\"/>\n",
              "    <path d=\"M18.56 5.44l.94 2.06.94-2.06 2.06-.94-2.06-.94-.94-2.06-.94 2.06-2.06.94zm-11 1L8.5 8.5l.94-2.06 2.06-.94-2.06-.94L8.5 2.5l-.94 2.06-2.06.94zm10 10l.94 2.06.94-2.06 2.06-.94-2.06-.94-.94-2.06-.94 2.06-2.06.94z\"/><path d=\"M17.41 7.96l-1.37-1.37c-.4-.4-.92-.59-1.43-.59-.52 0-1.04.2-1.43.59L10.3 9.45l-7.72 7.72c-.78.78-.78 2.05 0 2.83L4 21.41c.39.39.9.59 1.41.59.51 0 1.02-.2 1.41-.59l7.78-7.78 2.81-2.81c.8-.78.8-2.07 0-2.86zM5.41 20L4 18.59l7.72-7.72 1.47 1.35L5.41 20z\"/>\n",
              "  </svg>\n",
              "      </button>\n",
              "      \n",
              "  <style>\n",
              "    .colab-df-container {\n",
              "      display:flex;\n",
              "      flex-wrap:wrap;\n",
              "      gap: 12px;\n",
              "    }\n",
              "\n",
              "    .colab-df-convert {\n",
              "      background-color: #E8F0FE;\n",
              "      border: none;\n",
              "      border-radius: 50%;\n",
              "      cursor: pointer;\n",
              "      display: none;\n",
              "      fill: #1967D2;\n",
              "      height: 32px;\n",
              "      padding: 0 0 0 0;\n",
              "      width: 32px;\n",
              "    }\n",
              "\n",
              "    .colab-df-convert:hover {\n",
              "      background-color: #E2EBFA;\n",
              "      box-shadow: 0px 1px 2px rgba(60, 64, 67, 0.3), 0px 1px 3px 1px rgba(60, 64, 67, 0.15);\n",
              "      fill: #174EA6;\n",
              "    }\n",
              "\n",
              "    [theme=dark] .colab-df-convert {\n",
              "      background-color: #3B4455;\n",
              "      fill: #D2E3FC;\n",
              "    }\n",
              "\n",
              "    [theme=dark] .colab-df-convert:hover {\n",
              "      background-color: #434B5C;\n",
              "      box-shadow: 0px 1px 3px 1px rgba(0, 0, 0, 0.15);\n",
              "      filter: drop-shadow(0px 1px 2px rgba(0, 0, 0, 0.3));\n",
              "      fill: #FFFFFF;\n",
              "    }\n",
              "  </style>\n",
              "\n",
              "      <script>\n",
              "        const buttonEl =\n",
              "          document.querySelector('#df-97986645-5e5a-44a9-815f-e12ae400fece button.colab-df-convert');\n",
              "        buttonEl.style.display =\n",
              "          google.colab.kernel.accessAllowed ? 'block' : 'none';\n",
              "\n",
              "        async function convertToInteractive(key) {\n",
              "          const element = document.querySelector('#df-97986645-5e5a-44a9-815f-e12ae400fece');\n",
              "          const dataTable =\n",
              "            await google.colab.kernel.invokeFunction('convertToInteractive',\n",
              "                                                     [key], {});\n",
              "          if (!dataTable) return;\n",
              "\n",
              "          const docLinkHtml = 'Like what you see? Visit the ' +\n",
              "            '<a target=\"_blank\" href=https://colab.research.google.com/notebooks/data_table.ipynb>data table notebook</a>'\n",
              "            + ' to learn more about interactive tables.';\n",
              "          element.innerHTML = '';\n",
              "          dataTable['output_type'] = 'display_data';\n",
              "          await google.colab.output.renderOutput(dataTable, element);\n",
              "          const docLink = document.createElement('div');\n",
              "          docLink.innerHTML = docLinkHtml;\n",
              "          element.appendChild(docLink);\n",
              "        }\n",
              "      </script>\n",
              "    </div>\n",
              "  </div>\n",
              "  "
            ]
          },
          "metadata": {},
          "execution_count": 29
        }
      ]
    },
    {
      "cell_type": "code",
      "source": [],
      "metadata": {
        "id": "AwEplEkoZtW-"
      },
      "execution_count": 29,
      "outputs": []
    }
  ]
}