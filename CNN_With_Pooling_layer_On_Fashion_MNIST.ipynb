{
  "nbformat": 4,
  "nbformat_minor": 0,
  "metadata": {
    "colab": {
      "provenance": []
    },
    "kernelspec": {
      "name": "python3",
      "display_name": "Python 3"
    },
    "language_info": {
      "name": "python"
    }
  },
  "cells": [
    {
      "cell_type": "code",
      "execution_count": 1,
      "metadata": {
        "id": "Gt8Ul2pPEoTC"
      },
      "outputs": [],
      "source": [
        "import numpy as np\n",
        "import pandas as pd\n",
        "%matplotlib inline\n",
        "import matplotlib as mlp\n",
        "import matplotlib.pyplot as plt"
      ]
    },
    {
      "cell_type": "code",
      "source": [
        "import tensorflow as tf\n",
        "from tensorflow import keras"
      ],
      "metadata": {
        "id": "Ki9SJHSVFC07"
      },
      "execution_count": 2,
      "outputs": []
    },
    {
      "cell_type": "code",
      "source": [
        "fashion_mnist=keras.datasets.fashion_mnist\n",
        "(X_train_full,y_train_full),(X_test,y_test)=fashion_mnist.load_data()"
      ],
      "metadata": {
        "colab": {
          "base_uri": "https://localhost:8080/"
        },
        "id": "c7U3Gn5xFPEu",
        "outputId": "2c4886d4-b981-441d-d50f-a7021c72d22a"
      },
      "execution_count": 4,
      "outputs": [
        {
          "output_type": "stream",
          "name": "stdout",
          "text": [
            "Downloading data from https://storage.googleapis.com/tensorflow/tf-keras-datasets/train-labels-idx1-ubyte.gz\n",
            "29515/29515 [==============================] - 0s 0us/step\n",
            "Downloading data from https://storage.googleapis.com/tensorflow/tf-keras-datasets/train-images-idx3-ubyte.gz\n",
            "26421880/26421880 [==============================] - 0s 0us/step\n",
            "Downloading data from https://storage.googleapis.com/tensorflow/tf-keras-datasets/t10k-labels-idx1-ubyte.gz\n",
            "5148/5148 [==============================] - 0s 0us/step\n",
            "Downloading data from https://storage.googleapis.com/tensorflow/tf-keras-datasets/t10k-images-idx3-ubyte.gz\n",
            "4422102/4422102 [==============================] - 0s 0us/step\n"
          ]
        }
      ]
    },
    {
      "cell_type": "code",
      "source": [
        "class_names=[\"T-shirts/top\",\"trousers\",\"Pullovers\",\"Dress\",\"Coat\",\"Sandal\",\"Shirt\",\"Sneaker\",\"Bag\",\"Ankle Boot\"]"
      ],
      "metadata": {
        "id": "unHDRy_IFvU0"
      },
      "execution_count": 5,
      "outputs": []
    },
    {
      "cell_type": "code",
      "source": [
        "# Data reshaping is to be done in CNN and was not done in ANN.\n",
        "# In ANN , we had first 'flatten' our dataset but here we will convert our 2D dataset into 3D dataset by adding 'channnel' or 'feature map' as a dimension."
      ],
      "metadata": {
        "id": "ijAfqx2JGFp7"
      },
      "execution_count": 6,
      "outputs": []
    },
    {
      "cell_type": "code",
      "source": [
        "X_train_full=X_train_full.reshape((60000,28,28,1))  # 60000 images are in training dataset\n",
        "X_test=X_test.reshape((10000,28,28,1))              # 10000 images are in testing dataset"
      ],
      "metadata": {
        "id": "RxSB5jq0MDQi"
      },
      "execution_count": 8,
      "outputs": []
    },
    {
      "cell_type": "code",
      "source": [
        "# Data Normalization\n",
        "X_train_n=X_train_full/255.\n",
        "X_test_n=X_test/255."
      ],
      "metadata": {
        "id": "DmyTg_bqMdqQ"
      },
      "execution_count": 9,
      "outputs": []
    },
    {
      "cell_type": "code",
      "source": [
        "#dividing data into train,test and validation\n",
        "X_valid,X_train=X_train_n[:5000],X_train_n[5000:]\n",
        "y_valid,y_train=y_train_full[:5000],y_train_full[5000:]\n",
        "X_test=X_test_n"
      ],
      "metadata": {
        "id": "pM4WaK0_M49v"
      },
      "execution_count": 13,
      "outputs": []
    },
    {
      "cell_type": "code",
      "source": [
        "#creating Model architecture"
      ],
      "metadata": {
        "id": "Wmk7_M7aRvQY"
      },
      "execution_count": 14,
      "outputs": []
    },
    {
      "cell_type": "code",
      "source": [
        "np.random.seed(42)\n",
        "tf.random.set_seed(42)"
      ],
      "metadata": {
        "id": "PK-bFzR8R1lv"
      },
      "execution_count": 15,
      "outputs": []
    },
    {
      "cell_type": "code",
      "source": [
        "# CNN uses ANN. ANN will be added after CNN layers."
      ],
      "metadata": {
        "id": "bQSxwIhfSr21"
      },
      "execution_count": 16,
      "outputs": []
    },
    {
      "cell_type": "code",
      "source": [
        "# number of 'filters' is equal to number of 'feature maps' or 'channels' as each 'filter' gives rise to one feature map. This will give height to a convolutionary layer."
      ],
      "metadata": {
        "id": "quUKKkxsUA40"
      },
      "execution_count": 20,
      "outputs": []
    },
    {
      "cell_type": "code",
      "source": [
        "model= keras.models.Sequential()\n",
        "model.add(keras.layers.Conv2D(filters=32,kernel_size=(3,3),strides=1,padding='valid',activation='relu',input_shape=(28,28,1)))\n",
        "# filter means feature maps or channels. So, these filters give height to a 'convolutionary layer'.\n",
        "# kernel_size means filter size.\n",
        "# Activation function will always be 'Rectified Linear Unit(ReLU)' in CNN.\n",
        "# In input_shape=(28,28,1) ; '1' is number of 'channel' / 'feature-map' / 'filter' .In a coloured picture, this number will be 3.\n",
        "model.add(keras.layers.MaxPooling2D((2,2)))\n",
        "# Pooling layer is used so, as to reduce time , number of computations ,load on system (pc, laptop etc) etc .Pooling layers do not overlap.\n",
        "# So, receptive field is of 2 x 2. As pooling layer is a receptive field.\n",
        "\n",
        "# ANN starts from here:\n",
        "model.add(keras.layers.Flatten())\n",
        "model.add(keras.layers.Dense(300,activation=\"relu\"))\n",
        "model.add(keras.layers.Dense(100,activation=\"relu\"))\n",
        "model.add(keras.layers.Dense(10,activation=\"softmax\"))"
      ],
      "metadata": {
        "id": "OxliK9elVFCr"
      },
      "execution_count": 27,
      "outputs": []
    },
    {
      "cell_type": "code",
      "source": [
        "import pydot\n",
        "keras.utils.plot_model(model)"
      ],
      "metadata": {
        "colab": {
          "base_uri": "https://localhost:8080/",
          "height": 661
        },
        "id": "IqbtALS4atKH",
        "outputId": "1b805652-f770-470f-cd9e-80f5745f1111"
      },
      "execution_count": 28,
      "outputs": [
        {
          "output_type": "execute_result",
          "data": {
            "image/png": "[encoded data removed]",
            "text/plain": [
              "<IPython.core.display.Image object>"
            ]
          },
          "metadata": {},
          "execution_count": 28
        }
      ]
    },
    {
      "cell_type": "code",
      "source": [
        "model.summary()"
      ],
      "metadata": {
        "colab": {
          "base_uri": "https://localhost:8080/"
        },
        "id": "1HqGPaVmbi0K",
        "outputId": "99727a08-b010-4921-b938-6081360df153"
      },
      "execution_count": 29,
      "outputs": [
        {
          "output_type": "stream",
          "name": "stdout",
          "text": [
            "Model: \"sequential_4\"\n",
            "_________________________________________________________________\n",
            " Layer (type)                Output Shape              Param #   \n",
            "=================================================================\n",
            " conv2d_4 (Conv2D)           (None, 26, 26, 32)        320       \n",
            "                                                                 \n",
            " max_pooling2d_3 (MaxPooling  (None, 13, 13, 32)       0         \n",
            " 2D)                                                             \n",
            "                                                                 \n",
            " flatten_3 (Flatten)         (None, 5408)              0         \n",
            "                                                                 \n",
            " dense_9 (Dense)             (None, 300)               1622700   \n",
            "                                                                 \n",
            " dense_10 (Dense)            (None, 100)               30100     \n",
            "                                                                 \n",
            " dense_11 (Dense)            (None, 10)                1010      \n",
            "                                                                 \n",
            "=================================================================\n",
            "Total params: 1,654,130\n",
            "Trainable params: 1,654,130\n",
            "Non-trainable params: 0\n",
            "_________________________________________________________________\n"
          ]
        }
      ]
    },
    {
      "cell_type": "code",
      "source": [
        "# from summary , due to use of maxpooling our parameters are lesser otherwise, due to overlapp, number of parameters would have crossed 4 or 5 millions."
      ],
      "metadata": {
        "id": "BYEkFs1GbpYB"
      },
      "execution_count": 30,
      "outputs": []
    },
    {
      "cell_type": "code",
      "source": [
        "model.compile(loss=\"sparse_categorical_crossentropy\",\n",
        "              optimizer=\"sgd\",\n",
        "              metrics=['accuracy'])"
      ],
      "metadata": {
        "id": "cSulpx5qcM03"
      },
      "execution_count": 31,
      "outputs": []
    },
    {
      "cell_type": "code",
      "source": [
        "model_history=model.fit(X_train,y_train,epochs=10,batch_size=64,validation_data=(X_valid,y_valid))"
      ],
      "metadata": {
        "colab": {
          "base_uri": "https://localhost:8080/"
        },
        "id": "YDI9YE29c5OQ",
        "outputId": "6c0964f0-d456-47de-c78a-8481b852e61a"
      },
      "execution_count": 32,
      "outputs": [
        {
          "output_type": "stream",
          "name": "stdout",
          "text": [
            "Epoch 1/10\n",
            "860/860 [==============================] - 41s 47ms/step - loss: 0.8642 - accuracy: 0.7054 - val_loss: 0.7889 - val_accuracy: 0.7098\n",
            "Epoch 2/10\n",
            "860/860 [==============================] - 42s 48ms/step - loss: 0.5295 - accuracy: 0.8084 - val_loss: 0.4881 - val_accuracy: 0.8158\n",
            "Epoch 3/10\n",
            "860/860 [==============================] - 41s 48ms/step - loss: 0.4736 - accuracy: 0.8301 - val_loss: 0.9143 - val_accuracy: 0.7018\n",
            "Epoch 4/10\n",
            "860/860 [==============================] - 41s 48ms/step - loss: 0.4350 - accuracy: 0.8452 - val_loss: 0.4127 - val_accuracy: 0.8554\n",
            "Epoch 5/10\n",
            "860/860 [==============================] - 40s 46ms/step - loss: 0.4110 - accuracy: 0.8523 - val_loss: 0.4123 - val_accuracy: 0.8526\n",
            "Epoch 6/10\n",
            "860/860 [==============================] - 40s 46ms/step - loss: 0.3862 - accuracy: 0.8610 - val_loss: 0.3638 - val_accuracy: 0.8748\n",
            "Epoch 7/10\n",
            "860/860 [==============================] - 40s 46ms/step - loss: 0.3691 - accuracy: 0.8671 - val_loss: 0.3988 - val_accuracy: 0.8584\n",
            "Epoch 8/10\n",
            "860/860 [==============================] - 41s 47ms/step - loss: 0.3541 - accuracy: 0.8723 - val_loss: 0.4998 - val_accuracy: 0.8180\n",
            "Epoch 9/10\n",
            "860/860 [==============================] - 39s 45ms/step - loss: 0.3414 - accuracy: 0.8758 - val_loss: 0.3639 - val_accuracy: 0.8648\n",
            "Epoch 10/10\n",
            "860/860 [==============================] - 39s 46ms/step - loss: 0.3294 - accuracy: 0.8806 - val_loss: 0.3633 - val_accuracy: 0.8646\n"
          ]
        }
      ]
    },
    {
      "cell_type": "code",
      "source": [
        "import pandas as pd\n",
        "pd.DataFrame(model_history.history).plot(figsize=(8,5))\n",
        "plt.grid(True)\n",
        "plt.gca().set_ylim(0,1)\n",
        "plt.show()"
      ],
      "metadata": {
        "colab": {
          "base_uri": "https://localhost:8080/",
          "height": 324
        },
        "id": "NoULXxGIdTVY",
        "outputId": "8a1e56e1-dbba-42cb-e420-74662087d51e"
      },
      "execution_count": 33,
      "outputs": [
        {
          "output_type": "display_data",
          "data": {
            "text/plain": [
              "<Figure size 576x360 with 1 Axes>"
            ],
            "image/png": "[encoded data removed]"
          },
          "metadata": {
            "needs_background": "light"
          }
        }
      ]
    },
    {
      "cell_type": "code",
      "source": [
        "model.evaluate(X_test_n,y_test)"
      ],
      "metadata": {
        "colab": {
          "base_uri": "https://localhost:8080/"
        },
        "id": "xYp-adXQfWMo",
        "outputId": "6acb7ea5-92bf-4fcb-9cd4-e90094c26c3d"
      },
      "execution_count": 34,
      "outputs": [
        {
          "output_type": "stream",
          "name": "stdout",
          "text": [
            "313/313 [==============================] - 3s 11ms/step - loss: 0.4004 - accuracy: 0.8513\n"
          ]
        },
        {
          "output_type": "execute_result",
          "data": {
            "text/plain": [
              "[0.40038353204727173, 0.8513000011444092]"
            ]
          },
          "metadata": {},
          "execution_count": 34
        }
      ]
    },
    {
      "cell_type": "code",
      "source": [
        "# first value is 'loss' and second is 'accuracy'."
      ],
      "metadata": {
        "id": "xJpWMWImgnIU"
      },
      "execution_count": 35,
      "outputs": []
    },
    {
      "cell_type": "code",
      "source": [
        "X_new=X_test[:3]"
      ],
      "metadata": {
        "id": "C69u651Wh9lI"
      },
      "execution_count": 36,
      "outputs": []
    },
    {
      "cell_type": "code",
      "source": [
        "y_pred=model.predict(X_new)"
      ],
      "metadata": {
        "colab": {
          "base_uri": "https://localhost:8080/"
        },
        "id": "Q7KjwQ8-iIsr",
        "outputId": "0799d4ef-a7db-4b15-92af-6a84a03cf11f"
      },
      "execution_count": 38,
      "outputs": [
        {
          "output_type": "stream",
          "name": "stdout",
          "text": [
            "1/1 [==============================] - 0s 94ms/step\n"
          ]
        }
      ]
    },
    {
      "cell_type": "code",
      "source": [
        "y_pred"
      ],
      "metadata": {
        "colab": {
          "base_uri": "https://localhost:8080/"
        },
        "id": "ImsRqTL5iQxE",
        "outputId": "cee6b553-5918-4c0e-ab86-31ec83fb9391"
      },
      "execution_count": 40,
      "outputs": [
        {
          "output_type": "execute_result",
          "data": {
            "text/plain": [
              "array([[2.41213893e-05, 2.68388503e-05, 7.62245254e-05, 3.09796851e-05,\n",
              "        1.53895617e-05, 6.85425941e-03, 3.40792503e-05, 4.36829850e-02,\n",
              "        3.95700382e-03, 9.45298076e-01],\n",
              "       [1.28365617e-04, 3.94206552e-07, 9.89951909e-01, 2.32047514e-05,\n",
              "        5.57374733e-04, 1.30406036e-07, 9.33710579e-03, 1.36411071e-09,\n",
              "        1.28394868e-06, 2.24648105e-07],\n",
              "       [1.45069714e-06, 9.99982715e-01, 1.00705726e-07, 9.70262772e-06,\n",
              "        5.79805919e-06, 1.50124606e-08, 5.31750857e-08, 2.25950778e-08,\n",
              "        3.28893819e-08, 1.29765183e-07]], dtype=float32)"
            ]
          },
          "metadata": {},
          "execution_count": 40
        }
      ]
    },
    {
      "cell_type": "code",
      "source": [
        "y_pred.round(2)"
      ],
      "metadata": {
        "colab": {
          "base_uri": "https://localhost:8080/"
        },
        "id": "i1lvTA9tiX21",
        "outputId": "e6962566-e538-4933-ddb9-15b23b7a0852"
      },
      "execution_count": 42,
      "outputs": [
        {
          "output_type": "execute_result",
          "data": {
            "text/plain": [
              "array([[0.  , 0.  , 0.  , 0.  , 0.  , 0.01, 0.  , 0.04, 0.  , 0.95],\n",
              "       [0.  , 0.  , 0.99, 0.  , 0.  , 0.  , 0.01, 0.  , 0.  , 0.  ],\n",
              "       [0.  , 1.  , 0.  , 0.  , 0.  , 0.  , 0.  , 0.  , 0.  , 0.  ]],\n",
              "      dtype=float32)"
            ]
          },
          "metadata": {},
          "execution_count": 42
        }
      ]
    },
    {
      "cell_type": "code",
      "source": [
        "y_test[:3]"
      ],
      "metadata": {
        "colab": {
          "base_uri": "https://localhost:8080/"
        },
        "id": "4k7gM29hifGb",
        "outputId": "326d0adb-aec1-472b-c5bc-8be73f95044c"
      },
      "execution_count": 43,
      "outputs": [
        {
          "output_type": "execute_result",
          "data": {
            "text/plain": [
              "array([9, 2, 1], dtype=uint8)"
            ]
          },
          "metadata": {},
          "execution_count": 43
        }
      ]
    },
    {
      "cell_type": "code",
      "source": [
        "# Comparing the above two outcomes, the predicted and test data match."
      ],
      "metadata": {
        "id": "1PJ-5w1viobD"
      },
      "execution_count": 44,
      "outputs": []
    },
    {
      "cell_type": "code",
      "source": [
        "print(plt.imshow(X_test[9].reshape(28,28)))"
      ],
      "metadata": {
        "colab": {
          "base_uri": "https://localhost:8080/",
          "height": 282
        },
        "id": "IUGn6rBwi2L3",
        "outputId": "1a2119a5-33d3-44dd-abca-97267e65664e"
      },
      "execution_count": 45,
      "outputs": [
        {
          "output_type": "stream",
          "name": "stdout",
          "text": [
            "AxesImage(54,36;334.8x217.44)\n"
          ]
        },
        {
          "output_type": "display_data",
          "data": {
            "text/plain": [
              "<Figure size 432x288 with 1 Axes>"
            ],
            "image/png": "[encoded data removed]"
          },
          "metadata": {
            "needs_background": "light"
          }
        }
      ]
    },
    {
      "cell_type": "code",
      "source": [
        "print(plt.imshow(X_test[2].reshape(28,28)))"
      ],
      "metadata": {
        "colab": {
          "base_uri": "https://localhost:8080/",
          "height": 282
        },
        "id": "iGaP2T6jjDiv",
        "outputId": "41f37275-fda6-476f-964d-3c95ca02deaf"
      },
      "execution_count": 46,
      "outputs": [
        {
          "output_type": "stream",
          "name": "stdout",
          "text": [
            "AxesImage(54,36;334.8x217.44)\n"
          ]
        },
        {
          "output_type": "display_data",
          "data": {
            "text/plain": [
              "<Figure size 432x288 with 1 Axes>"
            ],
            "image/png": "[encoded data removed]"
          },
          "metadata": {
            "needs_background": "light"
          }
        }
      ]
    },
    {
      "cell_type": "code",
      "source": [
        "print(plt.imshow(X_test[1].reshape(28,28)))"
      ],
      "metadata": {
        "colab": {
          "base_uri": "https://localhost:8080/",
          "height": 282
        },
        "id": "vWe9McuVjQd9",
        "outputId": "c7ba8301-9f40-4a34-e281-8b7be90108c6"
      },
      "execution_count": 47,
      "outputs": [
        {
          "output_type": "stream",
          "name": "stdout",
          "text": [
            "AxesImage(54,36;334.8x217.44)\n"
          ]
        },
        {
          "output_type": "display_data",
          "data": {
            "text/plain": [
              "<Figure size 432x288 with 1 Axes>"
            ],
            "image/png": "[encoded data removed]"
          },
          "metadata": {
            "needs_background": "light"
          }
        }
      ]
    }
  ]
}